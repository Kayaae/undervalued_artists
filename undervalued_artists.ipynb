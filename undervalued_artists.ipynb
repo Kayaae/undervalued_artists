{
 "cells": [
  {
   "cell_type": "markdown",
   "metadata": {},
   "source": [
    "<h1 style=\"font-size:400%;\n",
    "    font-family:Georgia,serif;\n",
    "\tcolor:#4E443C;\n",
    "\tfont-variant: small-caps; text-transform: none; font-weight: 100; margin-bottom: 0;\" align=\"center\"> Undervalued Artists </h1>\n",
    "    \n",
    "<h1 style=\"font-family:Georgia,serif;\n",
    "\tcolor:#4E443C;\n",
    "\tfont-variant: small; text-transform: none; font-weight: 100; margin-bottom: 0;\" align=\"center\">Identifying the most undervalued artist within 58 000+ artists through time series predictions using multivariate regression</h1>\n",
    "\n",
    "--------"
   ]
  },
  {
   "cell_type": "markdown",
   "metadata": {
    "ExecuteTime": {
     "end_time": "2021-02-15T21:38:20.887422Z",
     "start_time": "2021-02-15T21:38:20.874674Z"
    }
   },
   "source": [
    "## **Table of Contents**\n",
    "* [Background and Purpose](#Background,-Purpose-and-Methodology)\n",
    "* [Data Import and Overview](#Data-Import-and-Overview)\n",
    "* [Exploratory Data Analysis](#Exploratory-Data-Analysis)\n",
    "* [Data Preprocessing](#Preprocessing)\n",
    "* [Machine Learning](#Machine-Learning)\n",
    "* [Predictions](#Predictions)"
   ]
  },
  {
   "cell_type": "markdown",
   "metadata": {},
   "source": [
    "## Background, Purpose and Methodology"
   ]
  },
  {
   "cell_type": "markdown",
   "metadata": {},
   "source": [
    "**Purpose:**\n",
    "- To identify the most undervalued artist within the given dataset.\n",
    "\n",
    "**Assumptions:** \n",
    "- All artists with the provided datasets are unsigned.\n",
    "\n",
    "**Methodology:**\n",
    "- Time series prediction through multivariate regression. \n",
    "\n",
    "**Project Overview:**\n",
    "- Dividing the dataset into three windows of 329 days each. Using the features from window T-1 to predict the mean popularity in window T (lagged values).\n",
    "- Using the 'mean  Spotify popularity score' (the mean popularity is calculated over a period of 329 days for each period) as the target variable.\n",
    "- Using ensemble learning (voting regressor) by ensembling the two best performing models (Linear Regression and Random Forest Regression) to predict the mean Spotify popularity score for the upcoming period.\n",
    "- Finally, proposing the artist that have the highest predicted increase in Spotify popularity and a higher estimated popularity score than 75."
   ]
  },
  {
   "cell_type": "markdown",
   "metadata": {},
   "source": [
    "## Data Import and Overview\n"
   ]
  },
  {
   "cell_type": "code",
   "execution_count": 1,
   "metadata": {
    "ExecuteTime": {
     "end_time": "2021-02-17T19:19:01.209447Z",
     "start_time": "2021-02-17T19:18:59.253396Z"
    }
   },
   "outputs": [],
   "source": [
    "# Data Libraries\n",
    "import pandas as pd\n",
    "import numpy as np\n",
    "\n",
    "# Visualization Libraries\n",
    "%matplotlib inline\n",
    "import matplotlib.pyplot as plt\n",
    "import seaborn as sns"
   ]
  },
  {
   "cell_type": "code",
   "execution_count": 2,
   "metadata": {
    "ExecuteTime": {
     "end_time": "2021-02-17T19:19:34.039142Z",
     "start_time": "2021-02-17T19:19:12.027036Z"
    }
   },
   "outputs": [],
   "source": [
    "# Reading all four datasets\n",
    "artist_history = pd.read_parquet(\"../artist_history.parquet\",\n",
    "                                          engine=\"pyarrow\")\n",
    "artist_releases = pd.read_parquet(\"../artist_releases.parquet\",\n",
    "                                          engine=\"pyarrow\")\n",
    "artist_metadata = pd.read_parquet(\"../artist_metadata.parquet\",\n",
    "                                          engine=\"pyarrow\")\n",
    "playlist_tracks_history = pd.read_parquet(\"../playlist_tracks_history.parquet\",\n",
    "                                          engine=\"pyarrow\")"
   ]
  },
  {
   "cell_type": "code",
   "execution_count": 853,
   "metadata": {
    "ExecuteTime": {
     "end_time": "2021-02-19T12:57:58.021592Z",
     "start_time": "2021-02-19T12:57:57.934033Z"
    }
   },
   "outputs": [],
   "source": [
    "# Putting all datasets and dataset names in lists.\n",
    "all_datasets = [artist_history, artist_releases, artist_metadata, playlist_tracks_history]\n",
    "dataset_names = [\"artist_history\", \"artist_releases\", \"artist_metadata\", \"playlist_tracks_history\"]"
   ]
  },
  {
   "cell_type": "code",
   "execution_count": 56,
   "metadata": {
    "ExecuteTime": {
     "end_time": "2021-02-15T22:29:56.341815Z",
     "start_time": "2021-02-15T22:29:56.245423Z"
    }
   },
   "outputs": [
    {
     "name": "stdout",
     "output_type": "stream",
     "text": [
      "artist_history\n"
     ]
    },
    {
     "data": {
      "text/html": [
       "<div>\n",
       "<style scoped>\n",
       "    .dataframe tbody tr th:only-of-type {\n",
       "        vertical-align: middle;\n",
       "    }\n",
       "\n",
       "    .dataframe tbody tr th {\n",
       "        vertical-align: top;\n",
       "    }\n",
       "\n",
       "    .dataframe thead th {\n",
       "        text-align: right;\n",
       "    }\n",
       "</style>\n",
       "<table border=\"1\" class=\"dataframe\">\n",
       "  <thead>\n",
       "    <tr style=\"text-align: right;\">\n",
       "      <th></th>\n",
       "      <th>spotify_artist_id</th>\n",
       "      <th>mean_value</th>\n",
       "      <th>platform</th>\n",
       "      <th>metric</th>\n",
       "      <th>metric_week</th>\n",
       "    </tr>\n",
       "  </thead>\n",
       "  <tbody>\n",
       "    <tr>\n",
       "      <td>0</td>\n",
       "      <td>4mgrySAI5ikOiFC33XdoXr</td>\n",
       "      <td>7038.0</td>\n",
       "      <td>spotify</td>\n",
       "      <td>followers</td>\n",
       "      <td>2020-08-10</td>\n",
       "    </tr>\n",
       "    <tr>\n",
       "      <td>1</td>\n",
       "      <td>6szSMqKKwkFqJoK3MxK3Hk</td>\n",
       "      <td>966858.0</td>\n",
       "      <td>spotify</td>\n",
       "      <td>listeners</td>\n",
       "      <td>2021-02-08</td>\n",
       "    </tr>\n",
       "    <tr>\n",
       "      <td>2</td>\n",
       "      <td>5m85RQN2nLv0CXCQs0wKDt</td>\n",
       "      <td>1746.0</td>\n",
       "      <td>spotify</td>\n",
       "      <td>listeners</td>\n",
       "      <td>2020-12-28</td>\n",
       "    </tr>\n",
       "  </tbody>\n",
       "</table>\n",
       "</div>"
      ],
      "text/plain": [
       "        spotify_artist_id  mean_value platform     metric metric_week\n",
       "0  4mgrySAI5ikOiFC33XdoXr      7038.0  spotify  followers  2020-08-10\n",
       "1  6szSMqKKwkFqJoK3MxK3Hk    966858.0  spotify  listeners  2021-02-08\n",
       "2  5m85RQN2nLv0CXCQs0wKDt      1746.0  spotify  listeners  2020-12-28"
      ]
     },
     "metadata": {},
     "output_type": "display_data"
    },
    {
     "name": "stdout",
     "output_type": "stream",
     "text": [
      "artist_releases\n"
     ]
    },
    {
     "data": {
      "text/html": [
       "<div>\n",
       "<style scoped>\n",
       "    .dataframe tbody tr th:only-of-type {\n",
       "        vertical-align: middle;\n",
       "    }\n",
       "\n",
       "    .dataframe tbody tr th {\n",
       "        vertical-align: top;\n",
       "    }\n",
       "\n",
       "    .dataframe thead th {\n",
       "        text-align: right;\n",
       "    }\n",
       "</style>\n",
       "<table border=\"1\" class=\"dataframe\">\n",
       "  <thead>\n",
       "    <tr style=\"text-align: right;\">\n",
       "      <th></th>\n",
       "      <th>spotify_artist_id</th>\n",
       "      <th>release_date</th>\n",
       "      <th>album_type</th>\n",
       "      <th>main_artist</th>\n",
       "    </tr>\n",
       "  </thead>\n",
       "  <tbody>\n",
       "    <tr>\n",
       "      <td>0</td>\n",
       "      <td>507wnKTa4hle9jlTW0W9eH</td>\n",
       "      <td>2020-03-19</td>\n",
       "      <td>single</td>\n",
       "      <td>True</td>\n",
       "    </tr>\n",
       "    <tr>\n",
       "      <td>1</td>\n",
       "      <td>6iLxj9xxV3Y1GhufLa3nfG</td>\n",
       "      <td>2020-05-16</td>\n",
       "      <td>single</td>\n",
       "      <td>True</td>\n",
       "    </tr>\n",
       "    <tr>\n",
       "      <td>2</td>\n",
       "      <td>6vyHD8gWqfSC29bgf9RLMc</td>\n",
       "      <td>2019-12-16</td>\n",
       "      <td>single</td>\n",
       "      <td>True</td>\n",
       "    </tr>\n",
       "  </tbody>\n",
       "</table>\n",
       "</div>"
      ],
      "text/plain": [
       "        spotify_artist_id release_date album_type  main_artist\n",
       "0  507wnKTa4hle9jlTW0W9eH   2020-03-19     single         True\n",
       "1  6iLxj9xxV3Y1GhufLa3nfG   2020-05-16     single         True\n",
       "2  6vyHD8gWqfSC29bgf9RLMc   2019-12-16     single         True"
      ]
     },
     "metadata": {},
     "output_type": "display_data"
    },
    {
     "name": "stdout",
     "output_type": "stream",
     "text": [
      "artist_metadata\n"
     ]
    },
    {
     "data": {
      "text/html": [
       "<div>\n",
       "<style scoped>\n",
       "    .dataframe tbody tr th:only-of-type {\n",
       "        vertical-align: middle;\n",
       "    }\n",
       "\n",
       "    .dataframe tbody tr th {\n",
       "        vertical-align: top;\n",
       "    }\n",
       "\n",
       "    .dataframe thead th {\n",
       "        text-align: right;\n",
       "    }\n",
       "</style>\n",
       "<table border=\"1\" class=\"dataframe\">\n",
       "  <thead>\n",
       "    <tr style=\"text-align: right;\">\n",
       "      <th></th>\n",
       "      <th>spotify_artist_id</th>\n",
       "      <th>artist_name</th>\n",
       "      <th>genres</th>\n",
       "      <th>country</th>\n",
       "    </tr>\n",
       "  </thead>\n",
       "  <tbody>\n",
       "    <tr>\n",
       "      <td>0</td>\n",
       "      <td>4C2lJrO2VHoBJiDac8ygPS</td>\n",
       "      <td>Tais Alvarenga</td>\n",
       "      <td>[baile pop]</td>\n",
       "      <td>br</td>\n",
       "    </tr>\n",
       "    <tr>\n",
       "      <td>1</td>\n",
       "      <td>1DcaKBFFoVa4dU95oR5l9L</td>\n",
       "      <td>David Shifrin</td>\n",
       "      <td>[classical performance, classical]</td>\n",
       "      <td>us</td>\n",
       "    </tr>\n",
       "    <tr>\n",
       "      <td>2</td>\n",
       "      <td>2IEnjZsVDEPKUTxNinyqba</td>\n",
       "      <td>Tiffany Gouché</td>\n",
       "      <td>[indie r&amp;b, deep pop r&amp;b, deep indie r&amp;b]</td>\n",
       "      <td>us</td>\n",
       "    </tr>\n",
       "  </tbody>\n",
       "</table>\n",
       "</div>"
      ],
      "text/plain": [
       "        spotify_artist_id     artist_name  \\\n",
       "0  4C2lJrO2VHoBJiDac8ygPS  Tais Alvarenga   \n",
       "1  1DcaKBFFoVa4dU95oR5l9L   David Shifrin   \n",
       "2  2IEnjZsVDEPKUTxNinyqba  Tiffany Gouché   \n",
       "\n",
       "                                      genres country  \n",
       "0                                [baile pop]      br  \n",
       "1         [classical performance, classical]      us  \n",
       "2  [indie r&b, deep pop r&b, deep indie r&b]      us  "
      ]
     },
     "metadata": {},
     "output_type": "display_data"
    },
    {
     "name": "stdout",
     "output_type": "stream",
     "text": [
      "playlist_tracks_history\n"
     ]
    },
    {
     "data": {
      "text/html": [
       "<div>\n",
       "<style scoped>\n",
       "    .dataframe tbody tr th:only-of-type {\n",
       "        vertical-align: middle;\n",
       "    }\n",
       "\n",
       "    .dataframe tbody tr th {\n",
       "        vertical-align: top;\n",
       "    }\n",
       "\n",
       "    .dataframe thead th {\n",
       "        text-align: right;\n",
       "    }\n",
       "</style>\n",
       "<table border=\"1\" class=\"dataframe\">\n",
       "  <thead>\n",
       "    <tr style=\"text-align: right;\">\n",
       "      <th></th>\n",
       "      <th>spotify_track_ids</th>\n",
       "      <th>spotify_artist_ids</th>\n",
       "      <th>position</th>\n",
       "      <th>position_week</th>\n",
       "      <th>playlist_name</th>\n",
       "      <th>editorial</th>\n",
       "      <th>genre</th>\n",
       "    </tr>\n",
       "  </thead>\n",
       "  <tbody>\n",
       "    <tr>\n",
       "      <td>0</td>\n",
       "      <td>[3r6qKw2ldJVpw8QTg2AV93]</td>\n",
       "      <td>[7c34Wg8HcWO9BWhHLwiXsr]</td>\n",
       "      <td>60.0</td>\n",
       "      <td>2017-10-02</td>\n",
       "      <td>Regueton Viejo</td>\n",
       "      <td>false</td>\n",
       "      <td>reggaeton, latin, latin hip hop</td>\n",
       "    </tr>\n",
       "    <tr>\n",
       "      <td>1</td>\n",
       "      <td>[066bVDD0IRmC4UF82wbYsU]</td>\n",
       "      <td>[5hKv8MEQIS0dj9Dst8hcsc]</td>\n",
       "      <td>72.0</td>\n",
       "      <td>2018-06-04</td>\n",
       "      <td>Regueton Viejo</td>\n",
       "      <td>false</td>\n",
       "      <td>reggaeton, latin, latin hip hop</td>\n",
       "    </tr>\n",
       "    <tr>\n",
       "      <td>2</td>\n",
       "      <td>[721oEB3B3Rr3f3XxhLmpBB]</td>\n",
       "      <td>[5hKv8MEQIS0dj9Dst8hcsc, 3gyTkOT2P0fT3lgJs4dzeW]</td>\n",
       "      <td>10.0</td>\n",
       "      <td>2017-07-10</td>\n",
       "      <td>Regueton Viejo</td>\n",
       "      <td>false</td>\n",
       "      <td>reggaeton, latin, latin hip hop</td>\n",
       "    </tr>\n",
       "  </tbody>\n",
       "</table>\n",
       "</div>"
      ],
      "text/plain": [
       "          spotify_track_ids                                spotify_artist_ids  \\\n",
       "0  [3r6qKw2ldJVpw8QTg2AV93]                          [7c34Wg8HcWO9BWhHLwiXsr]   \n",
       "1  [066bVDD0IRmC4UF82wbYsU]                          [5hKv8MEQIS0dj9Dst8hcsc]   \n",
       "2  [721oEB3B3Rr3f3XxhLmpBB]  [5hKv8MEQIS0dj9Dst8hcsc, 3gyTkOT2P0fT3lgJs4dzeW]   \n",
       "\n",
       "   position position_week   playlist_name editorial  \\\n",
       "0      60.0    2017-10-02  Regueton Viejo     false   \n",
       "1      72.0    2018-06-04  Regueton Viejo     false   \n",
       "2      10.0    2017-07-10  Regueton Viejo     false   \n",
       "\n",
       "                             genre  \n",
       "0  reggaeton, latin, latin hip hop  \n",
       "1  reggaeton, latin, latin hip hop  \n",
       "2  reggaeton, latin, latin hip hop  "
      ]
     },
     "metadata": {},
     "output_type": "display_data"
    }
   ],
   "source": [
    "# Checking the head values of each dataset for an overview\n",
    "for i, dataset in enumerate(all_datasets):\n",
    "    print(dataset_names[i])\n",
    "    display(dataset.head(3))"
   ]
  },
  {
   "cell_type": "code",
   "execution_count": 38,
   "metadata": {
    "ExecuteTime": {
     "end_time": "2021-02-15T22:02:58.333141Z",
     "start_time": "2021-02-15T22:02:58.324034Z"
    }
   },
   "outputs": [
    {
     "name": "stdout",
     "output_type": "stream",
     "text": [
      "artist_history\n",
      "(36058973, 5)\n",
      "artist_releases\n",
      "(2094770, 4)\n",
      "artist_metadata\n",
      "(58257, 4)\n",
      "playlist_tracks_history\n",
      "(31056897, 7)\n"
     ]
    }
   ],
   "source": [
    "# Checking the shapes of each dataset\n",
    "for i, dataset in enumerate(all_datasets):\n",
    "    print(dataset_names[i])\n",
    "    print(dataset.shape)"
   ]
  },
  {
   "cell_type": "code",
   "execution_count": 39,
   "metadata": {
    "ExecuteTime": {
     "end_time": "2021-02-15T22:22:28.619307Z",
     "start_time": "2021-02-15T22:04:09.755308Z"
    }
   },
   "outputs": [
    {
     "name": "stdout",
     "output_type": "stream",
     "text": [
      "artist_history\n"
     ]
    },
    {
     "data": {
      "image/png": "[encoded data removed]",
      "text/plain": [
       "<Figure size 432x288 with 1 Axes>"
      ]
     },
     "metadata": {
      "needs_background": "light"
     },
     "output_type": "display_data"
    },
    {
     "name": "stdout",
     "output_type": "stream",
     "text": [
      "artist_releases\n"
     ]
    },
    {
     "data": {
      "image/png": "[encoded data removed]",
      "text/plain": [
       "<Figure size 432x288 with 1 Axes>"
      ]
     },
     "metadata": {
      "needs_background": "light"
     },
     "output_type": "display_data"
    },
    {
     "name": "stdout",
     "output_type": "stream",
     "text": [
      "artist_metadata\n"
     ]
    },
    {
     "data": {
      "image/png": "[encoded data removed]",
      "text/plain": [
       "<Figure size 432x288 with 1 Axes>"
      ]
     },
     "metadata": {
      "needs_background": "light"
     },
     "output_type": "display_data"
    },
    {
     "name": "stdout",
     "output_type": "stream",
     "text": [
      "playlist_tracks_history\n"
     ]
    },
    {
     "data": {
      "image/png": "[encoded data removed]",
      "text/plain": [
       "<Figure size 432x288 with 1 Axes>"
      ]
     },
     "metadata": {
      "needs_background": "light"
     },
     "output_type": "display_data"
    }
   ],
   "source": [
    "# Checking the null values within the datasets; yellow=null.\n",
    "for i, dataset in enumerate(all_datasets):\n",
    "    print(dataset_names[i])\n",
    "    sns.heatmap(dataset.isnull(), yticklabels=False,\n",
    "                cbar=False, cmap='viridis')\n",
    "    plt.show()"
   ]
  },
  {
   "cell_type": "markdown",
   "metadata": {},
   "source": [
    "As seen in heatmaps above, the features named \"country\" and \"genre\" includes null values."
   ]
  },
  {
   "cell_type": "code",
   "execution_count": 17,
   "metadata": {
    "ExecuteTime": {
     "end_time": "2021-02-16T13:19:24.171552Z",
     "start_time": "2021-02-16T13:19:24.068312Z"
    }
   },
   "outputs": [
    {
     "name": "stdout",
     "output_type": "stream",
     "text": [
      "artist_history\n",
      "<class 'pandas.core.frame.DataFrame'>\n",
      "RangeIndex: 36058973 entries, 0 to 36058972\n",
      "Data columns (total 5 columns):\n",
      "spotify_artist_id    object\n",
      "mean_value           float64\n",
      "platform             object\n",
      "metric               object\n",
      "metric_week          object\n",
      "dtypes: float64(1), object(4)\n",
      "memory usage: 1.3+ GB\n"
     ]
    },
    {
     "data": {
      "text/plain": [
       "None"
      ]
     },
     "metadata": {},
     "output_type": "display_data"
    },
    {
     "name": "stdout",
     "output_type": "stream",
     "text": [
      "artist_releases\n",
      "<class 'pandas.core.frame.DataFrame'>\n",
      "RangeIndex: 2094770 entries, 0 to 2094769\n",
      "Data columns (total 4 columns):\n",
      "spotify_artist_id    object\n",
      "release_date         object\n",
      "album_type           object\n",
      "main_artist          bool\n",
      "dtypes: bool(1), object(3)\n",
      "memory usage: 49.9+ MB\n"
     ]
    },
    {
     "data": {
      "text/plain": [
       "None"
      ]
     },
     "metadata": {},
     "output_type": "display_data"
    },
    {
     "name": "stdout",
     "output_type": "stream",
     "text": [
      "artist_metadata\n",
      "<class 'pandas.core.frame.DataFrame'>\n",
      "RangeIndex: 58257 entries, 0 to 58256\n",
      "Data columns (total 4 columns):\n",
      "spotify_artist_id    58257 non-null object\n",
      "artist_name          58257 non-null object\n",
      "genres               58257 non-null object\n",
      "country              50543 non-null object\n",
      "dtypes: object(4)\n",
      "memory usage: 1.8+ MB\n"
     ]
    },
    {
     "data": {
      "text/plain": [
       "None"
      ]
     },
     "metadata": {},
     "output_type": "display_data"
    },
    {
     "name": "stdout",
     "output_type": "stream",
     "text": [
      "playlist_tracks_history\n",
      "<class 'pandas.core.frame.DataFrame'>\n",
      "RangeIndex: 31056897 entries, 0 to 31056896\n",
      "Data columns (total 7 columns):\n",
      "spotify_track_ids     object\n",
      "spotify_artist_ids    object\n",
      "position              float64\n",
      "position_week         object\n",
      "playlist_name         object\n",
      "editorial             object\n",
      "genre                 object\n",
      "dtypes: float64(1), object(6)\n",
      "memory usage: 1.6+ GB\n"
     ]
    },
    {
     "data": {
      "text/plain": [
       "None"
      ]
     },
     "metadata": {},
     "output_type": "display_data"
    }
   ],
   "source": [
    "# Checking the datatypes within the dataset\n",
    "for i, dataset in enumerate(all_datasets):\n",
    "    print(dataset_names[i])\n",
    "    display(dataset.info())"
   ]
  },
  {
   "cell_type": "markdown",
   "metadata": {},
   "source": [
    "**The datatypes seem correct except for date values. We will convert the date columns into datetime format within the preprocessing stage.**"
   ]
  },
  {
   "cell_type": "markdown",
   "metadata": {},
   "source": [
    "## Exploratory Data Analysis"
   ]
  },
  {
   "cell_type": "markdown",
   "metadata": {},
   "source": [
    "In this section, we take a closer look into the datasets."
   ]
  },
  {
   "cell_type": "markdown",
   "metadata": {
    "ExecuteTime": {
     "end_time": "2021-02-16T13:22:30.745752Z",
     "start_time": "2021-02-16T13:22:30.739726Z"
    }
   },
   "source": [
    "### Artist History"
   ]
  },
  {
   "cell_type": "code",
   "execution_count": 3,
   "metadata": {
    "ExecuteTime": {
     "end_time": "2021-02-17T19:20:34.940891Z",
     "start_time": "2021-02-17T19:20:34.915362Z"
    }
   },
   "outputs": [
    {
     "data": {
      "text/html": [
       "<div>\n",
       "<style scoped>\n",
       "    .dataframe tbody tr th:only-of-type {\n",
       "        vertical-align: middle;\n",
       "    }\n",
       "\n",
       "    .dataframe tbody tr th {\n",
       "        vertical-align: top;\n",
       "    }\n",
       "\n",
       "    .dataframe thead th {\n",
       "        text-align: right;\n",
       "    }\n",
       "</style>\n",
       "<table border=\"1\" class=\"dataframe\">\n",
       "  <thead>\n",
       "    <tr style=\"text-align: right;\">\n",
       "      <th></th>\n",
       "      <th>spotify_artist_id</th>\n",
       "      <th>mean_value</th>\n",
       "      <th>platform</th>\n",
       "      <th>metric</th>\n",
       "      <th>metric_week</th>\n",
       "    </tr>\n",
       "  </thead>\n",
       "  <tbody>\n",
       "    <tr>\n",
       "      <td>0</td>\n",
       "      <td>4mgrySAI5ikOiFC33XdoXr</td>\n",
       "      <td>7038.0</td>\n",
       "      <td>spotify</td>\n",
       "      <td>followers</td>\n",
       "      <td>2020-08-10</td>\n",
       "    </tr>\n",
       "    <tr>\n",
       "      <td>1</td>\n",
       "      <td>6szSMqKKwkFqJoK3MxK3Hk</td>\n",
       "      <td>966858.0</td>\n",
       "      <td>spotify</td>\n",
       "      <td>listeners</td>\n",
       "      <td>2021-02-08</td>\n",
       "    </tr>\n",
       "    <tr>\n",
       "      <td>2</td>\n",
       "      <td>5m85RQN2nLv0CXCQs0wKDt</td>\n",
       "      <td>1746.0</td>\n",
       "      <td>spotify</td>\n",
       "      <td>listeners</td>\n",
       "      <td>2020-12-28</td>\n",
       "    </tr>\n",
       "  </tbody>\n",
       "</table>\n",
       "</div>"
      ],
      "text/plain": [
       "        spotify_artist_id  mean_value platform     metric metric_week\n",
       "0  4mgrySAI5ikOiFC33XdoXr      7038.0  spotify  followers  2020-08-10\n",
       "1  6szSMqKKwkFqJoK3MxK3Hk    966858.0  spotify  listeners  2021-02-08\n",
       "2  5m85RQN2nLv0CXCQs0wKDt      1746.0  spotify  listeners  2020-12-28"
      ]
     },
     "execution_count": 3,
     "metadata": {},
     "output_type": "execute_result"
    }
   ],
   "source": [
    "artist_history.head(3)"
   ]
  },
  {
   "cell_type": "code",
   "execution_count": 4,
   "metadata": {
    "ExecuteTime": {
     "end_time": "2021-02-17T19:20:36.699412Z",
     "start_time": "2021-02-17T19:20:36.690417Z"
    }
   },
   "outputs": [
    {
     "data": {
      "text/plain": [
       "Index(['spotify_artist_id', 'mean_value', 'platform', 'metric', 'metric_week'], dtype='object')"
      ]
     },
     "execution_count": 4,
     "metadata": {},
     "output_type": "execute_result"
    }
   ],
   "source": [
    "artist_history.columns"
   ]
  },
  {
   "cell_type": "code",
   "execution_count": 5,
   "metadata": {
    "ExecuteTime": {
     "end_time": "2021-02-17T19:20:53.503352Z",
     "start_time": "2021-02-17T19:20:44.101109Z"
    }
   },
   "outputs": [],
   "source": [
    "# Converting the metric_week column into datetime datatype.\n",
    "artist_history[\"metric_week\"] =  artist_history[\"metric_week\"].astype(\"datetime64[ns]\")"
   ]
  },
  {
   "cell_type": "code",
   "execution_count": 30,
   "metadata": {
    "ExecuteTime": {
     "end_time": "2021-02-16T13:37:17.165649Z",
     "start_time": "2021-02-16T13:36:31.221652Z"
    }
   },
   "outputs": [
    {
     "name": "stderr",
     "output_type": "stream",
     "text": [
      "/Users/kaya/opt/anaconda3/lib/python3.7/site-packages/seaborn/_decorators.py:43: FutureWarning: Pass the following variable as a keyword arg: x. From version 0.12, the only valid positional argument will be `data`, and passing other arguments without an explicit keyword will result in an error or misinterpretation.\n",
      "  FutureWarning\n"
     ]
    },
    {
     "data": {
      "image/png": "[encoded data removed]",
      "text/plain": [
       "<Figure size 432x288 with 1 Axes>"
      ]
     },
     "metadata": {
      "needs_background": "light"
     },
     "output_type": "display_data"
    },
    {
     "name": "stderr",
     "output_type": "stream",
     "text": [
      "/Users/kaya/opt/anaconda3/lib/python3.7/site-packages/seaborn/_decorators.py:43: FutureWarning: Pass the following variable as a keyword arg: x. From version 0.12, the only valid positional argument will be `data`, and passing other arguments without an explicit keyword will result in an error or misinterpretation.\n",
      "  FutureWarning\n"
     ]
    },
    {
     "data": {
      "image/png": "[encoded data removed]",
      "text/plain": [
       "<Figure size 432x288 with 1 Axes>"
      ]
     },
     "metadata": {
      "needs_background": "light"
     },
     "output_type": "display_data"
    }
   ],
   "source": [
    "# Checking the distributions of the categorical variables\n",
    "history_feats = ['platform', 'metric']\n",
    "for feat in history_feats:\n",
    "    sns.countplot(artist_history[feat])\n",
    "    plt.show()"
   ]
  },
  {
   "cell_type": "code",
   "execution_count": 854,
   "metadata": {
    "ExecuteTime": {
     "end_time": "2021-02-19T13:07:45.000789Z",
     "start_time": "2021-02-19T13:06:33.519655Z"
    }
   },
   "outputs": [
    {
     "name": "stderr",
     "output_type": "stream",
     "text": [
      "/Users/kaya/opt/anaconda3/lib/python3.7/site-packages/seaborn/_decorators.py:43: FutureWarning: Pass the following variable as a keyword arg: x. From version 0.12, the only valid positional argument will be `data`, and passing other arguments without an explicit keyword will result in an error or misinterpretation.\n",
      "  FutureWarning\n"
     ]
    },
    {
     "data": {
      "image/png": "[encoded data removed]",
      "text/plain": [
       "<Figure size 432x288 with 1 Axes>"
      ]
     },
     "metadata": {
      "needs_background": "light"
     },
     "output_type": "display_data"
    }
   ],
   "source": [
    "sns.countplot(artist_history[\"platform\"], hue=artist_history[\"metric\"])\n",
    "plt.show()"
   ]
  },
  {
   "cell_type": "code",
   "execution_count": 884,
   "metadata": {
    "ExecuteTime": {
     "end_time": "2021-02-19T15:41:14.174439Z",
     "start_time": "2021-02-19T15:40:40.574644Z"
    }
   },
   "outputs": [
    {
     "name": "stdout",
     "output_type": "stream",
     "text": [
      "ARTIST ID: 4mgrySAI5ikOiFC33XdoXr\n",
      "Currently: spotify followers\n"
     ]
    },
    {
     "data": {
      "image/png": "[encoded data removed]",
      "text/plain": [
       "<Figure size 432x288 with 1 Axes>"
      ]
     },
     "metadata": {
      "needs_background": "light"
     },
     "output_type": "display_data"
    },
    {
     "name": "stdout",
     "output_type": "stream",
     "text": [
      "Currently: spotify listeners\n"
     ]
    },
    {
     "data": {
      "image/png": "[encoded data removed]",
      "text/plain": [
       "<Figure size 432x288 with 1 Axes>"
      ]
     },
     "metadata": {
      "needs_background": "light"
     },
     "output_type": "display_data"
    },
    {
     "name": "stdout",
     "output_type": "stream",
     "text": [
      "Currently: spotify popularity\n"
     ]
    },
    {
     "data": {
      "image/png": "[encoded data removed]",
      "text/plain": [
       "<Figure size 432x288 with 1 Axes>"
      ]
     },
     "metadata": {
      "needs_background": "light"
     },
     "output_type": "display_data"
    },
    {
     "name": "stdout",
     "output_type": "stream",
     "text": [
      "ARTIST ID: 6szSMqKKwkFqJoK3MxK3Hk\n",
      "Currently: spotify followers\n"
     ]
    },
    {
     "name": "stderr",
     "output_type": "stream",
     "text": [
      "/Users/kaya/opt/anaconda3/lib/python3.7/site-packages/ipykernel_launcher.py:10: UserWarning: Boolean Series key will be reindexed to match DataFrame index.\n",
      "  # Remove the CWD from sys.path while we load stuff.\n"
     ]
    },
    {
     "data": {
      "image/png": "[encoded data removed]",
      "text/plain": [
       "<Figure size 432x288 with 1 Axes>"
      ]
     },
     "metadata": {
      "needs_background": "light"
     },
     "output_type": "display_data"
    },
    {
     "name": "stdout",
     "output_type": "stream",
     "text": [
      "Currently: spotify popularity\n"
     ]
    },
    {
     "data": {
      "image/png": "[encoded data removed]",
      "text/plain": [
       "<Figure size 432x288 with 1 Axes>"
      ]
     },
     "metadata": {
      "needs_background": "light"
     },
     "output_type": "display_data"
    },
    {
     "name": "stdout",
     "output_type": "stream",
     "text": [
      "Currently: spotify listeners\n"
     ]
    },
    {
     "data": {
      "image/png": "[encoded data removed]",
      "text/plain": [
       "<Figure size 432x288 with 1 Axes>"
      ]
     },
     "metadata": {
      "needs_background": "light"
     },
     "output_type": "display_data"
    },
    {
     "name": "stdout",
     "output_type": "stream",
     "text": [
      "Currently: instagram followers\n"
     ]
    },
    {
     "data": {
      "image/png": "[encoded data removed]",
      "text/plain": [
       "<Figure size 432x288 with 1 Axes>"
      ]
     },
     "metadata": {
      "needs_background": "light"
     },
     "output_type": "display_data"
    },
    {
     "name": "stdout",
     "output_type": "stream",
     "text": [
      "ARTIST ID: 5m85RQN2nLv0CXCQs0wKDt\n",
      "Currently: spotify followers\n"
     ]
    },
    {
     "data": {
      "image/png": "[encoded data removed]",
      "text/plain": [
       "<Figure size 432x288 with 1 Axes>"
      ]
     },
     "metadata": {
      "needs_background": "light"
     },
     "output_type": "display_data"
    },
    {
     "name": "stdout",
     "output_type": "stream",
     "text": [
      "Currently: spotify listeners\n"
     ]
    },
    {
     "data": {
      "image/png": "[encoded data removed]",
      "text/plain": [
       "<Figure size 432x288 with 1 Axes>"
      ]
     },
     "metadata": {
      "needs_background": "light"
     },
     "output_type": "display_data"
    },
    {
     "name": "stdout",
     "output_type": "stream",
     "text": [
      "Currently: spotify popularity\n"
     ]
    },
    {
     "data": {
      "image/png": "[encoded data removed]",
      "text/plain": [
       "<Figure size 432x288 with 1 Axes>"
      ]
     },
     "metadata": {
      "needs_background": "light"
     },
     "output_type": "display_data"
    },
    {
     "name": "stdout",
     "output_type": "stream",
     "text": [
      "Currently: instagram followers\n"
     ]
    },
    {
     "data": {
      "image/png": "[encoded data removed]",
      "text/plain": [
       "<Figure size 432x288 with 1 Axes>"
      ]
     },
     "metadata": {
      "needs_background": "light"
     },
     "output_type": "display_data"
    }
   ],
   "source": [
    "# Taking a look at the development over time of the 3 first artists.\n",
    "for artist in artist_history[\"spotify_artist_id\"].unique()[:3]:\n",
    "    print(\"ARTIST ID:\", artist)\n",
    "    data_vis = artist_history[artist_history[\"spotify_artist_id\"] == artist].copy()\n",
    "    data_vis.sort_values(by=\"metric_week\", inplace=True)\n",
    "\n",
    "    for platform in data_vis[\"platform\"].unique():\n",
    "        for metric in data_vis[data_vis[\"platform\"] == platform][\"metric\"].unique():\n",
    "            print(\"Currently:\", platform, metric)\n",
    "            data_vis[data_vis[\"platform\"] == platform][data_vis[\"metric\"] == metric].plot(x=\"metric_week\", y=\"mean_value\")\n",
    "            plt.show()"
   ]
  },
  {
   "cell_type": "markdown",
   "metadata": {},
   "source": [
    "**Insights:**  \n",
    "- Limiting scope to the Spotify platform due to time constraints\n",
    "- Assuming popularity is correlated to listeners and followers\n",
    "- As the popularity varies over time (peaks and valleys), a mean popularity score over a time periods seems reasonable as target value."
   ]
  },
  {
   "cell_type": "markdown",
   "metadata": {},
   "source": [
    "### Artist Releases"
   ]
  },
  {
   "cell_type": "code",
   "execution_count": 110,
   "metadata": {
    "ExecuteTime": {
     "end_time": "2021-02-17T20:42:51.021781Z",
     "start_time": "2021-02-17T20:42:51.005602Z"
    }
   },
   "outputs": [
    {
     "data": {
      "text/html": [
       "<div>\n",
       "<style scoped>\n",
       "    .dataframe tbody tr th:only-of-type {\n",
       "        vertical-align: middle;\n",
       "    }\n",
       "\n",
       "    .dataframe tbody tr th {\n",
       "        vertical-align: top;\n",
       "    }\n",
       "\n",
       "    .dataframe thead th {\n",
       "        text-align: right;\n",
       "    }\n",
       "</style>\n",
       "<table border=\"1\" class=\"dataframe\">\n",
       "  <thead>\n",
       "    <tr style=\"text-align: right;\">\n",
       "      <th></th>\n",
       "      <th>spotify_artist_id</th>\n",
       "      <th>release_date</th>\n",
       "      <th>album_type</th>\n",
       "      <th>main_artist</th>\n",
       "    </tr>\n",
       "  </thead>\n",
       "  <tbody>\n",
       "    <tr>\n",
       "      <td>0</td>\n",
       "      <td>507wnKTa4hle9jlTW0W9eH</td>\n",
       "      <td>2020-03-19</td>\n",
       "      <td>single</td>\n",
       "      <td>True</td>\n",
       "    </tr>\n",
       "    <tr>\n",
       "      <td>1</td>\n",
       "      <td>6iLxj9xxV3Y1GhufLa3nfG</td>\n",
       "      <td>2020-05-16</td>\n",
       "      <td>single</td>\n",
       "      <td>True</td>\n",
       "    </tr>\n",
       "    <tr>\n",
       "      <td>2</td>\n",
       "      <td>6vyHD8gWqfSC29bgf9RLMc</td>\n",
       "      <td>2019-12-16</td>\n",
       "      <td>single</td>\n",
       "      <td>True</td>\n",
       "    </tr>\n",
       "  </tbody>\n",
       "</table>\n",
       "</div>"
      ],
      "text/plain": [
       "        spotify_artist_id release_date album_type  main_artist\n",
       "0  507wnKTa4hle9jlTW0W9eH   2020-03-19     single         True\n",
       "1  6iLxj9xxV3Y1GhufLa3nfG   2020-05-16     single         True\n",
       "2  6vyHD8gWqfSC29bgf9RLMc   2019-12-16     single         True"
      ]
     },
     "execution_count": 110,
     "metadata": {},
     "output_type": "execute_result"
    }
   ],
   "source": [
    "artist_releases.head(3)"
   ]
  },
  {
   "cell_type": "code",
   "execution_count": 811,
   "metadata": {
    "ExecuteTime": {
     "end_time": "2021-02-19T10:13:03.721399Z",
     "start_time": "2021-02-19T10:13:03.016993Z"
    }
   },
   "outputs": [],
   "source": [
    "# Correcting data column into the right datatype\n",
    "artist_releases[\"release_date\"] =  artist_releases[\"release_date\"].astype(\"datetime64[ns]\")"
   ]
  },
  {
   "cell_type": "code",
   "execution_count": 111,
   "metadata": {
    "ExecuteTime": {
     "end_time": "2021-02-17T20:43:26.315296Z",
     "start_time": "2021-02-17T20:43:24.646848Z"
    }
   },
   "outputs": [
    {
     "name": "stderr",
     "output_type": "stream",
     "text": [
      "/Users/kaya/opt/anaconda3/lib/python3.7/site-packages/seaborn/_decorators.py:43: FutureWarning: Pass the following variable as a keyword arg: x. From version 0.12, the only valid positional argument will be `data`, and passing other arguments without an explicit keyword will result in an error or misinterpretation.\n",
      "  FutureWarning\n"
     ]
    },
    {
     "data": {
      "text/plain": [
       "<matplotlib.axes._subplots.AxesSubplot at 0x7f85e3e80f10>"
      ]
     },
     "execution_count": 111,
     "metadata": {},
     "output_type": "execute_result"
    },
    {
     "data": {
      "image/png": "[encoded data removed]",
      "text/plain": [
       "<Figure size 432x288 with 1 Axes>"
      ]
     },
     "metadata": {
      "needs_background": "light"
     },
     "output_type": "display_data"
    }
   ],
   "source": [
    "# Checking the distribution of categorical values\n",
    "sns.countplot(artist_releases[\"album_type\"], hue=artist_releases[\"main_artist\"])"
   ]
  },
  {
   "cell_type": "code",
   "execution_count": 112,
   "metadata": {
    "ExecuteTime": {
     "end_time": "2021-02-17T20:43:32.476666Z",
     "start_time": "2021-02-17T20:43:32.038921Z"
    },
    "scrolled": true
   },
   "outputs": [
    {
     "name": "stderr",
     "output_type": "stream",
     "text": [
      "/Users/kaya/opt/anaconda3/lib/python3.7/site-packages/seaborn/_decorators.py:43: FutureWarning: Pass the following variable as a keyword arg: x. From version 0.12, the only valid positional argument will be `data`, and passing other arguments without an explicit keyword will result in an error or misinterpretation.\n",
      "  FutureWarning\n"
     ]
    },
    {
     "data": {
      "text/plain": [
       "<matplotlib.axes._subplots.AxesSubplot at 0x7f85e3ed81d0>"
      ]
     },
     "execution_count": 112,
     "metadata": {},
     "output_type": "execute_result"
    },
    {
     "data": {
      "image/png": "[encoded data removed]",
      "text/plain": [
       "<Figure size 432x288 with 1 Axes>"
      ]
     },
     "metadata": {
      "needs_background": "light"
     },
     "output_type": "display_data"
    }
   ],
   "source": [
    "sns.countplot(artist_releases[\"main_artist\"])"
   ]
  },
  {
   "cell_type": "markdown",
   "metadata": {},
   "source": [
    "**Insights:**  \n",
    "- Mostly albums and singles, and artists mostly publish songs as main artist.\n",
    "- I will exclude compilations from this project and limit it to albums and singles.\n",
    "- Could be very interesting to look at the collaboration numbers and rates for each artist by taking a look at releases where the artist was not the main artist. I will not look at this at the current stage, but could be looked into. "
   ]
  },
  {
   "cell_type": "markdown",
   "metadata": {},
   "source": [
    "### Artist Metadata"
   ]
  },
  {
   "cell_type": "code",
   "execution_count": 855,
   "metadata": {
    "ExecuteTime": {
     "end_time": "2021-02-19T13:16:59.956703Z",
     "start_time": "2021-02-19T13:16:59.917844Z"
    }
   },
   "outputs": [
    {
     "data": {
      "text/html": [
       "<div>\n",
       "<style scoped>\n",
       "    .dataframe tbody tr th:only-of-type {\n",
       "        vertical-align: middle;\n",
       "    }\n",
       "\n",
       "    .dataframe tbody tr th {\n",
       "        vertical-align: top;\n",
       "    }\n",
       "\n",
       "    .dataframe thead th {\n",
       "        text-align: right;\n",
       "    }\n",
       "</style>\n",
       "<table border=\"1\" class=\"dataframe\">\n",
       "  <thead>\n",
       "    <tr style=\"text-align: right;\">\n",
       "      <th></th>\n",
       "      <th>spotify_artist_id</th>\n",
       "      <th>artist_name</th>\n",
       "      <th>genres</th>\n",
       "      <th>country</th>\n",
       "    </tr>\n",
       "  </thead>\n",
       "  <tbody>\n",
       "    <tr>\n",
       "      <td>0</td>\n",
       "      <td>4C2lJrO2VHoBJiDac8ygPS</td>\n",
       "      <td>Tais Alvarenga</td>\n",
       "      <td>[baile pop]</td>\n",
       "      <td>br</td>\n",
       "    </tr>\n",
       "    <tr>\n",
       "      <td>1</td>\n",
       "      <td>1DcaKBFFoVa4dU95oR5l9L</td>\n",
       "      <td>David Shifrin</td>\n",
       "      <td>[classical performance, classical]</td>\n",
       "      <td>us</td>\n",
       "    </tr>\n",
       "    <tr>\n",
       "      <td>2</td>\n",
       "      <td>2IEnjZsVDEPKUTxNinyqba</td>\n",
       "      <td>Tiffany Gouché</td>\n",
       "      <td>[indie r&amp;b, deep pop r&amp;b, deep indie r&amp;b]</td>\n",
       "      <td>us</td>\n",
       "    </tr>\n",
       "  </tbody>\n",
       "</table>\n",
       "</div>"
      ],
      "text/plain": [
       "        spotify_artist_id     artist_name  \\\n",
       "0  4C2lJrO2VHoBJiDac8ygPS  Tais Alvarenga   \n",
       "1  1DcaKBFFoVa4dU95oR5l9L   David Shifrin   \n",
       "2  2IEnjZsVDEPKUTxNinyqba  Tiffany Gouché   \n",
       "\n",
       "                                      genres country  \n",
       "0                                [baile pop]      br  \n",
       "1         [classical performance, classical]      us  \n",
       "2  [indie r&b, deep pop r&b, deep indie r&b]      us  "
      ]
     },
     "execution_count": 855,
     "metadata": {},
     "output_type": "execute_result"
    }
   ],
   "source": [
    "artist_metadata.head(3)"
   ]
  },
  {
   "cell_type": "code",
   "execution_count": 220,
   "metadata": {
    "ExecuteTime": {
     "end_time": "2021-02-17T23:20:46.122595Z",
     "start_time": "2021-02-17T23:20:45.873490Z"
    }
   },
   "outputs": [],
   "source": [
    "# Extracting genres from the dataset in a clean format without brackets\n",
    "genres_list = []\n",
    "for l in np.array(artist_metadata.genres):\n",
    "    ll = l.replace(\"[\", \"\").replace(\"]\", \"\").split(\",\")\n",
    "    if type(ll) == str:\n",
    "        genres_list.append(ll.strip())\n",
    "    else:\n",
    "        for lll in ll:\n",
    "            genres_list.append(lll.strip())"
   ]
  },
  {
   "cell_type": "code",
   "execution_count": 227,
   "metadata": {
    "ExecuteTime": {
     "end_time": "2021-02-18T09:09:30.272893Z",
     "start_time": "2021-02-18T09:09:30.204466Z"
    }
   },
   "outputs": [],
   "source": [
    "from collections import Counter\n",
    "\n",
    "genres_sorted = Counter(genres_list).most_common()"
   ]
  },
  {
   "cell_type": "code",
   "execution_count": 883,
   "metadata": {
    "ExecuteTime": {
     "end_time": "2021-02-19T15:40:13.515939Z",
     "start_time": "2021-02-19T15:40:13.506739Z"
    },
    "scrolled": true
   },
   "outputs": [
    {
     "data": {
      "text/plain": [
       "[('rock', 1694),\n",
       " ('pop', 1257),\n",
       " ('hip hop', 1194),\n",
       " ('classical', 1109),\n",
       " ('jazz', 1004)]"
      ]
     },
     "execution_count": 883,
     "metadata": {},
     "output_type": "execute_result"
    }
   ],
   "source": [
    "# Top genres within the dataset\n",
    "genres_sorted[:5]"
   ]
  },
  {
   "cell_type": "code",
   "execution_count": 230,
   "metadata": {
    "ExecuteTime": {
     "end_time": "2021-02-18T09:10:03.494141Z",
     "start_time": "2021-02-18T09:10:03.485472Z"
    }
   },
   "outputs": [],
   "source": [
    "genres_df = pd.DataFrame(genres_sorted, columns=[\"genre\", \"count\"])"
   ]
  },
  {
   "cell_type": "code",
   "execution_count": 396,
   "metadata": {
    "ExecuteTime": {
     "end_time": "2021-02-18T13:10:55.764582Z",
     "start_time": "2021-02-18T13:10:55.746835Z"
    }
   },
   "outputs": [
    {
     "data": {
      "text/html": [
       "<div>\n",
       "<style scoped>\n",
       "    .dataframe tbody tr th:only-of-type {\n",
       "        vertical-align: middle;\n",
       "    }\n",
       "\n",
       "    .dataframe tbody tr th {\n",
       "        vertical-align: top;\n",
       "    }\n",
       "\n",
       "    .dataframe thead th {\n",
       "        text-align: right;\n",
       "    }\n",
       "</style>\n",
       "<table border=\"1\" class=\"dataframe\">\n",
       "  <thead>\n",
       "    <tr style=\"text-align: right;\">\n",
       "      <th></th>\n",
       "      <th>genre</th>\n",
       "      <th>count</th>\n",
       "      <th>percentage</th>\n",
       "    </tr>\n",
       "  </thead>\n",
       "  <tbody>\n",
       "    <tr>\n",
       "      <td>0</td>\n",
       "      <td>rock</td>\n",
       "      <td>1694</td>\n",
       "      <td>0.009823</td>\n",
       "    </tr>\n",
       "    <tr>\n",
       "      <td>1</td>\n",
       "      <td>pop</td>\n",
       "      <td>1257</td>\n",
       "      <td>0.007289</td>\n",
       "    </tr>\n",
       "    <tr>\n",
       "      <td>2</td>\n",
       "      <td>hip hop</td>\n",
       "      <td>1194</td>\n",
       "      <td>0.006924</td>\n",
       "    </tr>\n",
       "    <tr>\n",
       "      <td>3</td>\n",
       "      <td>classical</td>\n",
       "      <td>1109</td>\n",
       "      <td>0.006431</td>\n",
       "    </tr>\n",
       "    <tr>\n",
       "      <td>4</td>\n",
       "      <td>jazz</td>\n",
       "      <td>1004</td>\n",
       "      <td>0.005822</td>\n",
       "    </tr>\n",
       "    <tr>\n",
       "      <td>5</td>\n",
       "      <td>pop rock</td>\n",
       "      <td>751</td>\n",
       "      <td>0.004355</td>\n",
       "    </tr>\n",
       "    <tr>\n",
       "      <td>6</td>\n",
       "      <td>latin</td>\n",
       "      <td>730</td>\n",
       "      <td>0.004233</td>\n",
       "    </tr>\n",
       "    <tr>\n",
       "      <td>7</td>\n",
       "      <td>dance pop</td>\n",
       "      <td>724</td>\n",
       "      <td>0.004198</td>\n",
       "    </tr>\n",
       "    <tr>\n",
       "      <td>8</td>\n",
       "      <td>indie r&amp;b</td>\n",
       "      <td>717</td>\n",
       "      <td>0.004158</td>\n",
       "    </tr>\n",
       "    <tr>\n",
       "      <td>9</td>\n",
       "      <td>electro house</td>\n",
       "      <td>708</td>\n",
       "      <td>0.004106</td>\n",
       "    </tr>\n",
       "    <tr>\n",
       "      <td>10</td>\n",
       "      <td>indie rock</td>\n",
       "      <td>694</td>\n",
       "      <td>0.004024</td>\n",
       "    </tr>\n",
       "    <tr>\n",
       "      <td>11</td>\n",
       "      <td>soul</td>\n",
       "      <td>676</td>\n",
       "      <td>0.003920</td>\n",
       "    </tr>\n",
       "    <tr>\n",
       "      <td>12</td>\n",
       "      <td>alternative rock</td>\n",
       "      <td>666</td>\n",
       "      <td>0.003862</td>\n",
       "    </tr>\n",
       "    <tr>\n",
       "      <td>13</td>\n",
       "      <td>folk</td>\n",
       "      <td>666</td>\n",
       "      <td>0.003862</td>\n",
       "    </tr>\n",
       "    <tr>\n",
       "      <td>14</td>\n",
       "      <td>house</td>\n",
       "      <td>663</td>\n",
       "      <td>0.003845</td>\n",
       "    </tr>\n",
       "    <tr>\n",
       "      <td>15</td>\n",
       "      <td>electronic</td>\n",
       "      <td>662</td>\n",
       "      <td>0.003839</td>\n",
       "    </tr>\n",
       "    <tr>\n",
       "      <td>16</td>\n",
       "      <td>modern rock</td>\n",
       "      <td>639</td>\n",
       "      <td>0.003705</td>\n",
       "    </tr>\n",
       "    <tr>\n",
       "      <td>17</td>\n",
       "      <td>indie folk</td>\n",
       "      <td>639</td>\n",
       "      <td>0.003705</td>\n",
       "    </tr>\n",
       "    <tr>\n",
       "      <td>18</td>\n",
       "      <td>folk-pop</td>\n",
       "      <td>619</td>\n",
       "      <td>0.003589</td>\n",
       "    </tr>\n",
       "    <tr>\n",
       "      <td>19</td>\n",
       "      <td>edm</td>\n",
       "      <td>606</td>\n",
       "      <td>0.003514</td>\n",
       "    </tr>\n",
       "  </tbody>\n",
       "</table>\n",
       "</div>"
      ],
      "text/plain": [
       "               genre  count  percentage\n",
       "0               rock   1694    0.009823\n",
       "1                pop   1257    0.007289\n",
       "2            hip hop   1194    0.006924\n",
       "3          classical   1109    0.006431\n",
       "4               jazz   1004    0.005822\n",
       "5           pop rock    751    0.004355\n",
       "6              latin    730    0.004233\n",
       "7          dance pop    724    0.004198\n",
       "8          indie r&b    717    0.004158\n",
       "9      electro house    708    0.004106\n",
       "10        indie rock    694    0.004024\n",
       "11              soul    676    0.003920\n",
       "12  alternative rock    666    0.003862\n",
       "13              folk    666    0.003862\n",
       "14             house    663    0.003845\n",
       "15        electronic    662    0.003839\n",
       "16       modern rock    639    0.003705\n",
       "17        indie folk    639    0.003705\n",
       "18          folk-pop    619    0.003589\n",
       "19               edm    606    0.003514"
      ]
     },
     "execution_count": 396,
     "metadata": {},
     "output_type": "execute_result"
    }
   ],
   "source": [
    "genres_df.iloc[:20]"
   ]
  },
  {
   "cell_type": "code",
   "execution_count": 232,
   "metadata": {
    "ExecuteTime": {
     "end_time": "2021-02-18T09:11:42.998968Z",
     "start_time": "2021-02-18T09:11:42.985039Z"
    }
   },
   "outputs": [],
   "source": [
    "genres_sum = genres_df[\"count\"].sum()\n",
    "genres_df[\"percentage\"] = genres_df[\"count\"].apply(lambda x: x/genres_sum)"
   ]
  },
  {
   "cell_type": "code",
   "execution_count": 856,
   "metadata": {
    "ExecuteTime": {
     "end_time": "2021-02-19T13:18:23.551219Z",
     "start_time": "2021-02-19T13:18:23.534882Z"
    },
    "scrolled": true
   },
   "outputs": [],
   "source": [
    "# Setting a genre thresholds at 0.1% and treating all other as outliers.\n",
    "genre_threshold = 0.005\n",
    "included_genres = genres_df[genres_df[\"percentage\"] >= genre_threshold]"
   ]
  },
  {
   "cell_type": "code",
   "execution_count": 857,
   "metadata": {
    "ExecuteTime": {
     "end_time": "2021-02-19T13:18:32.499119Z",
     "start_time": "2021-02-19T13:18:32.479152Z"
    }
   },
   "outputs": [
    {
     "data": {
      "text/plain": [
       "5"
      ]
     },
     "execution_count": 857,
     "metadata": {},
     "output_type": "execute_result"
    }
   ],
   "source": [
    "included_genres_list = list(included_genres[\"genre\"])\n",
    "len(included_genres_list)"
   ]
  },
  {
   "cell_type": "markdown",
   "metadata": {},
   "source": [
    "Including all genres appearing more than 0.5% of the time and treating all other genres as outliers. This is to filter out very uncommon genres and types of music/sound such as meditation and lounge music.\n",
    "\n",
    "**Assumption**:  \n",
    "I assume that the goal is to only sign artists that are within relatively usual genres hence I will exclude the artists that are not within the 0.5% top genres."
   ]
  },
  {
   "cell_type": "markdown",
   "metadata": {},
   "source": [
    "**Update: Not including outlier handling in the project due to time constraints; would have to take a closer look into the genres to be able to do a correct outlier handling.**"
   ]
  },
  {
   "cell_type": "markdown",
   "metadata": {},
   "source": [
    "## Preprocessing"
   ]
  },
  {
   "cell_type": "markdown",
   "metadata": {},
   "source": [
    "In this section, we perform pre-processing to prepare the data for the Machine Learning models."
   ]
  },
  {
   "cell_type": "markdown",
   "metadata": {},
   "source": [
    "### Windows"
   ]
  },
  {
   "cell_type": "markdown",
   "metadata": {},
   "source": [
    "Here, we divide the dataset into three windows."
   ]
  },
  {
   "cell_type": "code",
   "execution_count": 11,
   "metadata": {
    "ExecuteTime": {
     "end_time": "2021-02-17T19:24:44.487547Z",
     "start_time": "2021-02-17T19:24:44.297184Z"
    }
   },
   "outputs": [],
   "source": [
    "# Total number of days within dataset\n",
    "total_days = (artist_history[\"metric_week\"].max() - artist_history[\"metric_week\"].min())"
   ]
  },
  {
   "cell_type": "code",
   "execution_count": 12,
   "metadata": {
    "ExecuteTime": {
     "end_time": "2021-02-17T19:24:45.085579Z",
     "start_time": "2021-02-17T19:24:45.077608Z"
    }
   },
   "outputs": [],
   "source": [
    "# Divide into 3 equal windows\n",
    "total_windows = 3\n",
    "window_days = total_days/total_windows"
   ]
  },
  {
   "cell_type": "code",
   "execution_count": 13,
   "metadata": {
    "ExecuteTime": {
     "end_time": "2021-02-17T19:24:45.769512Z",
     "start_time": "2021-02-17T19:24:45.761936Z"
    }
   },
   "outputs": [
    {
     "data": {
      "text/plain": [
       "Timedelta('329 days 00:00:00')"
      ]
     },
     "execution_count": 13,
     "metadata": {},
     "output_type": "execute_result"
    }
   ],
   "source": [
    "window_days"
   ]
  },
  {
   "cell_type": "code",
   "execution_count": 16,
   "metadata": {
    "ExecuteTime": {
     "end_time": "2021-02-17T19:24:48.163033Z",
     "start_time": "2021-02-17T19:24:48.056776Z"
    }
   },
   "outputs": [],
   "source": [
    "# Creating a dict with start and end periods\n",
    "window_periods = {}\n",
    "start = artist_history[\"metric_week\"].min()\n",
    "\n",
    "for i in range(total_windows):\n",
    "    window_periods[i] = {}\n",
    "    window_periods[i][\"start\"] = start + i*window_days\n",
    "    window_periods[i][\"end\"] = start + (i+1)*window_days"
   ]
  },
  {
   "cell_type": "code",
   "execution_count": 17,
   "metadata": {
    "ExecuteTime": {
     "end_time": "2021-02-17T19:24:48.846455Z",
     "start_time": "2021-02-17T19:24:48.836673Z"
    }
   },
   "outputs": [
    {
     "data": {
      "text/plain": [
       "{0: {'start': Timestamp('2018-05-28 00:00:00'),\n",
       "  'end': Timestamp('2019-04-22 00:00:00')},\n",
       " 1: {'start': Timestamp('2019-04-22 00:00:00'),\n",
       "  'end': Timestamp('2020-03-16 00:00:00')},\n",
       " 2: {'start': Timestamp('2020-03-16 00:00:00'),\n",
       "  'end': Timestamp('2021-02-08 00:00:00')}}"
      ]
     },
     "execution_count": 17,
     "metadata": {},
     "output_type": "execute_result"
    }
   ],
   "source": [
    "# Window periods with start and end\n",
    "window_periods"
   ]
  },
  {
   "cell_type": "code",
   "execution_count": 859,
   "metadata": {
    "ExecuteTime": {
     "end_time": "2021-02-19T13:26:21.571729Z",
     "start_time": "2021-02-19T13:26:21.559209Z"
    }
   },
   "outputs": [],
   "source": [
    "# Helper function that divides the provided dataset into 3 periods based on a provided date column.\n",
    "def divide_dataset(df, date_col, total_windows=3):\n",
    "    df_popularities = []\n",
    "    for i in range(total_windows):\n",
    "        df_window = df[df[date_col] > window_periods[i][\"start\"]][df[date_col] <= window_periods[i][\"end\"]]\n",
    "        if i == 0:\n",
    "            df_window.append(df[df[date_col] == df[date_col].min()])\n",
    "        df_popularities.append(df_window)\n",
    "    return df_popularities"
   ]
  },
  {
   "cell_type": "markdown",
   "metadata": {},
   "source": [
    "**How the regression model will be trained**\n",
    "\n",
    "X: PERIOD 1 | PERIOD 2 | PERIOD 3\n",
    "\n",
    "\n",
    "      \n",
    "y: PERIOD 2 | PERIOD 3 | **PREDICTION**\n",
    "\n",
    "\n",
    "\n",
    "- The model uses the artist's activity for the last period (329 days) to predict the artist's average popularity within the upcoming period."
   ]
  },
  {
   "cell_type": "markdown",
   "metadata": {},
   "source": [
    "### Extracting The Target Value (Mean Period Popularity)"
   ]
  },
  {
   "cell_type": "code",
   "execution_count": 18,
   "metadata": {
    "ExecuteTime": {
     "end_time": "2021-02-17T19:24:49.516703Z",
     "start_time": "2021-02-17T19:24:49.511499Z"
    }
   },
   "outputs": [],
   "source": [
    "# Function that returns the mean popularity for each artist for the given dataframe\n",
    "def mean_popularity(df):\n",
    "    return df[df[\"platform\"] == \"spotify\"][df[\"metric\"] == \"popularity\"].groupby(\"spotify_artist_id\").mean()   "
   ]
  },
  {
   "cell_type": "code",
   "execution_count": 122,
   "metadata": {
    "ExecuteTime": {
     "end_time": "2021-02-17T21:10:41.295973Z",
     "start_time": "2021-02-17T21:09:46.770308Z"
    }
   },
   "outputs": [
    {
     "name": "stderr",
     "output_type": "stream",
     "text": [
      "/Users/kaya/opt/anaconda3/lib/python3.7/site-packages/ipykernel_launcher.py:5: UserWarning: Boolean Series key will be reindexed to match DataFrame index.\n",
      "  \"\"\"\n",
      "/Users/kaya/opt/anaconda3/lib/python3.7/site-packages/ipykernel_launcher.py:3: UserWarning: Boolean Series key will be reindexed to match DataFrame index.\n",
      "  This is separate from the ipykernel package so we can avoid doing imports until\n"
     ]
    }
   ],
   "source": [
    "# Calculating the mean popularities for each artist within each period\n",
    "df_divided = divide_dataset(artist_history, date_col=\"metric_week\")\n",
    "df_popularities = []\n",
    "for df in df_divided:\n",
    "    df_popularities.append(mean_popularity(df))"
   ]
  },
  {
   "cell_type": "code",
   "execution_count": 123,
   "metadata": {
    "ExecuteTime": {
     "end_time": "2021-02-17T21:10:43.903003Z",
     "start_time": "2021-02-17T21:10:43.880470Z"
    }
   },
   "outputs": [],
   "source": [
    "# Rename columns to respective period three periods: (0, 1, 2)\n",
    "for i, df in enumerate(df_popularities):\n",
    "    df.rename(columns={'mean_value': 'mean_value_{}'.format(i)}, inplace=True)"
   ]
  },
  {
   "cell_type": "code",
   "execution_count": 124,
   "metadata": {
    "ExecuteTime": {
     "end_time": "2021-02-17T21:10:45.752833Z",
     "start_time": "2021-02-17T21:10:45.370962Z"
    }
   },
   "outputs": [],
   "source": [
    "# Doing an inner join on the three datasets, and only keeping artists that exists within all three periods.\n",
    "merged_df = pd.merge(df_popularities[0], df_popularities[1], on=\"spotify_artist_id\")\n",
    "artist_popularities = pd.merge(merged_df, df_popularities[2], on=\"spotify_artist_id\")"
   ]
  },
  {
   "cell_type": "markdown",
   "metadata": {},
   "source": [
    "Here, we're only keeping artists that exists within all three periods for the sake of consistency.\n",
    "\n",
    "This means, the model will not be trained on artists that are absent in any of the three periods, e.g. new artists. This is a weakness of the current approach. This could be improved by e.g. decreasing the window sizes (number of days)."
   ]
  },
  {
   "cell_type": "code",
   "execution_count": 125,
   "metadata": {
    "ExecuteTime": {
     "end_time": "2021-02-17T21:10:49.128693Z",
     "start_time": "2021-02-17T21:10:48.420488Z"
    }
   },
   "outputs": [
    {
     "data": {
      "text/plain": [
       "<matplotlib.axes._subplots.AxesSubplot at 0x7f85e3270bd0>"
      ]
     },
     "execution_count": 125,
     "metadata": {},
     "output_type": "execute_result"
    },
    {
     "data": {
      "image/png": "[encoded data removed]",
      "text/plain": [
       "<Figure size 432x288 with 1 Axes>"
      ]
     },
     "metadata": {
      "needs_background": "light"
     },
     "output_type": "display_data"
    }
   ],
   "source": [
    "# Doble-checking null values\n",
    "sns.heatmap(artist_popularities.isnull(), yticklabels=False, cbar=False, cmap='viridis')"
   ]
  },
  {
   "cell_type": "code",
   "execution_count": 771,
   "metadata": {
    "ExecuteTime": {
     "end_time": "2021-02-19T09:47:07.344050Z",
     "start_time": "2021-02-19T09:47:07.226898Z"
    }
   },
   "outputs": [],
   "source": [
    "# Removing multi-index\n",
    "y = pd.DataFrame(artist_popularities.to_records()).drop(\"index\", axis=1)"
   ]
  },
  {
   "cell_type": "code",
   "execution_count": 772,
   "metadata": {
    "ExecuteTime": {
     "end_time": "2021-02-19T09:47:13.606006Z",
     "start_time": "2021-02-19T09:47:13.583907Z"
    }
   },
   "outputs": [
    {
     "data": {
      "text/html": [
       "<div>\n",
       "<style scoped>\n",
       "    .dataframe tbody tr th:only-of-type {\n",
       "        vertical-align: middle;\n",
       "    }\n",
       "\n",
       "    .dataframe tbody tr th {\n",
       "        vertical-align: top;\n",
       "    }\n",
       "\n",
       "    .dataframe thead th {\n",
       "        text-align: right;\n",
       "    }\n",
       "</style>\n",
       "<table border=\"1\" class=\"dataframe\">\n",
       "  <thead>\n",
       "    <tr style=\"text-align: right;\">\n",
       "      <th></th>\n",
       "      <th>spotify_artist_id</th>\n",
       "      <th>mean_value_0</th>\n",
       "      <th>mean_value_1</th>\n",
       "      <th>mean_value_2</th>\n",
       "    </tr>\n",
       "  </thead>\n",
       "  <tbody>\n",
       "    <tr>\n",
       "      <td>0</td>\n",
       "      <td>0001ZVMPt41Vwzt1zsmuzp</td>\n",
       "      <td>34.085106</td>\n",
       "      <td>13.744681</td>\n",
       "      <td>9.347826</td>\n",
       "    </tr>\n",
       "    <tr>\n",
       "      <td>1</td>\n",
       "      <td>000BblCiHJeKvtiq5aiHOs</td>\n",
       "      <td>28.760870</td>\n",
       "      <td>32.319149</td>\n",
       "      <td>33.333333</td>\n",
       "    </tr>\n",
       "    <tr>\n",
       "      <td>2</td>\n",
       "      <td>001TRduQniM6dsJbQpMsbJ</td>\n",
       "      <td>40.765957</td>\n",
       "      <td>43.723404</td>\n",
       "      <td>44.021277</td>\n",
       "    </tr>\n",
       "    <tr>\n",
       "      <td>3</td>\n",
       "      <td>001aJOc7CSQVo3XzoLG4DK</td>\n",
       "      <td>44.127660</td>\n",
       "      <td>46.936170</td>\n",
       "      <td>47.347826</td>\n",
       "    </tr>\n",
       "    <tr>\n",
       "      <td>4</td>\n",
       "      <td>001bpbe3Erwxc1cVfgVuFo</td>\n",
       "      <td>11.875000</td>\n",
       "      <td>24.404255</td>\n",
       "      <td>33.638298</td>\n",
       "    </tr>\n",
       "  </tbody>\n",
       "</table>\n",
       "</div>"
      ],
      "text/plain": [
       "        spotify_artist_id  mean_value_0  mean_value_1  mean_value_2\n",
       "0  0001ZVMPt41Vwzt1zsmuzp     34.085106     13.744681      9.347826\n",
       "1  000BblCiHJeKvtiq5aiHOs     28.760870     32.319149     33.333333\n",
       "2  001TRduQniM6dsJbQpMsbJ     40.765957     43.723404     44.021277\n",
       "3  001aJOc7CSQVo3XzoLG4DK     44.127660     46.936170     47.347826\n",
       "4  001bpbe3Erwxc1cVfgVuFo     11.875000     24.404255     33.638298"
      ]
     },
     "execution_count": 772,
     "metadata": {},
     "output_type": "execute_result"
    }
   ],
   "source": [
    "# Top 20 most popular artists in the last period\n",
    "y.head()"
   ]
  },
  {
   "cell_type": "code",
   "execution_count": 499,
   "metadata": {
    "ExecuteTime": {
     "end_time": "2021-02-18T17:07:06.783020Z",
     "start_time": "2021-02-18T17:07:06.106869Z"
    }
   },
   "outputs": [],
   "source": [
    "# Backing up the y dataset in a CSV\n",
    "y.to_csv(\"y.csv\", index=False)"
   ]
  },
  {
   "cell_type": "markdown",
   "metadata": {},
   "source": [
    "### Extracting the Independent Variables (X) "
   ]
  },
  {
   "cell_type": "code",
   "execution_count": 258,
   "metadata": {
    "ExecuteTime": {
     "end_time": "2021-02-18T09:21:54.238965Z",
     "start_time": "2021-02-18T09:21:54.227053Z"
    }
   },
   "outputs": [],
   "source": [
    "# A general helper function to check out artist metadata with the spotify id.\n",
    "def check_artist(id):\n",
    "    return artist_metadata[artist_metadata[\"spotify_artist_id\"] == id]"
   ]
  },
  {
   "cell_type": "markdown",
   "metadata": {},
   "source": [
    "#### 'Artist Releases' variables"
   ]
  },
  {
   "cell_type": "markdown",
   "metadata": {},
   "source": [
    "Here, we will extract the number of singles and albums each artist has released within each time period as the main artist. "
   ]
  },
  {
   "cell_type": "code",
   "execution_count": 38,
   "metadata": {
    "ExecuteTime": {
     "end_time": "2021-02-17T19:44:14.843707Z",
     "start_time": "2021-02-17T19:44:14.825971Z"
    }
   },
   "outputs": [
    {
     "data": {
      "text/html": [
       "<div>\n",
       "<style scoped>\n",
       "    .dataframe tbody tr th:only-of-type {\n",
       "        vertical-align: middle;\n",
       "    }\n",
       "\n",
       "    .dataframe tbody tr th {\n",
       "        vertical-align: top;\n",
       "    }\n",
       "\n",
       "    .dataframe thead th {\n",
       "        text-align: right;\n",
       "    }\n",
       "</style>\n",
       "<table border=\"1\" class=\"dataframe\">\n",
       "  <thead>\n",
       "    <tr style=\"text-align: right;\">\n",
       "      <th></th>\n",
       "      <th>spotify_artist_id</th>\n",
       "      <th>release_date</th>\n",
       "      <th>album_type</th>\n",
       "      <th>main_artist</th>\n",
       "    </tr>\n",
       "  </thead>\n",
       "  <tbody>\n",
       "    <tr>\n",
       "      <td>0</td>\n",
       "      <td>507wnKTa4hle9jlTW0W9eH</td>\n",
       "      <td>2020-03-19</td>\n",
       "      <td>single</td>\n",
       "      <td>True</td>\n",
       "    </tr>\n",
       "    <tr>\n",
       "      <td>1</td>\n",
       "      <td>6iLxj9xxV3Y1GhufLa3nfG</td>\n",
       "      <td>2020-05-16</td>\n",
       "      <td>single</td>\n",
       "      <td>True</td>\n",
       "    </tr>\n",
       "    <tr>\n",
       "      <td>2</td>\n",
       "      <td>6vyHD8gWqfSC29bgf9RLMc</td>\n",
       "      <td>2019-12-16</td>\n",
       "      <td>single</td>\n",
       "      <td>True</td>\n",
       "    </tr>\n",
       "    <tr>\n",
       "      <td>3</td>\n",
       "      <td>2abTBfFq5PSoASI2PSysLV</td>\n",
       "      <td>2018-06-05</td>\n",
       "      <td>single</td>\n",
       "      <td>True</td>\n",
       "    </tr>\n",
       "    <tr>\n",
       "      <td>4</td>\n",
       "      <td>5yePldMswAMD9fvIfRUc2o</td>\n",
       "      <td>2012-12-10</td>\n",
       "      <td>single</td>\n",
       "      <td>True</td>\n",
       "    </tr>\n",
       "  </tbody>\n",
       "</table>\n",
       "</div>"
      ],
      "text/plain": [
       "        spotify_artist_id release_date album_type  main_artist\n",
       "0  507wnKTa4hle9jlTW0W9eH   2020-03-19     single         True\n",
       "1  6iLxj9xxV3Y1GhufLa3nfG   2020-05-16     single         True\n",
       "2  6vyHD8gWqfSC29bgf9RLMc   2019-12-16     single         True\n",
       "3  2abTBfFq5PSoASI2PSysLV   2018-06-05     single         True\n",
       "4  5yePldMswAMD9fvIfRUc2o   2012-12-10     single         True"
      ]
     },
     "execution_count": 38,
     "metadata": {},
     "output_type": "execute_result"
    }
   ],
   "source": [
    "artist_releases.head()"
   ]
  },
  {
   "cell_type": "code",
   "execution_count": 53,
   "metadata": {
    "ExecuteTime": {
     "end_time": "2021-02-17T19:50:47.798890Z",
     "start_time": "2021-02-17T19:50:47.788869Z"
    }
   },
   "outputs": [
    {
     "data": {
      "text/plain": [
       "{0: {'start': Timestamp('2018-05-28 00:00:00'),\n",
       "  'end': Timestamp('2019-04-22 00:00:00')},\n",
       " 1: {'start': Timestamp('2019-04-22 00:00:00'),\n",
       "  'end': Timestamp('2020-03-16 00:00:00')},\n",
       " 2: {'start': Timestamp('2020-03-16 00:00:00'),\n",
       "  'end': Timestamp('2021-02-08 00:00:00')}}"
      ]
     },
     "execution_count": 53,
     "metadata": {},
     "output_type": "execute_result"
    }
   ],
   "source": [
    "window_periods"
   ]
  },
  {
   "cell_type": "code",
   "execution_count": 398,
   "metadata": {
    "ExecuteTime": {
     "end_time": "2021-02-18T13:12:21.712043Z",
     "start_time": "2021-02-18T13:12:21.698620Z"
    }
   },
   "outputs": [
    {
     "data": {
      "text/plain": [
       "(2094770, 4)"
      ]
     },
     "execution_count": 398,
     "metadata": {},
     "output_type": "execute_result"
    }
   ],
   "source": [
    "artist_releases.shape"
   ]
  },
  {
   "cell_type": "code",
   "execution_count": 537,
   "metadata": {
    "ExecuteTime": {
     "end_time": "2021-02-18T17:40:20.290375Z",
     "start_time": "2021-02-18T17:40:10.209237Z"
    }
   },
   "outputs": [
    {
     "name": "stderr",
     "output_type": "stream",
     "text": [
      "/Users/kaya/opt/anaconda3/lib/python3.7/site-packages/ipykernel_launcher.py:5: UserWarning: Boolean Series key will be reindexed to match DataFrame index.\n",
      "  \"\"\"\n"
     ]
    }
   ],
   "source": [
    "# Divide dataset into the window periods displayed above\n",
    "df_divided = divide_dataset(artist_releases, date_col=\"release_date\")"
   ]
  },
  {
   "cell_type": "code",
   "execution_count": 399,
   "metadata": {
    "ExecuteTime": {
     "end_time": "2021-02-18T13:12:24.879659Z",
     "start_time": "2021-02-18T13:12:24.846565Z"
    }
   },
   "outputs": [
    {
     "data": {
      "text/plain": [
       "(229934, 4)"
      ]
     },
     "metadata": {},
     "output_type": "display_data"
    },
    {
     "data": {
      "text/plain": [
       "(321776, 4)"
      ]
     },
     "metadata": {},
     "output_type": "display_data"
    },
    {
     "data": {
      "text/plain": [
       "(405988, 4)"
      ]
     },
     "metadata": {},
     "output_type": "display_data"
    }
   ],
   "source": [
    "# Shapes of the datasets corresponding to each period\n",
    "for df in df_divided:\n",
    "    display(df.shape)"
   ]
  },
  {
   "cell_type": "code",
   "execution_count": 400,
   "metadata": {
    "ExecuteTime": {
     "end_time": "2021-02-18T13:13:05.935991Z",
     "start_time": "2021-02-18T13:13:05.369748Z"
    }
   },
   "outputs": [
    {
     "name": "stdout",
     "output_type": "stream",
     "text": [
      "single\n"
     ]
    },
    {
     "data": {
      "text/html": [
       "<div>\n",
       "<style scoped>\n",
       "    .dataframe tbody tr th:only-of-type {\n",
       "        vertical-align: middle;\n",
       "    }\n",
       "\n",
       "    .dataframe tbody tr th {\n",
       "        vertical-align: top;\n",
       "    }\n",
       "\n",
       "    .dataframe thead th {\n",
       "        text-align: right;\n",
       "    }\n",
       "</style>\n",
       "<table border=\"1\" class=\"dataframe\">\n",
       "  <thead>\n",
       "    <tr style=\"text-align: right;\">\n",
       "      <th></th>\n",
       "      <th>spotify_artist_id</th>\n",
       "      <th>count</th>\n",
       "    </tr>\n",
       "  </thead>\n",
       "  <tbody>\n",
       "    <tr>\n",
       "      <td>3822</td>\n",
       "      <td>0lFDQOEK5OwsyPXb1aWJzY</td>\n",
       "      <td>443</td>\n",
       "    </tr>\n",
       "    <tr>\n",
       "      <td>22004</td>\n",
       "      <td>4TkCMPznXOjlsYLfzIU1rw</td>\n",
       "      <td>375</td>\n",
       "    </tr>\n",
       "    <tr>\n",
       "      <td>37846</td>\n",
       "      <td>7qyRt0liryfC7zuZFICdKC</td>\n",
       "      <td>264</td>\n",
       "    </tr>\n",
       "    <tr>\n",
       "      <td>11515</td>\n",
       "      <td>2Lfacnt7JaOueXRyim7q08</td>\n",
       "      <td>249</td>\n",
       "    </tr>\n",
       "    <tr>\n",
       "      <td>26675</td>\n",
       "      <td>5QYPnAeEqVZSEi7VbY9Fum</td>\n",
       "      <td>237</td>\n",
       "    </tr>\n",
       "    <tr>\n",
       "      <td>23292</td>\n",
       "      <td>4jxICVokHTn2J2VwTCvPxm</td>\n",
       "      <td>222</td>\n",
       "    </tr>\n",
       "    <tr>\n",
       "      <td>12315</td>\n",
       "      <td>2Voym2yJawg9ChaAiybFJv</td>\n",
       "      <td>206</td>\n",
       "    </tr>\n",
       "    <tr>\n",
       "      <td>353</td>\n",
       "      <td>04T7QEqAiQBW12loi1g2CO</td>\n",
       "      <td>188</td>\n",
       "    </tr>\n",
       "    <tr>\n",
       "      <td>5265</td>\n",
       "      <td>147CSVEqbtAs61RiDlLW7N</td>\n",
       "      <td>176</td>\n",
       "    </tr>\n",
       "    <tr>\n",
       "      <td>15958</td>\n",
       "      <td>3GghVvugpv9nXQ2YFzZNzN</td>\n",
       "      <td>158</td>\n",
       "    </tr>\n",
       "    <tr>\n",
       "      <td>14803</td>\n",
       "      <td>31shErrQgVvu6r5rvF3unD</td>\n",
       "      <td>124</td>\n",
       "    </tr>\n",
       "    <tr>\n",
       "      <td>14461</td>\n",
       "      <td>2xuavSHRMQ6dIyDjiFr8cu</td>\n",
       "      <td>120</td>\n",
       "    </tr>\n",
       "    <tr>\n",
       "      <td>14634</td>\n",
       "      <td>2zjeuORkYXpNotyaevXC8D</td>\n",
       "      <td>108</td>\n",
       "    </tr>\n",
       "    <tr>\n",
       "      <td>845</td>\n",
       "      <td>0AnlIkbodWv2IM1HDSW4Fb</td>\n",
       "      <td>98</td>\n",
       "    </tr>\n",
       "    <tr>\n",
       "      <td>21472</td>\n",
       "      <td>4NJhFmfw43RLBLjQvxDuRS</td>\n",
       "      <td>98</td>\n",
       "    </tr>\n",
       "    <tr>\n",
       "      <td>11152</td>\n",
       "      <td>2GwILMQr37VYZiTgC5fXUq</td>\n",
       "      <td>95</td>\n",
       "    </tr>\n",
       "    <tr>\n",
       "      <td>19521</td>\n",
       "      <td>3yrkuc99URznjwVvVFtN78</td>\n",
       "      <td>92</td>\n",
       "    </tr>\n",
       "    <tr>\n",
       "      <td>36258</td>\n",
       "      <td>7KlMqMCZbUE9rYpa95R2CV</td>\n",
       "      <td>89</td>\n",
       "    </tr>\n",
       "    <tr>\n",
       "      <td>37950</td>\n",
       "      <td>7s9RlIaxnp2ytBSby8anas</td>\n",
       "      <td>89</td>\n",
       "    </tr>\n",
       "    <tr>\n",
       "      <td>30009</td>\n",
       "      <td>65vvuazV1f4jvSBedvK47v</td>\n",
       "      <td>85</td>\n",
       "    </tr>\n",
       "  </tbody>\n",
       "</table>\n",
       "</div>"
      ],
      "text/plain": [
       "            spotify_artist_id  count\n",
       "3822   0lFDQOEK5OwsyPXb1aWJzY    443\n",
       "22004  4TkCMPznXOjlsYLfzIU1rw    375\n",
       "37846  7qyRt0liryfC7zuZFICdKC    264\n",
       "11515  2Lfacnt7JaOueXRyim7q08    249\n",
       "26675  5QYPnAeEqVZSEi7VbY9Fum    237\n",
       "23292  4jxICVokHTn2J2VwTCvPxm    222\n",
       "12315  2Voym2yJawg9ChaAiybFJv    206\n",
       "353    04T7QEqAiQBW12loi1g2CO    188\n",
       "5265   147CSVEqbtAs61RiDlLW7N    176\n",
       "15958  3GghVvugpv9nXQ2YFzZNzN    158\n",
       "14803  31shErrQgVvu6r5rvF3unD    124\n",
       "14461  2xuavSHRMQ6dIyDjiFr8cu    120\n",
       "14634  2zjeuORkYXpNotyaevXC8D    108\n",
       "845    0AnlIkbodWv2IM1HDSW4Fb     98\n",
       "21472  4NJhFmfw43RLBLjQvxDuRS     98\n",
       "11152  2GwILMQr37VYZiTgC5fXUq     95\n",
       "19521  3yrkuc99URznjwVvVFtN78     92\n",
       "36258  7KlMqMCZbUE9rYpa95R2CV     89\n",
       "37950  7s9RlIaxnp2ytBSby8anas     89\n",
       "30009  65vvuazV1f4jvSBedvK47v     85"
      ]
     },
     "metadata": {},
     "output_type": "display_data"
    },
    {
     "name": "stdout",
     "output_type": "stream",
     "text": [
      "album\n"
     ]
    },
    {
     "data": {
      "text/html": [
       "<div>\n",
       "<style scoped>\n",
       "    .dataframe tbody tr th:only-of-type {\n",
       "        vertical-align: middle;\n",
       "    }\n",
       "\n",
       "    .dataframe tbody tr th {\n",
       "        vertical-align: top;\n",
       "    }\n",
       "\n",
       "    .dataframe thead th {\n",
       "        text-align: right;\n",
       "    }\n",
       "</style>\n",
       "<table border=\"1\" class=\"dataframe\">\n",
       "  <thead>\n",
       "    <tr style=\"text-align: right;\">\n",
       "      <th></th>\n",
       "      <th>spotify_artist_id</th>\n",
       "      <th>count</th>\n",
       "    </tr>\n",
       "  </thead>\n",
       "  <tbody>\n",
       "    <tr>\n",
       "      <td>6442</td>\n",
       "      <td>3paPKXFFD404Fuonc8DvnN</td>\n",
       "      <td>463</td>\n",
       "    </tr>\n",
       "    <tr>\n",
       "      <td>12535</td>\n",
       "      <td>7dJ05O9EOtFVROVfEEHBBc</td>\n",
       "      <td>452</td>\n",
       "    </tr>\n",
       "    <tr>\n",
       "      <td>2382</td>\n",
       "      <td>1NxJIytLijquteDSmuDM8I</td>\n",
       "      <td>384</td>\n",
       "    </tr>\n",
       "    <tr>\n",
       "      <td>3955</td>\n",
       "      <td>2MYk6exrOI4fr9OfG3qPIQ</td>\n",
       "      <td>370</td>\n",
       "    </tr>\n",
       "    <tr>\n",
       "      <td>1002</td>\n",
       "      <td>0a7IMVQLynzliWvqoPo5tE</td>\n",
       "      <td>369</td>\n",
       "    </tr>\n",
       "    <tr>\n",
       "      <td>8663</td>\n",
       "      <td>58yicdDBopSJkQdBVZqCbs</td>\n",
       "      <td>350</td>\n",
       "    </tr>\n",
       "    <tr>\n",
       "      <td>10556</td>\n",
       "      <td>6IJx7h0cuM3736FwR8Myiv</td>\n",
       "      <td>347</td>\n",
       "    </tr>\n",
       "    <tr>\n",
       "      <td>10418</td>\n",
       "      <td>6DRwKWnvWIApUcEUqbyM5Z</td>\n",
       "      <td>344</td>\n",
       "    </tr>\n",
       "    <tr>\n",
       "      <td>226</td>\n",
       "      <td>08u9L6t2nbl4zHMkQ642d2</td>\n",
       "      <td>339</td>\n",
       "    </tr>\n",
       "    <tr>\n",
       "      <td>9615</td>\n",
       "      <td>5lKaPKuNyNz6LN6NfM5vz1</td>\n",
       "      <td>333</td>\n",
       "    </tr>\n",
       "    <tr>\n",
       "      <td>11294</td>\n",
       "      <td>6iXkYoGPVt29DWdlnDJfHi</td>\n",
       "      <td>322</td>\n",
       "    </tr>\n",
       "    <tr>\n",
       "      <td>8105</td>\n",
       "      <td>4oviK9BNoNVfl9mmfZtnzJ</td>\n",
       "      <td>306</td>\n",
       "    </tr>\n",
       "    <tr>\n",
       "      <td>10846</td>\n",
       "      <td>6THuFE5Ap1DL3coJnPy7q1</td>\n",
       "      <td>305</td>\n",
       "    </tr>\n",
       "    <tr>\n",
       "      <td>4946</td>\n",
       "      <td>2wdilDjBFjtfm30BczhsPa</td>\n",
       "      <td>298</td>\n",
       "    </tr>\n",
       "    <tr>\n",
       "      <td>8062</td>\n",
       "      <td>4mljpk3sWHgcuxicdJVIsk</td>\n",
       "      <td>295</td>\n",
       "    </tr>\n",
       "    <tr>\n",
       "      <td>8450</td>\n",
       "      <td>516u60Gd865Vf6EQ4kLJCs</td>\n",
       "      <td>288</td>\n",
       "    </tr>\n",
       "    <tr>\n",
       "      <td>5908</td>\n",
       "      <td>3VgnnJJ789EZhQZUVzJGGw</td>\n",
       "      <td>287</td>\n",
       "    </tr>\n",
       "    <tr>\n",
       "      <td>8736</td>\n",
       "      <td>5C95YXNLyaqbZjhwXMjZ4r</td>\n",
       "      <td>286</td>\n",
       "    </tr>\n",
       "    <tr>\n",
       "      <td>5359</td>\n",
       "      <td>3B6M89h47V1ZxSJUYjL0ZO</td>\n",
       "      <td>285</td>\n",
       "    </tr>\n",
       "    <tr>\n",
       "      <td>8921</td>\n",
       "      <td>5JTuitdZNeqTBPMa7QU4g4</td>\n",
       "      <td>285</td>\n",
       "    </tr>\n",
       "  </tbody>\n",
       "</table>\n",
       "</div>"
      ],
      "text/plain": [
       "            spotify_artist_id  count\n",
       "6442   3paPKXFFD404Fuonc8DvnN    463\n",
       "12535  7dJ05O9EOtFVROVfEEHBBc    452\n",
       "2382   1NxJIytLijquteDSmuDM8I    384\n",
       "3955   2MYk6exrOI4fr9OfG3qPIQ    370\n",
       "1002   0a7IMVQLynzliWvqoPo5tE    369\n",
       "8663   58yicdDBopSJkQdBVZqCbs    350\n",
       "10556  6IJx7h0cuM3736FwR8Myiv    347\n",
       "10418  6DRwKWnvWIApUcEUqbyM5Z    344\n",
       "226    08u9L6t2nbl4zHMkQ642d2    339\n",
       "9615   5lKaPKuNyNz6LN6NfM5vz1    333\n",
       "11294  6iXkYoGPVt29DWdlnDJfHi    322\n",
       "8105   4oviK9BNoNVfl9mmfZtnzJ    306\n",
       "10846  6THuFE5Ap1DL3coJnPy7q1    305\n",
       "4946   2wdilDjBFjtfm30BczhsPa    298\n",
       "8062   4mljpk3sWHgcuxicdJVIsk    295\n",
       "8450   516u60Gd865Vf6EQ4kLJCs    288\n",
       "5908   3VgnnJJ789EZhQZUVzJGGw    287\n",
       "8736   5C95YXNLyaqbZjhwXMjZ4r    286\n",
       "5359   3B6M89h47V1ZxSJUYjL0ZO    285\n",
       "8921   5JTuitdZNeqTBPMa7QU4g4    285"
      ]
     },
     "metadata": {},
     "output_type": "display_data"
    },
    {
     "name": "stdout",
     "output_type": "stream",
     "text": [
      "compilation\n"
     ]
    },
    {
     "data": {
      "text/html": [
       "<div>\n",
       "<style scoped>\n",
       "    .dataframe tbody tr th:only-of-type {\n",
       "        vertical-align: middle;\n",
       "    }\n",
       "\n",
       "    .dataframe tbody tr th {\n",
       "        vertical-align: top;\n",
       "    }\n",
       "\n",
       "    .dataframe thead th {\n",
       "        text-align: right;\n",
       "    }\n",
       "</style>\n",
       "<table border=\"1\" class=\"dataframe\">\n",
       "  <thead>\n",
       "    <tr style=\"text-align: right;\">\n",
       "      <th></th>\n",
       "      <th>spotify_artist_id</th>\n",
       "      <th>count</th>\n",
       "    </tr>\n",
       "  </thead>\n",
       "  <tbody>\n",
       "  </tbody>\n",
       "</table>\n",
       "</div>"
      ],
      "text/plain": [
       "Empty DataFrame\n",
       "Columns: [spotify_artist_id, count]\n",
       "Index: []"
      ]
     },
     "metadata": {},
     "output_type": "display_data"
    }
   ],
   "source": [
    "# Printing the single, album and compilation count per artist for the first period (window 0).\n",
    "for at in artist_releases[\"album_type\"].unique():\n",
    "    print(at)\n",
    "    df = df_divided[0][df_divided[0][\"album_type\"] == at]\n",
    "    df = pd.DataFrame(df[df[\"main_artist\"]==True].groupby(\"spotify_artist_id\")[\"album_type\"].agg(['count']).to_records())\n",
    "    display(df.sort_values(\"count\", ascending=False).iloc[:20])"
   ]
  },
  {
   "cell_type": "code",
   "execution_count": 261,
   "metadata": {
    "ExecuteTime": {
     "end_time": "2021-02-18T09:23:40.840633Z",
     "start_time": "2021-02-18T09:23:40.762205Z"
    }
   },
   "outputs": [
    {
     "data": {
      "text/html": [
       "<div>\n",
       "<style scoped>\n",
       "    .dataframe tbody tr th:only-of-type {\n",
       "        vertical-align: middle;\n",
       "    }\n",
       "\n",
       "    .dataframe tbody tr th {\n",
       "        vertical-align: top;\n",
       "    }\n",
       "\n",
       "    .dataframe thead th {\n",
       "        text-align: right;\n",
       "    }\n",
       "</style>\n",
       "<table border=\"1\" class=\"dataframe\">\n",
       "  <thead>\n",
       "    <tr style=\"text-align: right;\">\n",
       "      <th></th>\n",
       "      <th>spotify_artist_id</th>\n",
       "      <th>artist_name</th>\n",
       "      <th>genres</th>\n",
       "      <th>country</th>\n",
       "    </tr>\n",
       "  </thead>\n",
       "  <tbody>\n",
       "    <tr>\n",
       "      <td>56926</td>\n",
       "      <td>1wxPItEzr7U7rGSMPqZ25r</td>\n",
       "      <td>Shiloh Dynasty</td>\n",
       "      <td>[lo-fi beats]</td>\n",
       "      <td>None</td>\n",
       "    </tr>\n",
       "  </tbody>\n",
       "</table>\n",
       "</div>"
      ],
      "text/plain": [
       "            spotify_artist_id     artist_name         genres country\n",
       "56926  1wxPItEzr7U7rGSMPqZ25r  Shiloh Dynasty  [lo-fi beats]    None"
      ]
     },
     "metadata": {},
     "output_type": "display_data"
    },
    {
     "data": {
      "text/html": [
       "<div>\n",
       "<style scoped>\n",
       "    .dataframe tbody tr th:only-of-type {\n",
       "        vertical-align: middle;\n",
       "    }\n",
       "\n",
       "    .dataframe tbody tr th {\n",
       "        vertical-align: top;\n",
       "    }\n",
       "\n",
       "    .dataframe thead th {\n",
       "        text-align: right;\n",
       "    }\n",
       "</style>\n",
       "<table border=\"1\" class=\"dataframe\">\n",
       "  <thead>\n",
       "    <tr style=\"text-align: right;\">\n",
       "      <th></th>\n",
       "      <th>spotify_artist_id</th>\n",
       "      <th>artist_name</th>\n",
       "      <th>genres</th>\n",
       "      <th>country</th>\n",
       "    </tr>\n",
       "  </thead>\n",
       "  <tbody>\n",
       "    <tr>\n",
       "      <td>51642</td>\n",
       "      <td>5xgmHcltQrXqemjFhRy693</td>\n",
       "      <td>Eskimotion</td>\n",
       "      <td>[kirtan, new tribe, healing, meditation]</td>\n",
       "      <td>None</td>\n",
       "    </tr>\n",
       "  </tbody>\n",
       "</table>\n",
       "</div>"
      ],
      "text/plain": [
       "            spotify_artist_id artist_name  \\\n",
       "51642  5xgmHcltQrXqemjFhRy693  Eskimotion   \n",
       "\n",
       "                                         genres country  \n",
       "51642  [kirtan, new tribe, healing, meditation]    None  "
      ]
     },
     "metadata": {},
     "output_type": "display_data"
    },
    {
     "data": {
      "text/html": [
       "<div>\n",
       "<style scoped>\n",
       "    .dataframe tbody tr th:only-of-type {\n",
       "        vertical-align: middle;\n",
       "    }\n",
       "\n",
       "    .dataframe tbody tr th {\n",
       "        vertical-align: top;\n",
       "    }\n",
       "\n",
       "    .dataframe thead th {\n",
       "        text-align: right;\n",
       "    }\n",
       "</style>\n",
       "<table border=\"1\" class=\"dataframe\">\n",
       "  <thead>\n",
       "    <tr style=\"text-align: right;\">\n",
       "      <th></th>\n",
       "      <th>spotify_artist_id</th>\n",
       "      <th>artist_name</th>\n",
       "      <th>genres</th>\n",
       "      <th>country</th>\n",
       "    </tr>\n",
       "  </thead>\n",
       "  <tbody>\n",
       "    <tr>\n",
       "      <td>44047</td>\n",
       "      <td>2a1ku6axhh00M3y40JK2as</td>\n",
       "      <td>Raphaël Novarina</td>\n",
       "      <td>[musica de fondo, pianissimo]</td>\n",
       "      <td>fr</td>\n",
       "    </tr>\n",
       "  </tbody>\n",
       "</table>\n",
       "</div>"
      ],
      "text/plain": [
       "            spotify_artist_id       artist_name  \\\n",
       "44047  2a1ku6axhh00M3y40JK2as  Raphaël Novarina   \n",
       "\n",
       "                              genres country  \n",
       "44047  [musica de fondo, pianissimo]      fr  "
      ]
     },
     "metadata": {},
     "output_type": "display_data"
    }
   ],
   "source": [
    "# Checking artists with very high single, album and compilation counts (per year)\n",
    "display(check_artist(\"1wxPItEzr7U7rGSMPqZ25r\"))\n",
    "display(check_artist(\"5xgmHcltQrXqemjFhRy693\"))\n",
    "display(check_artist(\"2a1ku6axhh00M3y40JK2as\"))"
   ]
  },
  {
   "cell_type": "markdown",
   "metadata": {},
   "source": [
    "Above is an example of outliers within the dataset regarding genre, e.g. Eskimotion have released 464 \"albums\" in a shorter period than a year. This is clearly not an usual datapoint.\n",
    "\n",
    "With the assumption that the goal is to sign an artist within a relatively common genre and with the risk of biasing the model training with these unusually high single / album counts, we will exclude all artists that have over 10 albums released during a time window of 329 days. This is a workaround and a better outlier detecton can be applied."
   ]
  },
  {
   "cell_type": "code",
   "execution_count": 405,
   "metadata": {
    "ExecuteTime": {
     "end_time": "2021-02-18T13:18:38.307577Z",
     "start_time": "2021-02-18T13:18:38.221055Z"
    }
   },
   "outputs": [],
   "source": [
    "# For the sake of time, we will only look at albums released by the artist as the main artist.\n",
    "for i, df in enumerate(df_divided):\n",
    "    df_divided[i] = df[df[\"main_artist\"] == True]"
   ]
  },
  {
   "cell_type": "code",
   "execution_count": 504,
   "metadata": {
    "ExecuteTime": {
     "end_time": "2021-02-18T17:09:12.168537Z",
     "start_time": "2021-02-18T17:09:10.612692Z"
    }
   },
   "outputs": [],
   "source": [
    "# We create three X datasets, one for each period, by using the groupby and count functions\n",
    "X = []\n",
    "for i, df in enumerate(df_divided):\n",
    "    X_list = []\n",
    "    for at in [\"album\", \"single\"]:\n",
    "        df_x = df_divided[i][df_divided[i][\"album_type\"] == at]\n",
    "        df_x = pd.DataFrame(df_x.groupby(\"spotify_artist_id\")[\"album_type\"].agg(['count']).to_records())\n",
    "        df_x.rename(columns={'count': at}, inplace=True)\n",
    "        X_list.append(df_x)\n",
    "    \n",
    "    # Doing an inner join on the three datasets.\n",
    "    merged_df = pd.merge(X_list[0], X_list[1], on=\"spotify_artist_id\")\n",
    "    X.append(merged_df)"
   ]
  },
  {
   "cell_type": "code",
   "execution_count": 505,
   "metadata": {
    "ExecuteTime": {
     "end_time": "2021-02-18T17:09:17.743368Z",
     "start_time": "2021-02-18T17:09:17.724259Z"
    }
   },
   "outputs": [],
   "source": [
    "# Only pick artists with less than 10 albums during the window-period\n",
    "album_limit = 10\n",
    "for i, df in enumerate(X):\n",
    "    X[i] = df[df[\"album\"]<album_limit]"
   ]
  },
  {
   "cell_type": "code",
   "execution_count": 506,
   "metadata": {
    "ExecuteTime": {
     "end_time": "2021-02-18T17:09:21.344884Z",
     "start_time": "2021-02-18T17:09:21.324732Z"
    }
   },
   "outputs": [
    {
     "data": {
      "text/html": [
       "<div>\n",
       "<style scoped>\n",
       "    .dataframe tbody tr th:only-of-type {\n",
       "        vertical-align: middle;\n",
       "    }\n",
       "\n",
       "    .dataframe tbody tr th {\n",
       "        vertical-align: top;\n",
       "    }\n",
       "\n",
       "    .dataframe thead th {\n",
       "        text-align: right;\n",
       "    }\n",
       "</style>\n",
       "<table border=\"1\" class=\"dataframe\">\n",
       "  <thead>\n",
       "    <tr style=\"text-align: right;\">\n",
       "      <th></th>\n",
       "      <th>spotify_artist_id</th>\n",
       "      <th>album</th>\n",
       "      <th>single</th>\n",
       "    </tr>\n",
       "  </thead>\n",
       "  <tbody>\n",
       "    <tr>\n",
       "      <td>0</td>\n",
       "      <td>001aJOc7CSQVo3XzoLG4DK</td>\n",
       "      <td>1</td>\n",
       "      <td>2</td>\n",
       "    </tr>\n",
       "    <tr>\n",
       "      <td>1</td>\n",
       "      <td>001bpbe3Erwxc1cVfgVuFo</td>\n",
       "      <td>1</td>\n",
       "      <td>2</td>\n",
       "    </tr>\n",
       "    <tr>\n",
       "      <td>2</td>\n",
       "      <td>003f4bk13c6Q3gAUXv7dGJ</td>\n",
       "      <td>1</td>\n",
       "      <td>1</td>\n",
       "    </tr>\n",
       "    <tr>\n",
       "      <td>3</td>\n",
       "      <td>0052sLPmKyG6ou86BEhYjt</td>\n",
       "      <td>1</td>\n",
       "      <td>2</td>\n",
       "    </tr>\n",
       "    <tr>\n",
       "      <td>4</td>\n",
       "      <td>006ibfxHXj6ewIkihKcaS2</td>\n",
       "      <td>3</td>\n",
       "      <td>4</td>\n",
       "    </tr>\n",
       "    <tr>\n",
       "      <td>...</td>\n",
       "      <td>...</td>\n",
       "      <td>...</td>\n",
       "      <td>...</td>\n",
       "    </tr>\n",
       "    <tr>\n",
       "      <td>13164</td>\n",
       "      <td>7zrWMnPOpwr5AEt670VKMc</td>\n",
       "      <td>3</td>\n",
       "      <td>6</td>\n",
       "    </tr>\n",
       "    <tr>\n",
       "      <td>13165</td>\n",
       "      <td>7zsebMNso4mnBsQ28HWFcC</td>\n",
       "      <td>3</td>\n",
       "      <td>8</td>\n",
       "    </tr>\n",
       "    <tr>\n",
       "      <td>13166</td>\n",
       "      <td>7zuoqJAXDtNaLzxxm4IShD</td>\n",
       "      <td>1</td>\n",
       "      <td>3</td>\n",
       "    </tr>\n",
       "    <tr>\n",
       "      <td>13167</td>\n",
       "      <td>7zyObVag8rUjItn71SkIrh</td>\n",
       "      <td>1</td>\n",
       "      <td>5</td>\n",
       "    </tr>\n",
       "    <tr>\n",
       "      <td>13168</td>\n",
       "      <td>7zyZ33s4LRFS3S0r7eKBZs</td>\n",
       "      <td>1</td>\n",
       "      <td>3</td>\n",
       "    </tr>\n",
       "  </tbody>\n",
       "</table>\n",
       "<p>12870 rows × 3 columns</p>\n",
       "</div>"
      ],
      "text/plain": [
       "            spotify_artist_id  album  single\n",
       "0      001aJOc7CSQVo3XzoLG4DK      1       2\n",
       "1      001bpbe3Erwxc1cVfgVuFo      1       2\n",
       "2      003f4bk13c6Q3gAUXv7dGJ      1       1\n",
       "3      0052sLPmKyG6ou86BEhYjt      1       2\n",
       "4      006ibfxHXj6ewIkihKcaS2      3       4\n",
       "...                       ...    ...     ...\n",
       "13164  7zrWMnPOpwr5AEt670VKMc      3       6\n",
       "13165  7zsebMNso4mnBsQ28HWFcC      3       8\n",
       "13166  7zuoqJAXDtNaLzxxm4IShD      1       3\n",
       "13167  7zyObVag8rUjItn71SkIrh      1       5\n",
       "13168  7zyZ33s4LRFS3S0r7eKBZs      1       3\n",
       "\n",
       "[12870 rows x 3 columns]"
      ]
     },
     "execution_count": 506,
     "metadata": {},
     "output_type": "execute_result"
    }
   ],
   "source": [
    "# Checking the first dataset\n",
    "X[0]"
   ]
  },
  {
   "cell_type": "code",
   "execution_count": 507,
   "metadata": {
    "ExecuteTime": {
     "end_time": "2021-02-18T17:09:31.526488Z",
     "start_time": "2021-02-18T17:09:31.256443Z"
    }
   },
   "outputs": [],
   "source": [
    "# Backing up the so-far preprocessed data in a CSV\n",
    "for i, df in enumerate(X):\n",
    "    file_name = \"X_history_{}.csv\".format(i)\n",
    "    df.to_csv(file_name, index=False)"
   ]
  },
  {
   "cell_type": "markdown",
   "metadata": {},
   "source": [
    "Now we have the number of albums and singles for each artist during each period."
   ]
  },
  {
   "cell_type": "markdown",
   "metadata": {},
   "source": [
    "#### playlist_tracks_history"
   ]
  },
  {
   "cell_type": "markdown",
   "metadata": {},
   "source": [
    "In this section, we will extract the number of times each artist has been present in a 1) private playlist and 2) editorial playlist. We will not consider collaborations."
   ]
  },
  {
   "cell_type": "code",
   "execution_count": 524,
   "metadata": {
    "ExecuteTime": {
     "end_time": "2021-02-18T17:26:20.487531Z",
     "start_time": "2021-02-18T17:26:20.420642Z"
    }
   },
   "outputs": [
    {
     "data": {
      "text/html": [
       "<div>\n",
       "<style scoped>\n",
       "    .dataframe tbody tr th:only-of-type {\n",
       "        vertical-align: middle;\n",
       "    }\n",
       "\n",
       "    .dataframe tbody tr th {\n",
       "        vertical-align: top;\n",
       "    }\n",
       "\n",
       "    .dataframe thead th {\n",
       "        text-align: right;\n",
       "    }\n",
       "</style>\n",
       "<table border=\"1\" class=\"dataframe\">\n",
       "  <thead>\n",
       "    <tr style=\"text-align: right;\">\n",
       "      <th></th>\n",
       "      <th>spotify_track_ids</th>\n",
       "      <th>spotify_artist_ids</th>\n",
       "      <th>position</th>\n",
       "      <th>position_week</th>\n",
       "      <th>playlist_name</th>\n",
       "      <th>editorial</th>\n",
       "      <th>genre</th>\n",
       "    </tr>\n",
       "  </thead>\n",
       "  <tbody>\n",
       "    <tr>\n",
       "      <td>0</td>\n",
       "      <td>[3r6qKw2ldJVpw8QTg2AV93]</td>\n",
       "      <td>[7c34Wg8HcWO9BWhHLwiXsr]</td>\n",
       "      <td>60.0</td>\n",
       "      <td>2017-10-02</td>\n",
       "      <td>Regueton Viejo</td>\n",
       "      <td>false</td>\n",
       "      <td>reggaeton, latin, latin hip hop</td>\n",
       "    </tr>\n",
       "    <tr>\n",
       "      <td>1</td>\n",
       "      <td>[066bVDD0IRmC4UF82wbYsU]</td>\n",
       "      <td>[5hKv8MEQIS0dj9Dst8hcsc]</td>\n",
       "      <td>72.0</td>\n",
       "      <td>2018-06-04</td>\n",
       "      <td>Regueton Viejo</td>\n",
       "      <td>false</td>\n",
       "      <td>reggaeton, latin, latin hip hop</td>\n",
       "    </tr>\n",
       "    <tr>\n",
       "      <td>2</td>\n",
       "      <td>[721oEB3B3Rr3f3XxhLmpBB]</td>\n",
       "      <td>[5hKv8MEQIS0dj9Dst8hcsc, 3gyTkOT2P0fT3lgJs4dzeW]</td>\n",
       "      <td>10.0</td>\n",
       "      <td>2017-07-10</td>\n",
       "      <td>Regueton Viejo</td>\n",
       "      <td>false</td>\n",
       "      <td>reggaeton, latin, latin hip hop</td>\n",
       "    </tr>\n",
       "    <tr>\n",
       "      <td>3</td>\n",
       "      <td>[3vqLEWtFLuOTx753CizxAS]</td>\n",
       "      <td>[5hKv8MEQIS0dj9Dst8hcsc, 1hCNLXLaacQf1b93gCGbbn]</td>\n",
       "      <td>70.0</td>\n",
       "      <td>2017-07-10</td>\n",
       "      <td>Regueton Viejo</td>\n",
       "      <td>false</td>\n",
       "      <td>reggaeton, latin, latin hip hop</td>\n",
       "    </tr>\n",
       "    <tr>\n",
       "      <td>4</td>\n",
       "      <td>[6aga6bzDP9vR0kQiMYSP7x]</td>\n",
       "      <td>[5hKv8MEQIS0dj9Dst8hcsc, 3WQRkINylwwkw1Ya07ToRK]</td>\n",
       "      <td>85.0</td>\n",
       "      <td>2017-10-30</td>\n",
       "      <td>Regueton Viejo</td>\n",
       "      <td>false</td>\n",
       "      <td>reggaeton, latin, latin hip hop</td>\n",
       "    </tr>\n",
       "  </tbody>\n",
       "</table>\n",
       "</div>"
      ],
      "text/plain": [
       "          spotify_track_ids                                spotify_artist_ids  \\\n",
       "0  [3r6qKw2ldJVpw8QTg2AV93]                          [7c34Wg8HcWO9BWhHLwiXsr]   \n",
       "1  [066bVDD0IRmC4UF82wbYsU]                          [5hKv8MEQIS0dj9Dst8hcsc]   \n",
       "2  [721oEB3B3Rr3f3XxhLmpBB]  [5hKv8MEQIS0dj9Dst8hcsc, 3gyTkOT2P0fT3lgJs4dzeW]   \n",
       "3  [3vqLEWtFLuOTx753CizxAS]  [5hKv8MEQIS0dj9Dst8hcsc, 1hCNLXLaacQf1b93gCGbbn]   \n",
       "4  [6aga6bzDP9vR0kQiMYSP7x]  [5hKv8MEQIS0dj9Dst8hcsc, 3WQRkINylwwkw1Ya07ToRK]   \n",
       "\n",
       "   position position_week   playlist_name editorial  \\\n",
       "0      60.0    2017-10-02  Regueton Viejo     false   \n",
       "1      72.0    2018-06-04  Regueton Viejo     false   \n",
       "2      10.0    2017-07-10  Regueton Viejo     false   \n",
       "3      70.0    2017-07-10  Regueton Viejo     false   \n",
       "4      85.0    2017-10-30  Regueton Viejo     false   \n",
       "\n",
       "                             genre  \n",
       "0  reggaeton, latin, latin hip hop  \n",
       "1  reggaeton, latin, latin hip hop  \n",
       "2  reggaeton, latin, latin hip hop  \n",
       "3  reggaeton, latin, latin hip hop  \n",
       "4  reggaeton, latin, latin hip hop  "
      ]
     },
     "execution_count": 524,
     "metadata": {},
     "output_type": "execute_result"
    }
   ],
   "source": [
    "playlist_tracks_history.head()"
   ]
  },
  {
   "cell_type": "code",
   "execution_count": 621,
   "metadata": {
    "ExecuteTime": {
     "end_time": "2021-02-18T18:38:03.337406Z",
     "start_time": "2021-02-18T18:35:48.518504Z"
    }
   },
   "outputs": [
    {
     "name": "stderr",
     "output_type": "stream",
     "text": [
      "/Users/kaya/opt/anaconda3/lib/python3.7/site-packages/ipykernel_launcher.py:5: UserWarning: Boolean Series key will be reindexed to match DataFrame index.\n",
      "  \"\"\"\n"
     ]
    }
   ],
   "source": [
    "# Divide dataset into the window periods\n",
    "df_divided = divide_dataset(playlist_tracks_history, date_col=\"position_week\")"
   ]
  },
  {
   "cell_type": "code",
   "execution_count": 622,
   "metadata": {
    "ExecuteTime": {
     "end_time": "2021-02-18T18:39:22.482849Z",
     "start_time": "2021-02-18T18:38:08.553631Z"
    }
   },
   "outputs": [],
   "source": [
    "# Cleaning the spotify_artist_ids column by removing the brackets and storing like strings.\n",
    "for df in df_divided:\n",
    "    df[\"spotify_artist_id\"] = df[\"spotify_artist_ids\"].apply(lambda x: str(x).replace(\"[\", \"\").replace(\"]\", \"\"))\n",
    "    df.drop([\"spotify_artist_ids\"], axis=1, inplace=True)"
   ]
  },
  {
   "cell_type": "code",
   "execution_count": 623,
   "metadata": {
    "ExecuteTime": {
     "end_time": "2021-02-18T18:39:40.713895Z",
     "start_time": "2021-02-18T18:39:25.894730Z"
    }
   },
   "outputs": [],
   "source": [
    "# Creating one dataset for each period by using the groupby and count functions.\n",
    "X_playlists = []\n",
    "for i, df in enumerate(df_divided):\n",
    "    df_x = df_divided[i].groupby([\"spotify_artist_id\", \"editorial\"]).size().reset_index(\n",
    "        name='counts')\n",
    "    df_final = df_x[df_x[\"editorial\"] == \"false\"][[\"spotify_artist_id\", \"counts\"]].rename(\n",
    "        columns={'counts': \"not_editorial_playlist\"})\n",
    "    df_final = df_final.merge(df_x[df_x[\"editorial\"] == \"true\"][[\n",
    "                              \"spotify_artist_id\", \"counts\"]], how=\"outer\", on=\"spotify_artist_id\").rename(columns={'counts': \"editorial_playlist\"})\n",
    "    X_playlists.append(df_final)"
   ]
  },
  {
   "cell_type": "code",
   "execution_count": 628,
   "metadata": {
    "ExecuteTime": {
     "end_time": "2021-02-18T18:45:09.834115Z",
     "start_time": "2021-02-18T18:45:06.005348Z"
    }
   },
   "outputs": [
    {
     "data": {
      "image/png": "[encoded data removed]",
      "text/plain": [
       "<Figure size 432x288 with 1 Axes>"
      ]
     },
     "metadata": {
      "needs_background": "light"
     },
     "output_type": "display_data"
    },
    {
     "data": {
      "image/png": "[encoded data removed]",
      "text/plain": [
       "<Figure size 432x288 with 1 Axes>"
      ]
     },
     "metadata": {
      "needs_background": "light"
     },
     "output_type": "display_data"
    },
    {
     "data": {
      "image/png": "[encoded data removed]",
      "text/plain": [
       "<Figure size 432x288 with 1 Axes>"
      ]
     },
     "metadata": {
      "needs_background": "light"
     },
     "output_type": "display_data"
    }
   ],
   "source": [
    "# We check the null values\n",
    "for df in X_playlists:\n",
    "    sns.heatmap(df.isnull(), yticklabels=False, cbar=False, cmap='viridis')\n",
    "    plt.show()"
   ]
  },
  {
   "cell_type": "markdown",
   "metadata": {},
   "source": [
    "As seen above, when an artist did not have a record in a playlist it was filled with null. We will replace all the null values with 0s."
   ]
  },
  {
   "cell_type": "code",
   "execution_count": 629,
   "metadata": {
    "ExecuteTime": {
     "end_time": "2021-02-18T18:45:15.923209Z",
     "start_time": "2021-02-18T18:45:15.678594Z"
    }
   },
   "outputs": [],
   "source": [
    "# Filling all null values with 0s.\n",
    "for i, df in enumerate(X_playlists):\n",
    "    X_playlists[i] = df.fillna(0)"
   ]
  },
  {
   "cell_type": "code",
   "execution_count": 630,
   "metadata": {
    "ExecuteTime": {
     "end_time": "2021-02-18T18:45:27.856554Z",
     "start_time": "2021-02-18T18:45:24.308572Z"
    }
   },
   "outputs": [
    {
     "data": {
      "image/png": "[encoded data removed]",
      "text/plain": [
       "<Figure size 432x288 with 1 Axes>"
      ]
     },
     "metadata": {
      "needs_background": "light"
     },
     "output_type": "display_data"
    },
    {
     "data": {
      "image/png": "[encoded data removed]",
      "text/plain": [
       "<Figure size 432x288 with 1 Axes>"
      ]
     },
     "metadata": {
      "needs_background": "light"
     },
     "output_type": "display_data"
    },
    {
     "data": {
      "image/png": "[encoded data removed]",
      "text/plain": [
       "<Figure size 432x288 with 1 Axes>"
      ]
     },
     "metadata": {
      "needs_background": "light"
     },
     "output_type": "display_data"
    }
   ],
   "source": [
    "for df in X_playlists:\n",
    "    sns.heatmap(df.isnull(), yticklabels=False, cbar=False, cmap='viridis')\n",
    "    plt.show()"
   ]
  },
  {
   "cell_type": "code",
   "execution_count": 576,
   "metadata": {
    "ExecuteTime": {
     "end_time": "2021-02-18T18:06:27.037169Z",
     "start_time": "2021-02-18T18:06:26.513325Z"
    }
   },
   "outputs": [
    {
     "data": {
      "text/html": [
       "<div>\n",
       "<style scoped>\n",
       "    .dataframe tbody tr th:only-of-type {\n",
       "        vertical-align: middle;\n",
       "    }\n",
       "\n",
       "    .dataframe tbody tr th {\n",
       "        vertical-align: top;\n",
       "    }\n",
       "\n",
       "    .dataframe thead th {\n",
       "        text-align: right;\n",
       "    }\n",
       "</style>\n",
       "<table border=\"1\" class=\"dataframe\">\n",
       "  <thead>\n",
       "    <tr style=\"text-align: right;\">\n",
       "      <th></th>\n",
       "      <th>spotify_track_ids</th>\n",
       "      <th>spotify_artist_ids</th>\n",
       "      <th>position</th>\n",
       "      <th>position_week</th>\n",
       "      <th>playlist_name</th>\n",
       "      <th>editorial</th>\n",
       "      <th>genre</th>\n",
       "    </tr>\n",
       "  </thead>\n",
       "  <tbody>\n",
       "    <tr>\n",
       "      <td>23030919</td>\n",
       "      <td>[31xeZAhffVTxivFZB1k5jz]</td>\n",
       "      <td>004F88I7EWH54o9jNfUbEn</td>\n",
       "      <td>222.0</td>\n",
       "      <td>2019-03-04</td>\n",
       "      <td>My Favorite Covers</td>\n",
       "      <td>false</td>\n",
       "      <td>coverchill, jazz</td>\n",
       "    </tr>\n",
       "    <tr>\n",
       "      <td>23031362</td>\n",
       "      <td>[5nxpI5lTyWIURE5sj9M0lt]</td>\n",
       "      <td>004F88I7EWH54o9jNfUbEn</td>\n",
       "      <td>157.0</td>\n",
       "      <td>2019-01-07</td>\n",
       "      <td>My Favorite Covers</td>\n",
       "      <td>false</td>\n",
       "      <td>coverchill, jazz</td>\n",
       "    </tr>\n",
       "    <tr>\n",
       "      <td>23031403</td>\n",
       "      <td>[31xeZAhffVTxivFZB1k5jz]</td>\n",
       "      <td>004F88I7EWH54o9jNfUbEn</td>\n",
       "      <td>227.0</td>\n",
       "      <td>2019-03-18</td>\n",
       "      <td>My Favorite Covers</td>\n",
       "      <td>false</td>\n",
       "      <td>coverchill, jazz</td>\n",
       "    </tr>\n",
       "    <tr>\n",
       "      <td>23031408</td>\n",
       "      <td>[5nxpI5lTyWIURE5sj9M0lt]</td>\n",
       "      <td>004F88I7EWH54o9jNfUbEn</td>\n",
       "      <td>131.0</td>\n",
       "      <td>2018-06-04</td>\n",
       "      <td>My Favorite Covers</td>\n",
       "      <td>false</td>\n",
       "      <td>coverchill, jazz</td>\n",
       "    </tr>\n",
       "    <tr>\n",
       "      <td>23031409</td>\n",
       "      <td>[04v7FXb6Z6hzmWhqRYfwLP]</td>\n",
       "      <td>004F88I7EWH54o9jNfUbEn</td>\n",
       "      <td>159.0</td>\n",
       "      <td>2018-11-12</td>\n",
       "      <td>My Favorite Covers</td>\n",
       "      <td>false</td>\n",
       "      <td>coverchill, jazz</td>\n",
       "    </tr>\n",
       "    <tr>\n",
       "      <td>...</td>\n",
       "      <td>...</td>\n",
       "      <td>...</td>\n",
       "      <td>...</td>\n",
       "      <td>...</td>\n",
       "      <td>...</td>\n",
       "      <td>...</td>\n",
       "      <td>...</td>\n",
       "    </tr>\n",
       "    <tr>\n",
       "      <td>24725835</td>\n",
       "      <td>[04v7FXb6Z6hzmWhqRYfwLP]</td>\n",
       "      <td>004F88I7EWH54o9jNfUbEn</td>\n",
       "      <td>242.0</td>\n",
       "      <td>2018-12-31</td>\n",
       "      <td>Vintage Café - Official Playlist</td>\n",
       "      <td>false</td>\n",
       "      <td>coverchill, jazz</td>\n",
       "    </tr>\n",
       "    <tr>\n",
       "      <td>24725844</td>\n",
       "      <td>[04v7FXb6Z6hzmWhqRYfwLP]</td>\n",
       "      <td>004F88I7EWH54o9jNfUbEn</td>\n",
       "      <td>238.0</td>\n",
       "      <td>2019-01-28</td>\n",
       "      <td>Vintage Café - Official Playlist</td>\n",
       "      <td>false</td>\n",
       "      <td>coverchill, jazz</td>\n",
       "    </tr>\n",
       "    <tr>\n",
       "      <td>24725989</td>\n",
       "      <td>[31xeZAhffVTxivFZB1k5jz]</td>\n",
       "      <td>004F88I7EWH54o9jNfUbEn</td>\n",
       "      <td>262.0</td>\n",
       "      <td>2019-02-04</td>\n",
       "      <td>Vintage Café - Official Playlist</td>\n",
       "      <td>false</td>\n",
       "      <td>coverchill, jazz</td>\n",
       "    </tr>\n",
       "    <tr>\n",
       "      <td>24726027</td>\n",
       "      <td>[04v7FXb6Z6hzmWhqRYfwLP]</td>\n",
       "      <td>004F88I7EWH54o9jNfUbEn</td>\n",
       "      <td>262.0</td>\n",
       "      <td>2018-07-23</td>\n",
       "      <td>Vintage Café - Official Playlist</td>\n",
       "      <td>false</td>\n",
       "      <td>coverchill, jazz</td>\n",
       "    </tr>\n",
       "    <tr>\n",
       "      <td>24726028</td>\n",
       "      <td>[0YhLYleR1SQNK0It3ZuTRM]</td>\n",
       "      <td>004F88I7EWH54o9jNfUbEn</td>\n",
       "      <td>126.0</td>\n",
       "      <td>2018-11-05</td>\n",
       "      <td>Vintage Café - Official Playlist</td>\n",
       "      <td>false</td>\n",
       "      <td>coverchill, jazz</td>\n",
       "    </tr>\n",
       "  </tbody>\n",
       "</table>\n",
       "<p>128 rows × 7 columns</p>\n",
       "</div>"
      ],
      "text/plain": [
       "                 spotify_track_ids      spotify_artist_ids  position  \\\n",
       "23030919  [31xeZAhffVTxivFZB1k5jz]  004F88I7EWH54o9jNfUbEn     222.0   \n",
       "23031362  [5nxpI5lTyWIURE5sj9M0lt]  004F88I7EWH54o9jNfUbEn     157.0   \n",
       "23031403  [31xeZAhffVTxivFZB1k5jz]  004F88I7EWH54o9jNfUbEn     227.0   \n",
       "23031408  [5nxpI5lTyWIURE5sj9M0lt]  004F88I7EWH54o9jNfUbEn     131.0   \n",
       "23031409  [04v7FXb6Z6hzmWhqRYfwLP]  004F88I7EWH54o9jNfUbEn     159.0   \n",
       "...                            ...                     ...       ...   \n",
       "24725835  [04v7FXb6Z6hzmWhqRYfwLP]  004F88I7EWH54o9jNfUbEn     242.0   \n",
       "24725844  [04v7FXb6Z6hzmWhqRYfwLP]  004F88I7EWH54o9jNfUbEn     238.0   \n",
       "24725989  [31xeZAhffVTxivFZB1k5jz]  004F88I7EWH54o9jNfUbEn     262.0   \n",
       "24726027  [04v7FXb6Z6hzmWhqRYfwLP]  004F88I7EWH54o9jNfUbEn     262.0   \n",
       "24726028  [0YhLYleR1SQNK0It3ZuTRM]  004F88I7EWH54o9jNfUbEn     126.0   \n",
       "\n",
       "         position_week                     playlist_name editorial  \\\n",
       "23030919    2019-03-04                My Favorite Covers     false   \n",
       "23031362    2019-01-07                My Favorite Covers     false   \n",
       "23031403    2019-03-18                My Favorite Covers     false   \n",
       "23031408    2018-06-04                My Favorite Covers     false   \n",
       "23031409    2018-11-12                My Favorite Covers     false   \n",
       "...                ...                               ...       ...   \n",
       "24725835    2018-12-31  Vintage Café - Official Playlist     false   \n",
       "24725844    2019-01-28  Vintage Café - Official Playlist     false   \n",
       "24725989    2019-02-04  Vintage Café - Official Playlist     false   \n",
       "24726027    2018-07-23  Vintage Café - Official Playlist     false   \n",
       "24726028    2018-11-05  Vintage Café - Official Playlist     false   \n",
       "\n",
       "                     genre  \n",
       "23030919  coverchill, jazz  \n",
       "23031362  coverchill, jazz  \n",
       "23031403  coverchill, jazz  \n",
       "23031408  coverchill, jazz  \n",
       "23031409  coverchill, jazz  \n",
       "...                    ...  \n",
       "24725835  coverchill, jazz  \n",
       "24725844  coverchill, jazz  \n",
       "24725989  coverchill, jazz  \n",
       "24726027  coverchill, jazz  \n",
       "24726028  coverchill, jazz  \n",
       "\n",
       "[128 rows x 7 columns]"
      ]
     },
     "execution_count": 576,
     "metadata": {},
     "output_type": "execute_result"
    }
   ],
   "source": [
    "# Double checking the playlist counts for one random artist within the first dataset\n",
    "df_divided[0][df_divided[0][\"spotify_artist_ids\"] == \"004F88I7EWH54o9jNfUbEn\"]"
   ]
  },
  {
   "cell_type": "markdown",
   "metadata": {},
   "source": [
    "### Combining the Extracted features"
   ]
  },
  {
   "cell_type": "code",
   "execution_count": 631,
   "metadata": {
    "ExecuteTime": {
     "end_time": "2021-02-18T18:45:44.076687Z",
     "start_time": "2021-02-18T18:45:43.592547Z"
    }
   },
   "outputs": [],
   "source": [
    "# Merging the datasets with left outer joins.\n",
    "X_final = []\n",
    "for i in range(len(X)):\n",
    "    X_final.append(X[i].merge(X_playlists[i], on=\"spotify_artist_id\"))"
   ]
  },
  {
   "cell_type": "code",
   "execution_count": 635,
   "metadata": {
    "ExecuteTime": {
     "end_time": "2021-02-18T18:46:15.841236Z",
     "start_time": "2021-02-18T18:46:15.823500Z"
    }
   },
   "outputs": [
    {
     "name": "stdout",
     "output_type": "stream",
     "text": [
      "<class 'pandas.core.frame.DataFrame'>\n",
      "Int64Index: 9452 entries, 0 to 9451\n",
      "Data columns (total 5 columns):\n",
      "spotify_artist_id         9452 non-null object\n",
      "album                     9452 non-null int64\n",
      "single                    9452 non-null int64\n",
      "not_editorial_playlist    9452 non-null float64\n",
      "editorial_playlist        9452 non-null float64\n",
      "dtypes: float64(2), int64(2), object(1)\n",
      "memory usage: 443.1+ KB\n"
     ]
    }
   ],
   "source": [
    "# Overview of dataset so far.\n",
    "X_final[0].info()"
   ]
  },
  {
   "cell_type": "code",
   "execution_count": 645,
   "metadata": {
    "ExecuteTime": {
     "end_time": "2021-02-18T18:58:53.444650Z",
     "start_time": "2021-02-18T18:58:53.424458Z"
    }
   },
   "outputs": [
    {
     "data": {
      "text/html": [
       "<div>\n",
       "<style scoped>\n",
       "    .dataframe tbody tr th:only-of-type {\n",
       "        vertical-align: middle;\n",
       "    }\n",
       "\n",
       "    .dataframe tbody tr th {\n",
       "        vertical-align: top;\n",
       "    }\n",
       "\n",
       "    .dataframe thead th {\n",
       "        text-align: right;\n",
       "    }\n",
       "</style>\n",
       "<table border=\"1\" class=\"dataframe\">\n",
       "  <thead>\n",
       "    <tr style=\"text-align: right;\">\n",
       "      <th></th>\n",
       "      <th>spotify_artist_id</th>\n",
       "      <th>album</th>\n",
       "      <th>single</th>\n",
       "      <th>not_editorial_playlist</th>\n",
       "      <th>editorial_playlist</th>\n",
       "    </tr>\n",
       "  </thead>\n",
       "  <tbody>\n",
       "    <tr>\n",
       "      <td>0</td>\n",
       "      <td>001aJOc7CSQVo3XzoLG4DK</td>\n",
       "      <td>1</td>\n",
       "      <td>2</td>\n",
       "      <td>3.0</td>\n",
       "      <td>1.0</td>\n",
       "    </tr>\n",
       "    <tr>\n",
       "      <td>1</td>\n",
       "      <td>0052sLPmKyG6ou86BEhYjt</td>\n",
       "      <td>1</td>\n",
       "      <td>2</td>\n",
       "      <td>0.0</td>\n",
       "      <td>35.0</td>\n",
       "    </tr>\n",
       "    <tr>\n",
       "      <td>2</td>\n",
       "      <td>006ibfxHXj6ewIkihKcaS2</td>\n",
       "      <td>3</td>\n",
       "      <td>4</td>\n",
       "      <td>8.0</td>\n",
       "      <td>3.0</td>\n",
       "    </tr>\n",
       "    <tr>\n",
       "      <td>3</td>\n",
       "      <td>008PpLcKUtVXle6JSwkq3I</td>\n",
       "      <td>1</td>\n",
       "      <td>3</td>\n",
       "      <td>0.0</td>\n",
       "      <td>10.0</td>\n",
       "    </tr>\n",
       "    <tr>\n",
       "      <td>4</td>\n",
       "      <td>009IKtLg2rg2QMbvNtWaoh</td>\n",
       "      <td>3</td>\n",
       "      <td>6</td>\n",
       "      <td>0.0</td>\n",
       "      <td>4.0</td>\n",
       "    </tr>\n",
       "    <tr>\n",
       "      <td>...</td>\n",
       "      <td>...</td>\n",
       "      <td>...</td>\n",
       "      <td>...</td>\n",
       "      <td>...</td>\n",
       "      <td>...</td>\n",
       "    </tr>\n",
       "    <tr>\n",
       "      <td>9447</td>\n",
       "      <td>7zmuMr74dNGqjq74uibncO</td>\n",
       "      <td>2</td>\n",
       "      <td>3</td>\n",
       "      <td>17.0</td>\n",
       "      <td>9.0</td>\n",
       "    </tr>\n",
       "    <tr>\n",
       "      <td>9448</td>\n",
       "      <td>7zmxRagidm9E5dF0mGhQ6K</td>\n",
       "      <td>5</td>\n",
       "      <td>8</td>\n",
       "      <td>0.0</td>\n",
       "      <td>2.0</td>\n",
       "    </tr>\n",
       "    <tr>\n",
       "      <td>9449</td>\n",
       "      <td>7zrWMnPOpwr5AEt670VKMc</td>\n",
       "      <td>3</td>\n",
       "      <td>6</td>\n",
       "      <td>2.0</td>\n",
       "      <td>5.0</td>\n",
       "    </tr>\n",
       "    <tr>\n",
       "      <td>9450</td>\n",
       "      <td>7zyObVag8rUjItn71SkIrh</td>\n",
       "      <td>1</td>\n",
       "      <td>5</td>\n",
       "      <td>36.0</td>\n",
       "      <td>217.0</td>\n",
       "    </tr>\n",
       "    <tr>\n",
       "      <td>9451</td>\n",
       "      <td>7zyZ33s4LRFS3S0r7eKBZs</td>\n",
       "      <td>1</td>\n",
       "      <td>3</td>\n",
       "      <td>29.0</td>\n",
       "      <td>2.0</td>\n",
       "    </tr>\n",
       "  </tbody>\n",
       "</table>\n",
       "<p>9452 rows × 5 columns</p>\n",
       "</div>"
      ],
      "text/plain": [
       "           spotify_artist_id  album  single  not_editorial_playlist  \\\n",
       "0     001aJOc7CSQVo3XzoLG4DK      1       2                     3.0   \n",
       "1     0052sLPmKyG6ou86BEhYjt      1       2                     0.0   \n",
       "2     006ibfxHXj6ewIkihKcaS2      3       4                     8.0   \n",
       "3     008PpLcKUtVXle6JSwkq3I      1       3                     0.0   \n",
       "4     009IKtLg2rg2QMbvNtWaoh      3       6                     0.0   \n",
       "...                      ...    ...     ...                     ...   \n",
       "9447  7zmuMr74dNGqjq74uibncO      2       3                    17.0   \n",
       "9448  7zmxRagidm9E5dF0mGhQ6K      5       8                     0.0   \n",
       "9449  7zrWMnPOpwr5AEt670VKMc      3       6                     2.0   \n",
       "9450  7zyObVag8rUjItn71SkIrh      1       5                    36.0   \n",
       "9451  7zyZ33s4LRFS3S0r7eKBZs      1       3                    29.0   \n",
       "\n",
       "      editorial_playlist  \n",
       "0                    1.0  \n",
       "1                   35.0  \n",
       "2                    3.0  \n",
       "3                   10.0  \n",
       "4                    4.0  \n",
       "...                  ...  \n",
       "9447                 9.0  \n",
       "9448                 2.0  \n",
       "9449                 5.0  \n",
       "9450               217.0  \n",
       "9451                 2.0  \n",
       "\n",
       "[9452 rows x 5 columns]"
      ]
     },
     "execution_count": 645,
     "metadata": {},
     "output_type": "execute_result"
    }
   ],
   "source": [
    "X_final[0]"
   ]
  },
  {
   "cell_type": "markdown",
   "metadata": {},
   "source": [
    "### Normalizing X and y"
   ]
  },
  {
   "cell_type": "markdown",
   "metadata": {
    "ExecuteTime": {
     "end_time": "2021-02-18T22:56:36.127269Z",
     "start_time": "2021-02-18T22:56:36.103015Z"
    }
   },
   "source": [
    "#### Normalizing y"
   ]
  },
  {
   "cell_type": "markdown",
   "metadata": {},
   "source": [
    "Normalizing y since it is going to be used as a dependent variable in X aswell. "
   ]
  },
  {
   "cell_type": "code",
   "execution_count": 653,
   "metadata": {
    "ExecuteTime": {
     "end_time": "2021-02-18T19:11:27.942808Z",
     "start_time": "2021-02-18T19:11:27.936284Z"
    }
   },
   "outputs": [],
   "source": [
    "from sklearn.preprocessing import MinMaxScaler"
   ]
  },
  {
   "cell_type": "code",
   "execution_count": 654,
   "metadata": {
    "ExecuteTime": {
     "end_time": "2021-02-18T19:11:38.075567Z",
     "start_time": "2021-02-18T19:11:38.069678Z"
    }
   },
   "outputs": [],
   "source": [
    "mms = MinMaxScaler()"
   ]
  },
  {
   "cell_type": "code",
   "execution_count": 663,
   "metadata": {
    "ExecuteTime": {
     "end_time": "2021-02-18T22:58:29.725171Z",
     "start_time": "2021-02-18T22:58:29.697156Z"
    },
    "scrolled": true
   },
   "outputs": [
    {
     "data": {
      "text/html": [
       "<div>\n",
       "<style scoped>\n",
       "    .dataframe tbody tr th:only-of-type {\n",
       "        vertical-align: middle;\n",
       "    }\n",
       "\n",
       "    .dataframe tbody tr th {\n",
       "        vertical-align: top;\n",
       "    }\n",
       "\n",
       "    .dataframe thead th {\n",
       "        text-align: right;\n",
       "    }\n",
       "</style>\n",
       "<table border=\"1\" class=\"dataframe\">\n",
       "  <thead>\n",
       "    <tr style=\"text-align: right;\">\n",
       "      <th></th>\n",
       "      <th>index</th>\n",
       "      <th>spotify_artist_id</th>\n",
       "      <th>mean_value_0</th>\n",
       "      <th>mean_value_1</th>\n",
       "      <th>mean_value_2</th>\n",
       "    </tr>\n",
       "  </thead>\n",
       "  <tbody>\n",
       "    <tr>\n",
       "      <td>0</td>\n",
       "      <td>0</td>\n",
       "      <td>0001ZVMPt41Vwzt1zsmuzp</td>\n",
       "      <td>34.085106</td>\n",
       "      <td>13.744681</td>\n",
       "      <td>9.347826</td>\n",
       "    </tr>\n",
       "    <tr>\n",
       "      <td>1</td>\n",
       "      <td>1</td>\n",
       "      <td>000BblCiHJeKvtiq5aiHOs</td>\n",
       "      <td>28.760870</td>\n",
       "      <td>32.319149</td>\n",
       "      <td>33.333333</td>\n",
       "    </tr>\n",
       "    <tr>\n",
       "      <td>2</td>\n",
       "      <td>2</td>\n",
       "      <td>001TRduQniM6dsJbQpMsbJ</td>\n",
       "      <td>40.765957</td>\n",
       "      <td>43.723404</td>\n",
       "      <td>44.021277</td>\n",
       "    </tr>\n",
       "    <tr>\n",
       "      <td>3</td>\n",
       "      <td>3</td>\n",
       "      <td>001aJOc7CSQVo3XzoLG4DK</td>\n",
       "      <td>44.127660</td>\n",
       "      <td>46.936170</td>\n",
       "      <td>47.347826</td>\n",
       "    </tr>\n",
       "    <tr>\n",
       "      <td>4</td>\n",
       "      <td>4</td>\n",
       "      <td>001bpbe3Erwxc1cVfgVuFo</td>\n",
       "      <td>11.875000</td>\n",
       "      <td>24.404255</td>\n",
       "      <td>33.638298</td>\n",
       "    </tr>\n",
       "    <tr>\n",
       "      <td>...</td>\n",
       "      <td>...</td>\n",
       "      <td>...</td>\n",
       "      <td>...</td>\n",
       "      <td>...</td>\n",
       "      <td>...</td>\n",
       "    </tr>\n",
       "    <tr>\n",
       "      <td>64103</td>\n",
       "      <td>64103</td>\n",
       "      <td>7zxbGCI5DeZCwpbYXn20it</td>\n",
       "      <td>13.500000</td>\n",
       "      <td>12.869565</td>\n",
       "      <td>12.217391</td>\n",
       "    </tr>\n",
       "    <tr>\n",
       "      <td>64104</td>\n",
       "      <td>64104</td>\n",
       "      <td>7zyObVag8rUjItn71SkIrh</td>\n",
       "      <td>40.269231</td>\n",
       "      <td>50.800000</td>\n",
       "      <td>57.893617</td>\n",
       "    </tr>\n",
       "    <tr>\n",
       "      <td>64105</td>\n",
       "      <td>64105</td>\n",
       "      <td>7zySlNgrPI1dWfMBIjTIKD</td>\n",
       "      <td>39.550000</td>\n",
       "      <td>39.361702</td>\n",
       "      <td>38.652174</td>\n",
       "    </tr>\n",
       "    <tr>\n",
       "      <td>64106</td>\n",
       "      <td>64106</td>\n",
       "      <td>7zyWAQgUX6rJprlFm6sqFv</td>\n",
       "      <td>20.666667</td>\n",
       "      <td>26.488889</td>\n",
       "      <td>41.068966</td>\n",
       "    </tr>\n",
       "    <tr>\n",
       "      <td>64107</td>\n",
       "      <td>64107</td>\n",
       "      <td>7zyZ33s4LRFS3S0r7eKBZs</td>\n",
       "      <td>42.382979</td>\n",
       "      <td>46.744681</td>\n",
       "      <td>44.191489</td>\n",
       "    </tr>\n",
       "  </tbody>\n",
       "</table>\n",
       "<p>64108 rows × 5 columns</p>\n",
       "</div>"
      ],
      "text/plain": [
       "       index       spotify_artist_id  mean_value_0  mean_value_1  mean_value_2\n",
       "0          0  0001ZVMPt41Vwzt1zsmuzp     34.085106     13.744681      9.347826\n",
       "1          1  000BblCiHJeKvtiq5aiHOs     28.760870     32.319149     33.333333\n",
       "2          2  001TRduQniM6dsJbQpMsbJ     40.765957     43.723404     44.021277\n",
       "3          3  001aJOc7CSQVo3XzoLG4DK     44.127660     46.936170     47.347826\n",
       "4          4  001bpbe3Erwxc1cVfgVuFo     11.875000     24.404255     33.638298\n",
       "...      ...                     ...           ...           ...           ...\n",
       "64103  64103  7zxbGCI5DeZCwpbYXn20it     13.500000     12.869565     12.217391\n",
       "64104  64104  7zyObVag8rUjItn71SkIrh     40.269231     50.800000     57.893617\n",
       "64105  64105  7zySlNgrPI1dWfMBIjTIKD     39.550000     39.361702     38.652174\n",
       "64106  64106  7zyWAQgUX6rJprlFm6sqFv     20.666667     26.488889     41.068966\n",
       "64107  64107  7zyZ33s4LRFS3S0r7eKBZs     42.382979     46.744681     44.191489\n",
       "\n",
       "[64108 rows x 5 columns]"
      ]
     },
     "execution_count": 663,
     "metadata": {},
     "output_type": "execute_result"
    }
   ],
   "source": [
    "y"
   ]
  },
  {
   "cell_type": "code",
   "execution_count": 664,
   "metadata": {
    "ExecuteTime": {
     "end_time": "2021-02-18T22:59:07.982572Z",
     "start_time": "2021-02-18T22:59:07.801463Z"
    }
   },
   "outputs": [],
   "source": [
    "# Dropping the index column\n",
    "y.drop(\"index\", axis=1, inplace=True)"
   ]
  },
  {
   "cell_type": "code",
   "execution_count": 668,
   "metadata": {
    "ExecuteTime": {
     "end_time": "2021-02-18T23:03:12.820967Z",
     "start_time": "2021-02-18T23:03:12.645013Z"
    }
   },
   "outputs": [
    {
     "data": {
      "text/html": [
       "<div>\n",
       "<style scoped>\n",
       "    .dataframe tbody tr th:only-of-type {\n",
       "        vertical-align: middle;\n",
       "    }\n",
       "\n",
       "    .dataframe tbody tr th {\n",
       "        vertical-align: top;\n",
       "    }\n",
       "\n",
       "    .dataframe thead th {\n",
       "        text-align: right;\n",
       "    }\n",
       "</style>\n",
       "<table border=\"1\" class=\"dataframe\">\n",
       "  <thead>\n",
       "    <tr style=\"text-align: right;\">\n",
       "      <th></th>\n",
       "      <th>spotify_artist_id</th>\n",
       "      <th>mean_value_0</th>\n",
       "      <th>mean_value_1</th>\n",
       "      <th>mean_value_2</th>\n",
       "    </tr>\n",
       "  </thead>\n",
       "  <tbody>\n",
       "    <tr>\n",
       "      <td>0</td>\n",
       "      <td>0001ZVMPt41Vwzt1zsmuzp</td>\n",
       "      <td>0.397223</td>\n",
       "      <td>0.154088</td>\n",
       "      <td>0.104141</td>\n",
       "    </tr>\n",
       "    <tr>\n",
       "      <td>1</td>\n",
       "      <td>000BblCiHJeKvtiq5aiHOs</td>\n",
       "      <td>0.335175</td>\n",
       "      <td>0.362322</td>\n",
       "      <td>0.371357</td>\n",
       "    </tr>\n",
       "    <tr>\n",
       "      <td>2</td>\n",
       "      <td>001TRduQniM6dsJbQpMsbJ</td>\n",
       "      <td>0.475081</td>\n",
       "      <td>0.490173</td>\n",
       "      <td>0.490428</td>\n",
       "    </tr>\n",
       "    <tr>\n",
       "      <td>3</td>\n",
       "      <td>001aJOc7CSQVo3XzoLG4DK</td>\n",
       "      <td>0.514257</td>\n",
       "      <td>0.526190</td>\n",
       "      <td>0.527488</td>\n",
       "    </tr>\n",
       "    <tr>\n",
       "      <td>4</td>\n",
       "      <td>001bpbe3Erwxc1cVfgVuFo</td>\n",
       "      <td>0.138390</td>\n",
       "      <td>0.273590</td>\n",
       "      <td>0.374755</td>\n",
       "    </tr>\n",
       "    <tr>\n",
       "      <td>...</td>\n",
       "      <td>...</td>\n",
       "      <td>...</td>\n",
       "      <td>...</td>\n",
       "      <td>...</td>\n",
       "    </tr>\n",
       "    <tr>\n",
       "      <td>64103</td>\n",
       "      <td>7zxbGCI5DeZCwpbYXn20it</td>\n",
       "      <td>0.157327</td>\n",
       "      <td>0.144278</td>\n",
       "      <td>0.136110</td>\n",
       "    </tr>\n",
       "    <tr>\n",
       "      <td>64104</td>\n",
       "      <td>7zyObVag8rUjItn71SkIrh</td>\n",
       "      <td>0.469292</td>\n",
       "      <td>0.569507</td>\n",
       "      <td>0.644976</td>\n",
       "    </tr>\n",
       "    <tr>\n",
       "      <td>64105</td>\n",
       "      <td>7zySlNgrPI1dWfMBIjTIKD</td>\n",
       "      <td>0.460910</td>\n",
       "      <td>0.441275</td>\n",
       "      <td>0.430613</td>\n",
       "    </tr>\n",
       "    <tr>\n",
       "      <td>64106</td>\n",
       "      <td>7zyWAQgUX6rJprlFm6sqFv</td>\n",
       "      <td>0.240846</td>\n",
       "      <td>0.296961</td>\n",
       "      <td>0.457538</td>\n",
       "    </tr>\n",
       "    <tr>\n",
       "      <td>64107</td>\n",
       "      <td>7zyZ33s4LRFS3S0r7eKBZs</td>\n",
       "      <td>0.493925</td>\n",
       "      <td>0.524044</td>\n",
       "      <td>0.492325</td>\n",
       "    </tr>\n",
       "  </tbody>\n",
       "</table>\n",
       "<p>64108 rows × 4 columns</p>\n",
       "</div>"
      ],
      "text/plain": [
       "            spotify_artist_id  mean_value_0  mean_value_1  mean_value_2\n",
       "0      0001ZVMPt41Vwzt1zsmuzp      0.397223      0.154088      0.104141\n",
       "1      000BblCiHJeKvtiq5aiHOs      0.335175      0.362322      0.371357\n",
       "2      001TRduQniM6dsJbQpMsbJ      0.475081      0.490173      0.490428\n",
       "3      001aJOc7CSQVo3XzoLG4DK      0.514257      0.526190      0.527488\n",
       "4      001bpbe3Erwxc1cVfgVuFo      0.138390      0.273590      0.374755\n",
       "...                       ...           ...           ...           ...\n",
       "64103  7zxbGCI5DeZCwpbYXn20it      0.157327      0.144278      0.136110\n",
       "64104  7zyObVag8rUjItn71SkIrh      0.469292      0.569507      0.644976\n",
       "64105  7zySlNgrPI1dWfMBIjTIKD      0.460910      0.441275      0.430613\n",
       "64106  7zyWAQgUX6rJprlFm6sqFv      0.240846      0.296961      0.457538\n",
       "64107  7zyZ33s4LRFS3S0r7eKBZs      0.493925      0.524044      0.492325\n",
       "\n",
       "[64108 rows x 4 columns]"
      ]
     },
     "execution_count": 668,
     "metadata": {},
     "output_type": "execute_result"
    }
   ],
   "source": [
    "# Normalizing y through MinMax\n",
    "y_normalized = y.copy()\n",
    "num_feats_y = [feature for feature in y_normalized.columns if y_normalized[feature].dtype != \"O\"]\n",
    "\n",
    "y_normalized[num_feats_y] = mms.fit_transform(y_normalized[num_feats_y])\n",
    "y_normalized"
   ]
  },
  {
   "cell_type": "markdown",
   "metadata": {},
   "source": [
    "#### Normalizing X"
   ]
  },
  {
   "cell_type": "code",
   "execution_count": 655,
   "metadata": {
    "ExecuteTime": {
     "end_time": "2021-02-18T19:13:03.355235Z",
     "start_time": "2021-02-18T19:13:03.344702Z"
    }
   },
   "outputs": [
    {
     "data": {
      "text/plain": [
       "['album', 'single', 'not_editorial_playlist', 'editorial_playlist']"
      ]
     },
     "execution_count": 655,
     "metadata": {},
     "output_type": "execute_result"
    }
   ],
   "source": [
    "num_feats"
   ]
  },
  {
   "cell_type": "code",
   "execution_count": 657,
   "metadata": {
    "ExecuteTime": {
     "end_time": "2021-02-18T19:15:19.599999Z",
     "start_time": "2021-02-18T19:15:19.532485Z"
    }
   },
   "outputs": [],
   "source": [
    "# Normalizing all features in X except for the artist ID.\n",
    "X_normalized = []\n",
    "for df in X_final:\n",
    "    df_x = df.copy()\n",
    "    df_x[num_feats] = mms.fit_transform(df[num_feats])\n",
    "    X_normalized.append(df_x)"
   ]
  },
  {
   "cell_type": "code",
   "execution_count": 659,
   "metadata": {
    "ExecuteTime": {
     "end_time": "2021-02-18T19:15:32.305240Z",
     "start_time": "2021-02-18T19:15:32.281066Z"
    }
   },
   "outputs": [
    {
     "data": {
      "text/html": [
       "<div>\n",
       "<style scoped>\n",
       "    .dataframe tbody tr th:only-of-type {\n",
       "        vertical-align: middle;\n",
       "    }\n",
       "\n",
       "    .dataframe tbody tr th {\n",
       "        vertical-align: top;\n",
       "    }\n",
       "\n",
       "    .dataframe thead th {\n",
       "        text-align: right;\n",
       "    }\n",
       "</style>\n",
       "<table border=\"1\" class=\"dataframe\">\n",
       "  <thead>\n",
       "    <tr style=\"text-align: right;\">\n",
       "      <th></th>\n",
       "      <th>spotify_artist_id</th>\n",
       "      <th>album</th>\n",
       "      <th>single</th>\n",
       "      <th>not_editorial_playlist</th>\n",
       "      <th>editorial_playlist</th>\n",
       "    </tr>\n",
       "  </thead>\n",
       "  <tbody>\n",
       "    <tr>\n",
       "      <td>0</td>\n",
       "      <td>001aJOc7CSQVo3XzoLG4DK</td>\n",
       "      <td>0.000</td>\n",
       "      <td>0.010638</td>\n",
       "      <td>0.000570</td>\n",
       "      <td>0.000425</td>\n",
       "    </tr>\n",
       "    <tr>\n",
       "      <td>1</td>\n",
       "      <td>0052sLPmKyG6ou86BEhYjt</td>\n",
       "      <td>0.000</td>\n",
       "      <td>0.010638</td>\n",
       "      <td>0.000000</td>\n",
       "      <td>0.014862</td>\n",
       "    </tr>\n",
       "    <tr>\n",
       "      <td>2</td>\n",
       "      <td>006ibfxHXj6ewIkihKcaS2</td>\n",
       "      <td>0.250</td>\n",
       "      <td>0.031915</td>\n",
       "      <td>0.001520</td>\n",
       "      <td>0.001274</td>\n",
       "    </tr>\n",
       "    <tr>\n",
       "      <td>3</td>\n",
       "      <td>008PpLcKUtVXle6JSwkq3I</td>\n",
       "      <td>0.000</td>\n",
       "      <td>0.021277</td>\n",
       "      <td>0.000000</td>\n",
       "      <td>0.004246</td>\n",
       "    </tr>\n",
       "    <tr>\n",
       "      <td>4</td>\n",
       "      <td>009IKtLg2rg2QMbvNtWaoh</td>\n",
       "      <td>0.250</td>\n",
       "      <td>0.053191</td>\n",
       "      <td>0.000000</td>\n",
       "      <td>0.001699</td>\n",
       "    </tr>\n",
       "    <tr>\n",
       "      <td>...</td>\n",
       "      <td>...</td>\n",
       "      <td>...</td>\n",
       "      <td>...</td>\n",
       "      <td>...</td>\n",
       "      <td>...</td>\n",
       "    </tr>\n",
       "    <tr>\n",
       "      <td>9447</td>\n",
       "      <td>7zmuMr74dNGqjq74uibncO</td>\n",
       "      <td>0.125</td>\n",
       "      <td>0.021277</td>\n",
       "      <td>0.003231</td>\n",
       "      <td>0.003822</td>\n",
       "    </tr>\n",
       "    <tr>\n",
       "      <td>9448</td>\n",
       "      <td>7zmxRagidm9E5dF0mGhQ6K</td>\n",
       "      <td>0.500</td>\n",
       "      <td>0.074468</td>\n",
       "      <td>0.000000</td>\n",
       "      <td>0.000849</td>\n",
       "    </tr>\n",
       "    <tr>\n",
       "      <td>9449</td>\n",
       "      <td>7zrWMnPOpwr5AEt670VKMc</td>\n",
       "      <td>0.250</td>\n",
       "      <td>0.053191</td>\n",
       "      <td>0.000380</td>\n",
       "      <td>0.002123</td>\n",
       "    </tr>\n",
       "    <tr>\n",
       "      <td>9450</td>\n",
       "      <td>7zyObVag8rUjItn71SkIrh</td>\n",
       "      <td>0.000</td>\n",
       "      <td>0.042553</td>\n",
       "      <td>0.006842</td>\n",
       "      <td>0.092144</td>\n",
       "    </tr>\n",
       "    <tr>\n",
       "      <td>9451</td>\n",
       "      <td>7zyZ33s4LRFS3S0r7eKBZs</td>\n",
       "      <td>0.000</td>\n",
       "      <td>0.021277</td>\n",
       "      <td>0.005511</td>\n",
       "      <td>0.000849</td>\n",
       "    </tr>\n",
       "  </tbody>\n",
       "</table>\n",
       "<p>9452 rows × 5 columns</p>\n",
       "</div>"
      ],
      "text/plain": [
       "           spotify_artist_id  album    single  not_editorial_playlist  \\\n",
       "0     001aJOc7CSQVo3XzoLG4DK  0.000  0.010638                0.000570   \n",
       "1     0052sLPmKyG6ou86BEhYjt  0.000  0.010638                0.000000   \n",
       "2     006ibfxHXj6ewIkihKcaS2  0.250  0.031915                0.001520   \n",
       "3     008PpLcKUtVXle6JSwkq3I  0.000  0.021277                0.000000   \n",
       "4     009IKtLg2rg2QMbvNtWaoh  0.250  0.053191                0.000000   \n",
       "...                      ...    ...       ...                     ...   \n",
       "9447  7zmuMr74dNGqjq74uibncO  0.125  0.021277                0.003231   \n",
       "9448  7zmxRagidm9E5dF0mGhQ6K  0.500  0.074468                0.000000   \n",
       "9449  7zrWMnPOpwr5AEt670VKMc  0.250  0.053191                0.000380   \n",
       "9450  7zyObVag8rUjItn71SkIrh  0.000  0.042553                0.006842   \n",
       "9451  7zyZ33s4LRFS3S0r7eKBZs  0.000  0.021277                0.005511   \n",
       "\n",
       "      editorial_playlist  \n",
       "0               0.000425  \n",
       "1               0.014862  \n",
       "2               0.001274  \n",
       "3               0.004246  \n",
       "4               0.001699  \n",
       "...                  ...  \n",
       "9447            0.003822  \n",
       "9448            0.000849  \n",
       "9449            0.002123  \n",
       "9450            0.092144  \n",
       "9451            0.000849  \n",
       "\n",
       "[9452 rows x 5 columns]"
      ]
     },
     "execution_count": 659,
     "metadata": {},
     "output_type": "execute_result"
    }
   ],
   "source": [
    "X_normalized[0]"
   ]
  },
  {
   "cell_type": "code",
   "execution_count": 682,
   "metadata": {
    "ExecuteTime": {
     "end_time": "2021-02-18T23:16:40.157464Z",
     "start_time": "2021-02-18T23:16:39.744725Z"
    }
   },
   "outputs": [],
   "source": [
    "'''\n",
    "Since the model will use the values from the current period to predict the mean popularity \n",
    "score for the upcoming period, we will use the current period's mean popularity as a feature.\n",
    "Below, we attach the current period's mean popularity to the X dataset\n",
    "'''\n",
    "preprocessed_df = []\n",
    "for i, df in enumerate(X_normalized):\n",
    "    y_col_name = \"mean_value_{}\".format(i)\n",
    "    y_col_next = \"mean_value_{}\".format(i+1)\n",
    "    df_new = df.merge(y_normalized[[\"spotify_artist_id\", y_col_name]], on=\"spotify_artist_id\").rename(\n",
    "        columns={y_col_name: \"mean_popularity\"})\n",
    "    try:\n",
    "        df_new = df_new.merge(y_normalized[[\"spotify_artist_id\", y_col_next]], on=\"spotify_artist_id\").rename(\n",
    "            columns={y_col_next: \"y\"})\n",
    "    except:\n",
    "        pass\n",
    "    \n",
    "    preprocessed_df.append(df_new)"
   ]
  },
  {
   "cell_type": "code",
   "execution_count": 690,
   "metadata": {
    "ExecuteTime": {
     "end_time": "2021-02-18T23:21:20.943128Z",
     "start_time": "2021-02-18T23:21:20.896910Z"
    }
   },
   "outputs": [
    {
     "data": {
      "text/html": [
       "<div>\n",
       "<style scoped>\n",
       "    .dataframe tbody tr th:only-of-type {\n",
       "        vertical-align: middle;\n",
       "    }\n",
       "\n",
       "    .dataframe tbody tr th {\n",
       "        vertical-align: top;\n",
       "    }\n",
       "\n",
       "    .dataframe thead th {\n",
       "        text-align: right;\n",
       "    }\n",
       "</style>\n",
       "<table border=\"1\" class=\"dataframe\">\n",
       "  <thead>\n",
       "    <tr style=\"text-align: right;\">\n",
       "      <th></th>\n",
       "      <th>spotify_artist_id</th>\n",
       "      <th>album</th>\n",
       "      <th>single</th>\n",
       "      <th>not_editorial_playlist</th>\n",
       "      <th>editorial_playlist</th>\n",
       "      <th>mean_popularity</th>\n",
       "      <th>y</th>\n",
       "    </tr>\n",
       "  </thead>\n",
       "  <tbody>\n",
       "    <tr>\n",
       "      <td>0</td>\n",
       "      <td>001aJOc7CSQVo3XzoLG4DK</td>\n",
       "      <td>0.0</td>\n",
       "      <td>0.010638</td>\n",
       "      <td>0.00057</td>\n",
       "      <td>0.000425</td>\n",
       "      <td>0.514257</td>\n",
       "      <td>0.526190</td>\n",
       "    </tr>\n",
       "    <tr>\n",
       "      <td>1</td>\n",
       "      <td>0052sLPmKyG6ou86BEhYjt</td>\n",
       "      <td>0.0</td>\n",
       "      <td>0.010638</td>\n",
       "      <td>0.00000</td>\n",
       "      <td>0.014862</td>\n",
       "      <td>0.512026</td>\n",
       "      <td>0.523279</td>\n",
       "    </tr>\n",
       "  </tbody>\n",
       "</table>\n",
       "</div>"
      ],
      "text/plain": [
       "        spotify_artist_id  album    single  not_editorial_playlist  \\\n",
       "0  001aJOc7CSQVo3XzoLG4DK    0.0  0.010638                 0.00057   \n",
       "1  0052sLPmKyG6ou86BEhYjt    0.0  0.010638                 0.00000   \n",
       "\n",
       "   editorial_playlist  mean_popularity         y  \n",
       "0            0.000425         0.514257  0.526190  \n",
       "1            0.014862         0.512026  0.523279  "
      ]
     },
     "metadata": {},
     "output_type": "display_data"
    },
    {
     "data": {
      "text/html": [
       "<div>\n",
       "<style scoped>\n",
       "    .dataframe tbody tr th:only-of-type {\n",
       "        vertical-align: middle;\n",
       "    }\n",
       "\n",
       "    .dataframe tbody tr th {\n",
       "        vertical-align: top;\n",
       "    }\n",
       "\n",
       "    .dataframe thead th {\n",
       "        text-align: right;\n",
       "    }\n",
       "</style>\n",
       "<table border=\"1\" class=\"dataframe\">\n",
       "  <thead>\n",
       "    <tr style=\"text-align: right;\">\n",
       "      <th></th>\n",
       "      <th>spotify_artist_id</th>\n",
       "      <th>album</th>\n",
       "      <th>single</th>\n",
       "      <th>not_editorial_playlist</th>\n",
       "      <th>editorial_playlist</th>\n",
       "      <th>mean_popularity</th>\n",
       "      <th>y</th>\n",
       "    </tr>\n",
       "  </thead>\n",
       "  <tbody>\n",
       "    <tr>\n",
       "      <td>0</td>\n",
       "      <td>001aJOc7CSQVo3XzoLG4DK</td>\n",
       "      <td>0.125</td>\n",
       "      <td>0.007143</td>\n",
       "      <td>0.002023</td>\n",
       "      <td>0.001584</td>\n",
       "      <td>0.526190</td>\n",
       "      <td>0.527488</td>\n",
       "    </tr>\n",
       "    <tr>\n",
       "      <td>1</td>\n",
       "      <td>001o475CIcdKHkvgKc9t8H</td>\n",
       "      <td>0.000</td>\n",
       "      <td>0.042857</td>\n",
       "      <td>0.000368</td>\n",
       "      <td>0.001056</td>\n",
       "      <td>0.499237</td>\n",
       "      <td>0.533806</td>\n",
       "    </tr>\n",
       "  </tbody>\n",
       "</table>\n",
       "</div>"
      ],
      "text/plain": [
       "        spotify_artist_id  album    single  not_editorial_playlist  \\\n",
       "0  001aJOc7CSQVo3XzoLG4DK  0.125  0.007143                0.002023   \n",
       "1  001o475CIcdKHkvgKc9t8H  0.000  0.042857                0.000368   \n",
       "\n",
       "   editorial_playlist  mean_popularity         y  \n",
       "0            0.001584         0.526190  0.527488  \n",
       "1            0.001056         0.499237  0.533806  "
      ]
     },
     "metadata": {},
     "output_type": "display_data"
    },
    {
     "data": {
      "text/html": [
       "<div>\n",
       "<style scoped>\n",
       "    .dataframe tbody tr th:only-of-type {\n",
       "        vertical-align: middle;\n",
       "    }\n",
       "\n",
       "    .dataframe tbody tr th {\n",
       "        vertical-align: top;\n",
       "    }\n",
       "\n",
       "    .dataframe thead th {\n",
       "        text-align: right;\n",
       "    }\n",
       "</style>\n",
       "<table border=\"1\" class=\"dataframe\">\n",
       "  <thead>\n",
       "    <tr style=\"text-align: right;\">\n",
       "      <th></th>\n",
       "      <th>spotify_artist_id</th>\n",
       "      <th>album</th>\n",
       "      <th>single</th>\n",
       "      <th>not_editorial_playlist</th>\n",
       "      <th>editorial_playlist</th>\n",
       "      <th>mean_popularity</th>\n",
       "    </tr>\n",
       "  </thead>\n",
       "  <tbody>\n",
       "    <tr>\n",
       "      <td>0</td>\n",
       "      <td>001aJOc7CSQVo3XzoLG4DK</td>\n",
       "      <td>0.0</td>\n",
       "      <td>0.004630</td>\n",
       "      <td>0.001626</td>\n",
       "      <td>0.004618</td>\n",
       "      <td>0.527488</td>\n",
       "    </tr>\n",
       "    <tr>\n",
       "      <td>1</td>\n",
       "      <td>001o475CIcdKHkvgKc9t8H</td>\n",
       "      <td>0.0</td>\n",
       "      <td>0.009259</td>\n",
       "      <td>0.000155</td>\n",
       "      <td>0.003519</td>\n",
       "      <td>0.533806</td>\n",
       "    </tr>\n",
       "  </tbody>\n",
       "</table>\n",
       "</div>"
      ],
      "text/plain": [
       "        spotify_artist_id  album    single  not_editorial_playlist  \\\n",
       "0  001aJOc7CSQVo3XzoLG4DK    0.0  0.004630                0.001626   \n",
       "1  001o475CIcdKHkvgKc9t8H    0.0  0.009259                0.000155   \n",
       "\n",
       "   editorial_playlist  mean_popularity  \n",
       "0            0.004618         0.527488  \n",
       "1            0.003519         0.533806  "
      ]
     },
     "metadata": {},
     "output_type": "display_data"
    }
   ],
   "source": [
    "''' \n",
    "As seen below, the two first datasets will be used to train the model \n",
    "and the last X set will be for the model to predict.\n",
    "'''\n",
    "for df in preprocessed_df:\n",
    "    display(df.head(2))"
   ]
  },
  {
   "cell_type": "code",
   "execution_count": 691,
   "metadata": {
    "ExecuteTime": {
     "end_time": "2021-02-18T23:21:36.439174Z",
     "start_time": "2021-02-18T23:21:36.410449Z"
    }
   },
   "outputs": [],
   "source": [
    "# Finalizing the preprocessing stage by preparing the datasets to be used for the machine learning.\n",
    "dff = preprocessed_df[0].append(preprocessed_df[1])\n",
    "\n",
    "X = dff.drop([\"spotify_artist_id\", \"y\"], axis=1)\n",
    "y = dff[\"y\"]\n",
    "X_pred = preprocessed_df[2]"
   ]
  },
  {
   "cell_type": "code",
   "execution_count": 696,
   "metadata": {
    "ExecuteTime": {
     "end_time": "2021-02-18T23:22:34.766716Z",
     "start_time": "2021-02-18T23:22:34.748021Z"
    }
   },
   "outputs": [
    {
     "data": {
      "text/html": [
       "<div>\n",
       "<style scoped>\n",
       "    .dataframe tbody tr th:only-of-type {\n",
       "        vertical-align: middle;\n",
       "    }\n",
       "\n",
       "    .dataframe tbody tr th {\n",
       "        vertical-align: top;\n",
       "    }\n",
       "\n",
       "    .dataframe thead th {\n",
       "        text-align: right;\n",
       "    }\n",
       "</style>\n",
       "<table border=\"1\" class=\"dataframe\">\n",
       "  <thead>\n",
       "    <tr style=\"text-align: right;\">\n",
       "      <th></th>\n",
       "      <th>album</th>\n",
       "      <th>single</th>\n",
       "      <th>not_editorial_playlist</th>\n",
       "      <th>editorial_playlist</th>\n",
       "      <th>mean_popularity</th>\n",
       "    </tr>\n",
       "  </thead>\n",
       "  <tbody>\n",
       "    <tr>\n",
       "      <td>0</td>\n",
       "      <td>0.00</td>\n",
       "      <td>0.010638</td>\n",
       "      <td>0.00057</td>\n",
       "      <td>0.000425</td>\n",
       "      <td>0.514257</td>\n",
       "    </tr>\n",
       "    <tr>\n",
       "      <td>1</td>\n",
       "      <td>0.00</td>\n",
       "      <td>0.010638</td>\n",
       "      <td>0.00000</td>\n",
       "      <td>0.014862</td>\n",
       "      <td>0.512026</td>\n",
       "    </tr>\n",
       "    <tr>\n",
       "      <td>2</td>\n",
       "      <td>0.25</td>\n",
       "      <td>0.031915</td>\n",
       "      <td>0.00152</td>\n",
       "      <td>0.001274</td>\n",
       "      <td>0.404338</td>\n",
       "    </tr>\n",
       "    <tr>\n",
       "      <td>3</td>\n",
       "      <td>0.00</td>\n",
       "      <td>0.021277</td>\n",
       "      <td>0.00000</td>\n",
       "      <td>0.004246</td>\n",
       "      <td>0.321646</td>\n",
       "    </tr>\n",
       "    <tr>\n",
       "      <td>4</td>\n",
       "      <td>0.25</td>\n",
       "      <td>0.053191</td>\n",
       "      <td>0.00000</td>\n",
       "      <td>0.001699</td>\n",
       "      <td>0.463923</td>\n",
       "    </tr>\n",
       "  </tbody>\n",
       "</table>\n",
       "</div>"
      ],
      "text/plain": [
       "   album    single  not_editorial_playlist  editorial_playlist  \\\n",
       "0   0.00  0.010638                 0.00057            0.000425   \n",
       "1   0.00  0.010638                 0.00000            0.014862   \n",
       "2   0.25  0.031915                 0.00152            0.001274   \n",
       "3   0.00  0.021277                 0.00000            0.004246   \n",
       "4   0.25  0.053191                 0.00000            0.001699   \n",
       "\n",
       "   mean_popularity  \n",
       "0         0.514257  \n",
       "1         0.512026  \n",
       "2         0.404338  \n",
       "3         0.321646  \n",
       "4         0.463923  "
      ]
     },
     "execution_count": 696,
     "metadata": {},
     "output_type": "execute_result"
    }
   ],
   "source": [
    "X.head()"
   ]
  },
  {
   "cell_type": "code",
   "execution_count": 697,
   "metadata": {
    "ExecuteTime": {
     "end_time": "2021-02-18T23:22:41.054975Z",
     "start_time": "2021-02-18T23:22:41.045639Z"
    }
   },
   "outputs": [
    {
     "data": {
      "text/plain": [
       "0    0.526190\n",
       "1    0.523279\n",
       "2    0.463696\n",
       "3    0.588207\n",
       "4    0.472999\n",
       "Name: y, dtype: float64"
      ]
     },
     "execution_count": 697,
     "metadata": {},
     "output_type": "execute_result"
    }
   ],
   "source": [
    "y.head()"
   ]
  },
  {
   "cell_type": "code",
   "execution_count": 860,
   "metadata": {
    "ExecuteTime": {
     "end_time": "2021-02-19T14:29:27.415665Z",
     "start_time": "2021-02-19T14:29:25.354662Z"
    }
   },
   "outputs": [
    {
     "data": {
      "image/png": "[encoded data removed]",
      "text/plain": [
       "<Figure size 1152x432 with 2 Axes>"
      ]
     },
     "metadata": {
      "needs_background": "light"
     },
     "output_type": "display_data"
    }
   ],
   "source": [
    "# Checking the correlation between the variables and the y variable.\n",
    "plt.figure(figsize=(16, 6))\n",
    "heatmap = sns.heatmap(dff.corr(), vmin=-1, vmax=1, annot=True)\n",
    "heatmap.set_title('Correlation Heatmap', fontdict={'fontsize':12}, pad=12);"
   ]
  },
  {
   "cell_type": "markdown",
   "metadata": {},
   "source": [
    "#### Splitting the dataset into train and test"
   ]
  },
  {
   "cell_type": "code",
   "execution_count": 698,
   "metadata": {
    "ExecuteTime": {
     "end_time": "2021-02-18T23:38:08.749273Z",
     "start_time": "2021-02-18T23:38:07.710986Z"
    }
   },
   "outputs": [],
   "source": [
    "from sklearn.model_selection import train_test_split"
   ]
  },
  {
   "cell_type": "code",
   "execution_count": 699,
   "metadata": {
    "ExecuteTime": {
     "end_time": "2021-02-18T23:39:41.623867Z",
     "start_time": "2021-02-18T23:39:41.588630Z"
    }
   },
   "outputs": [],
   "source": [
    "# Randomized split into train and test set\n",
    "X_train, X_test, y_train, y_test = train_test_split(X, y, test_size=0.2, random_state=42)"
   ]
  },
  {
   "cell_type": "code",
   "execution_count": 700,
   "metadata": {
    "ExecuteTime": {
     "end_time": "2021-02-18T23:39:51.957822Z",
     "start_time": "2021-02-18T23:39:51.947906Z"
    }
   },
   "outputs": [
    {
     "data": {
      "text/plain": [
       "(15415, 5)"
      ]
     },
     "execution_count": 700,
     "metadata": {},
     "output_type": "execute_result"
    }
   ],
   "source": [
    "X_train.shape"
   ]
  },
  {
   "cell_type": "code",
   "execution_count": 701,
   "metadata": {
    "ExecuteTime": {
     "end_time": "2021-02-18T23:40:08.294361Z",
     "start_time": "2021-02-18T23:40:08.286138Z"
    }
   },
   "outputs": [
    {
     "data": {
      "text/plain": [
       "(3854, 5)"
      ]
     },
     "execution_count": 701,
     "metadata": {},
     "output_type": "execute_result"
    }
   ],
   "source": [
    "X_test.shape"
   ]
  },
  {
   "cell_type": "markdown",
   "metadata": {},
   "source": [
    "More features that could be included:\n",
    "- Single to album ratio\n",
    "- Collaborations\n",
    "- IG metrics \n",
    "- Youtube metrics\n",
    "- Genres (one-hot encoded)\n",
    "- Countries (one-hot encoded)\n",
    "\n",
    "Other Approaches to look into:\n",
    "- For the time series regression: could take weekly data instead\n",
    "- Rolling window yield a better result"
   ]
  },
  {
   "cell_type": "markdown",
   "metadata": {},
   "source": [
    "## Machine Learning"
   ]
  },
  {
   "cell_type": "markdown",
   "metadata": {
    "ExecuteTime": {
     "end_time": "2021-02-18T23:41:23.727627Z",
     "start_time": "2021-02-18T23:41:23.721922Z"
    }
   },
   "source": [
    "### Training Models"
   ]
  },
  {
   "cell_type": "code",
   "execution_count": 704,
   "metadata": {
    "ExecuteTime": {
     "end_time": "2021-02-18T23:46:31.541824Z",
     "start_time": "2021-02-18T23:46:30.966389Z"
    }
   },
   "outputs": [],
   "source": [
    "# Some Regression models\n",
    "from sklearn.linear_model import LinearRegression\n",
    "from sklearn.tree import DecisionTreeRegressor\n",
    "from sklearn.ensemble import RandomForestRegressor\n",
    "from sklearn.neighbors import KNeighborsRegressor\n",
    "from sklearn.svm import SVR\n",
    "\n",
    "# Cross-validation\n",
    "from sklearn.model_selection import cross_val_score"
   ]
  },
  {
   "cell_type": "code",
   "execution_count": 719,
   "metadata": {
    "ExecuteTime": {
     "end_time": "2021-02-18T23:58:15.760763Z",
     "start_time": "2021-02-18T23:58:15.753190Z"
    }
   },
   "outputs": [],
   "source": [
    "# Display model scores (errors and std. dev.)\n",
    "def display_scores(scores):\n",
    "    print(\"Mean Errors: \", scores)\n",
    "    print(\"Overall Mean Error: \", scores.mean())\n",
    "    print(\"Std: \", scores.std())"
   ]
  },
  {
   "cell_type": "code",
   "execution_count": 720,
   "metadata": {
    "ExecuteTime": {
     "end_time": "2021-02-18T23:58:22.624291Z",
     "start_time": "2021-02-18T23:58:22.463194Z"
    }
   },
   "outputs": [
    {
     "name": "stdout",
     "output_type": "stream",
     "text": [
      "Mean Errors:  [0.04870074 0.0464383  0.04582772 0.04417095 0.04950278 0.04882868\n",
      " 0.04613783 0.04509551 0.04740421 0.04841551]\n",
      "Overall Mean Error:  0.04705222459334228\n",
      "Std:  0.0016942240043244696\n"
     ]
    }
   ],
   "source": [
    "# Linear Regression\n",
    "lin_reg = LinearRegression()\n",
    "scores = cross_val_score(lin_reg, X_train, y_train,\n",
    "                       scoring=\"neg_mean_squared_error\", cv=10)\n",
    "tree_rmse_scores = np.sqrt(-scores)\n",
    "display_scores(tree_rmse_scores)"
   ]
  },
  {
   "cell_type": "code",
   "execution_count": 721,
   "metadata": {
    "ExecuteTime": {
     "end_time": "2021-02-18T23:58:29.017407Z",
     "start_time": "2021-02-18T23:58:28.319578Z"
    }
   },
   "outputs": [
    {
     "name": "stdout",
     "output_type": "stream",
     "text": [
      "Mean Errors:  [0.06973628 0.06396341 0.06153841 0.06296606 0.0664362  0.06835934\n",
      " 0.06743016 0.0632381  0.06749492 0.06976659]\n",
      "Overall Mean Error:  0.06609294759421588\n",
      "Std:  0.0028104073071417617\n"
     ]
    }
   ],
   "source": [
    "# Decision Tree Regression\n",
    "dt_reg = DecisionTreeRegressor()\n",
    "scores = cross_val_score(dt_reg, X_train, y_train,\n",
    "                       scoring=\"neg_mean_squared_error\", cv=10)\n",
    "tree_rmse_scores = np.sqrt(-scores)\n",
    "display_scores(tree_rmse_scores)"
   ]
  },
  {
   "cell_type": "code",
   "execution_count": 734,
   "metadata": {
    "ExecuteTime": {
     "end_time": "2021-02-19T00:59:21.760159Z",
     "start_time": "2021-02-19T00:58:32.039746Z"
    }
   },
   "outputs": [
    {
     "name": "stdout",
     "output_type": "stream",
     "text": [
      "Mean Errors:  [0.04845085 0.04782457 0.04578412 0.04452342 0.0485736  0.04822155\n",
      " 0.04638297 0.04566445 0.04885574 0.04756643]\n",
      "Overall Mean Error:  0.047184769806885817\n",
      "Std:  0.0014125415767783577\n"
     ]
    }
   ],
   "source": [
    "# Random Forest Regression\n",
    "rnd_reg = RandomForestRegressor()\n",
    "scores = cross_val_score(rnd_reg, X_train, y_train,\n",
    "                       scoring=\"neg_mean_squared_error\", cv=10)\n",
    "tree_rmse_scores = np.sqrt(-scores)\n",
    "display_scores(tree_rmse_scores)"
   ]
  },
  {
   "cell_type": "code",
   "execution_count": 723,
   "metadata": {
    "ExecuteTime": {
     "end_time": "2021-02-18T23:59:38.019257Z",
     "start_time": "2021-02-18T23:59:36.967588Z"
    }
   },
   "outputs": [
    {
     "name": "stdout",
     "output_type": "stream",
     "text": [
      "Mean Errors:  [0.05190937 0.04993321 0.04761155 0.0463791  0.04950497 0.05004948\n",
      " 0.04921428 0.04842397 0.05114247 0.05092825]\n",
      "Overall Mean Error:  0.0495096662187469\n",
      "Std:  0.0015992835309683643\n"
     ]
    }
   ],
   "source": [
    "# K Neighbors Regression\n",
    "kn_reg = KNeighborsRegressor()\n",
    "scores = cross_val_score(kn_reg, X_train, y_train,\n",
    "                       scoring=\"neg_mean_squared_error\", cv=10)\n",
    "tree_rmse_scores = np.sqrt(-scores)\n",
    "display_scores(tree_rmse_scores)"
   ]
  },
  {
   "cell_type": "code",
   "execution_count": 724,
   "metadata": {
    "ExecuteTime": {
     "end_time": "2021-02-18T23:59:47.213966Z",
     "start_time": "2021-02-18T23:59:42.348819Z"
    }
   },
   "outputs": [
    {
     "name": "stdout",
     "output_type": "stream",
     "text": [
      "Mean Errors:  [0.05075256 0.04984442 0.04773321 0.04696867 0.04997379 0.05019732\n",
      " 0.04876292 0.04804008 0.0503904  0.04973491]\n",
      "Overall Mean Error:  0.04923982820896124\n",
      "Std:  0.0012154482881187568\n"
     ]
    }
   ],
   "source": [
    "# K Neighbors Regression\n",
    "svm_reg = SVR()\n",
    "scores = cross_val_score(svm_reg, X_train, y_train,\n",
    "                       scoring=\"neg_mean_squared_error\", cv=10)\n",
    "tree_rmse_scores = np.sqrt(-scores)\n",
    "display_scores(tree_rmse_scores)"
   ]
  },
  {
   "cell_type": "markdown",
   "metadata": {},
   "source": [
    "### Hyperparameter tuning"
   ]
  },
  {
   "cell_type": "markdown",
   "metadata": {},
   "source": [
    "Based on the results from above, we select two models for hyperparameter tuning: the linear regression and the random forest regression."
   ]
  },
  {
   "cell_type": "code",
   "execution_count": 738,
   "metadata": {
    "ExecuteTime": {
     "end_time": "2021-02-19T01:04:25.367442Z",
     "start_time": "2021-02-19T01:04:25.358138Z"
    }
   },
   "outputs": [],
   "source": [
    "from sklearn.model_selection import GridSearchCV"
   ]
  },
  {
   "cell_type": "code",
   "execution_count": 737,
   "metadata": {
    "ExecuteTime": {
     "end_time": "2021-02-19T01:00:21.899744Z",
     "start_time": "2021-02-19T01:00:21.889986Z"
    }
   },
   "outputs": [
    {
     "data": {
      "text/plain": [
       "{'bootstrap': True,\n",
       " 'ccp_alpha': 0.0,\n",
       " 'criterion': 'mse',\n",
       " 'max_depth': None,\n",
       " 'max_features': 'auto',\n",
       " 'max_leaf_nodes': None,\n",
       " 'max_samples': None,\n",
       " 'min_impurity_decrease': 0.0,\n",
       " 'min_impurity_split': None,\n",
       " 'min_samples_leaf': 1,\n",
       " 'min_samples_split': 2,\n",
       " 'min_weight_fraction_leaf': 0.0,\n",
       " 'n_estimators': 100,\n",
       " 'n_jobs': None,\n",
       " 'oob_score': False,\n",
       " 'random_state': None,\n",
       " 'verbose': 0,\n",
       " 'warm_start': False}"
      ]
     },
     "execution_count": 737,
     "metadata": {},
     "output_type": "execute_result"
    }
   ],
   "source": [
    "# Taking a look at current parameters\n",
    "rnd_reg.get_params()"
   ]
  },
  {
   "cell_type": "code",
   "execution_count": 739,
   "metadata": {
    "ExecuteTime": {
     "end_time": "2021-02-19T01:27:43.250698Z",
     "start_time": "2021-02-19T01:04:32.364738Z"
    }
   },
   "outputs": [
    {
     "data": {
      "text/plain": [
       "GridSearchCV(cv=5, estimator=RandomForestRegressor(),\n",
       "             param_grid=[{'max_features': ['auto', 'sqrt', 'log2'],\n",
       "                          'n_estimators': [50, 100, 150, 300, 600]},\n",
       "                         {'bootstrap': [False],\n",
       "                          'max_features': ['auto', 'sqrt', 'log2'],\n",
       "                          'n_estimators': [50, 100, 150, 300, 600]}],\n",
       "             return_train_score=True, scoring='neg_mean_squared_error')"
      ]
     },
     "execution_count": 739,
     "metadata": {},
     "output_type": "execute_result"
    }
   ],
   "source": [
    "# Using grid search to tune the hyperparameters of the rnd forest regressor. \n",
    "param_grid = [\n",
    "    {'n_estimators': [50, 100, 150, 300, 600], 'max_features': ['auto', 'sqrt', 'log2']},\n",
    "    {'bootstrap': [False], 'n_estimators': [50, 100, 150, 300, 600], 'max_features': ['auto', 'sqrt', 'log2']},\n",
    "  ]\n",
    "\n",
    "forest_reg = RandomForestRegressor()\n",
    "\n",
    "grid_search = GridSearchCV(forest_reg, param_grid, cv=5,\n",
    "                          scoring=\"neg_mean_squared_error\",\n",
    "                          return_train_score=True)\n",
    "\n",
    "grid_search.fit(X_train, y_train)"
   ]
  },
  {
   "cell_type": "code",
   "execution_count": 740,
   "metadata": {
    "ExecuteTime": {
     "end_time": "2021-02-19T08:32:10.746225Z",
     "start_time": "2021-02-19T08:32:10.732251Z"
    }
   },
   "outputs": [
    {
     "name": "stdout",
     "output_type": "stream",
     "text": [
      "Best Score: 0.04616211806832253\n"
     ]
    }
   ],
   "source": [
    "print(\"Best Score:\", np.sqrt(-grid_search.best_score_))"
   ]
  },
  {
   "cell_type": "markdown",
   "metadata": {},
   "source": [
    "### Ensemble learning"
   ]
  },
  {
   "cell_type": "markdown",
   "metadata": {},
   "source": [
    "We further try to improve the model by ensembling the above tuned model and the next best model (lin_reg)."
   ]
  },
  {
   "cell_type": "code",
   "execution_count": 741,
   "metadata": {
    "ExecuteTime": {
     "end_time": "2021-02-19T09:10:26.851870Z",
     "start_time": "2021-02-19T09:10:26.828321Z"
    }
   },
   "outputs": [],
   "source": [
    "from sklearn.ensemble import VotingRegressor"
   ]
  },
  {
   "cell_type": "code",
   "execution_count": 748,
   "metadata": {
    "ExecuteTime": {
     "end_time": "2021-02-19T09:31:55.860003Z",
     "start_time": "2021-02-19T09:26:28.351553Z"
    }
   },
   "outputs": [
    {
     "name": "stdout",
     "output_type": "stream",
     "text": [
      "Mean Errors:  [0.04737425 0.04566762 0.04437742 0.04260569 0.047449   0.046627\n",
      " 0.04470966 0.04404119 0.04662975 0.04631285]\n",
      "Overall Mean Error:  0.04557944458475087\n",
      "Std:  0.0015124007867193098\n"
     ]
    }
   ],
   "source": [
    "rnd_clf = grid_search.best_estimator_\n",
    "lin_reg = LinearRegression()\n",
    "\n",
    "voting_reg = VotingRegressor(\n",
    "            estimators=[('rnd', rnd_clf), ('lin_reg', lin_reg)],\n",
    "            n_jobs=-1, verbose=True)\n",
    "\n",
    "scores = cross_val_score(voting_reg, X_train, y_train,\n",
    "                       scoring=\"neg_mean_squared_error\", cv=10)\n",
    "\n",
    "tree_rmse_scores = np.sqrt(-scores)\n",
    "display_scores(tree_rmse_scores)"
   ]
  },
  {
   "cell_type": "code",
   "execution_count": 749,
   "metadata": {
    "ExecuteTime": {
     "end_time": "2021-02-19T09:35:29.967288Z",
     "start_time": "2021-02-19T09:34:53.211127Z"
    }
   },
   "outputs": [
    {
     "data": {
      "text/plain": [
       "VotingRegressor(estimators=[('rnd',\n",
       "                             RandomForestRegressor(max_features='sqrt',\n",
       "                                                   n_estimators=600)),\n",
       "                            ('lin_reg', LinearRegression())],\n",
       "                n_jobs=-1, verbose=True)"
      ]
     },
     "execution_count": 749,
     "metadata": {},
     "output_type": "execute_result"
    }
   ],
   "source": [
    "# Training the voting regressor\n",
    "voting_reg = VotingRegressor(\n",
    "            estimators=[('rnd', rnd_clf), ('lin_reg', lin_reg)],\n",
    "            n_jobs=-1, verbose=True)\n",
    "\n",
    "voting_reg.fit(X_train, y_train)"
   ]
  },
  {
   "cell_type": "markdown",
   "metadata": {},
   "source": [
    "### Evaluation on the Test Set"
   ]
  },
  {
   "cell_type": "code",
   "execution_count": 752,
   "metadata": {
    "ExecuteTime": {
     "end_time": "2021-02-19T09:37:46.015698Z",
     "start_time": "2021-02-19T09:37:46.001604Z"
    }
   },
   "outputs": [],
   "source": [
    "from sklearn.metrics import mean_squared_error"
   ]
  },
  {
   "cell_type": "code",
   "execution_count": 753,
   "metadata": {
    "ExecuteTime": {
     "end_time": "2021-02-19T09:37:51.435267Z",
     "start_time": "2021-02-19T09:37:50.663268Z"
    }
   },
   "outputs": [
    {
     "data": {
      "text/plain": [
       "0.04394710124869699"
      ]
     },
     "execution_count": 753,
     "metadata": {},
     "output_type": "execute_result"
    }
   ],
   "source": [
    "# Measuring the MSE on the test set\n",
    "y_test_pred = voting_reg.predict(X_test)\n",
    "mse = mean_squared_error(y_test, y_test_pred)\n",
    "rmse = np.sqrt(mse)\n",
    "rmse"
   ]
  },
  {
   "cell_type": "markdown",
   "metadata": {},
   "source": [
    "Not bad, the model performed even better on the test set than the validation set."
   ]
  },
  {
   "cell_type": "markdown",
   "metadata": {},
   "source": [
    "## Predictions"
   ]
  },
  {
   "cell_type": "markdown",
   "metadata": {},
   "source": [
    "In this section, we predict the mean popularity for the artists for the upcoming period."
   ]
  },
  {
   "cell_type": "code",
   "execution_count": 755,
   "metadata": {
    "ExecuteTime": {
     "end_time": "2021-02-19T09:39:58.148300Z",
     "start_time": "2021-02-19T09:39:58.112112Z"
    }
   },
   "outputs": [
    {
     "data": {
      "text/html": [
       "<div>\n",
       "<style scoped>\n",
       "    .dataframe tbody tr th:only-of-type {\n",
       "        vertical-align: middle;\n",
       "    }\n",
       "\n",
       "    .dataframe tbody tr th {\n",
       "        vertical-align: top;\n",
       "    }\n",
       "\n",
       "    .dataframe thead th {\n",
       "        text-align: right;\n",
       "    }\n",
       "</style>\n",
       "<table border=\"1\" class=\"dataframe\">\n",
       "  <thead>\n",
       "    <tr style=\"text-align: right;\">\n",
       "      <th></th>\n",
       "      <th>spotify_artist_id</th>\n",
       "      <th>album</th>\n",
       "      <th>single</th>\n",
       "      <th>not_editorial_playlist</th>\n",
       "      <th>editorial_playlist</th>\n",
       "      <th>mean_popularity</th>\n",
       "    </tr>\n",
       "  </thead>\n",
       "  <tbody>\n",
       "    <tr>\n",
       "      <td>0</td>\n",
       "      <td>001aJOc7CSQVo3XzoLG4DK</td>\n",
       "      <td>0.000</td>\n",
       "      <td>0.004630</td>\n",
       "      <td>0.001626</td>\n",
       "      <td>0.004618</td>\n",
       "      <td>0.527488</td>\n",
       "    </tr>\n",
       "    <tr>\n",
       "      <td>1</td>\n",
       "      <td>001o475CIcdKHkvgKc9t8H</td>\n",
       "      <td>0.000</td>\n",
       "      <td>0.009259</td>\n",
       "      <td>0.000155</td>\n",
       "      <td>0.003519</td>\n",
       "      <td>0.533806</td>\n",
       "    </tr>\n",
       "    <tr>\n",
       "      <td>2</td>\n",
       "      <td>003Lrmd4Hy04kSf0wZm3xm</td>\n",
       "      <td>0.125</td>\n",
       "      <td>0.000000</td>\n",
       "      <td>0.000000</td>\n",
       "      <td>0.016055</td>\n",
       "      <td>0.383475</td>\n",
       "    </tr>\n",
       "    <tr>\n",
       "      <td>3</td>\n",
       "      <td>003aZdOERqXUCxNAS91ZZt</td>\n",
       "      <td>0.000</td>\n",
       "      <td>0.018519</td>\n",
       "      <td>0.000000</td>\n",
       "      <td>0.002199</td>\n",
       "      <td>0.333776</td>\n",
       "    </tr>\n",
       "    <tr>\n",
       "      <td>4</td>\n",
       "      <td>0052sLPmKyG6ou86BEhYjt</td>\n",
       "      <td>0.000</td>\n",
       "      <td>0.004630</td>\n",
       "      <td>0.000077</td>\n",
       "      <td>0.021113</td>\n",
       "      <td>0.501090</td>\n",
       "    </tr>\n",
       "  </tbody>\n",
       "</table>\n",
       "</div>"
      ],
      "text/plain": [
       "        spotify_artist_id  album    single  not_editorial_playlist  \\\n",
       "0  001aJOc7CSQVo3XzoLG4DK  0.000  0.004630                0.001626   \n",
       "1  001o475CIcdKHkvgKc9t8H  0.000  0.009259                0.000155   \n",
       "2  003Lrmd4Hy04kSf0wZm3xm  0.125  0.000000                0.000000   \n",
       "3  003aZdOERqXUCxNAS91ZZt  0.000  0.018519                0.000000   \n",
       "4  0052sLPmKyG6ou86BEhYjt  0.000  0.004630                0.000077   \n",
       "\n",
       "   editorial_playlist  mean_popularity  \n",
       "0            0.004618         0.527488  \n",
       "1            0.003519         0.533806  \n",
       "2            0.016055         0.383475  \n",
       "3            0.002199         0.333776  \n",
       "4            0.021113         0.501090  "
      ]
     },
     "execution_count": 755,
     "metadata": {},
     "output_type": "execute_result"
    }
   ],
   "source": [
    "X_pred.head()"
   ]
  },
  {
   "cell_type": "code",
   "execution_count": 756,
   "metadata": {
    "ExecuteTime": {
     "end_time": "2021-02-19T09:40:20.207577Z",
     "start_time": "2021-02-19T09:40:18.204779Z"
    }
   },
   "outputs": [],
   "source": [
    "# Predicting using the voting regressor\n",
    "y_pred = voting_reg.predict(X_pred.drop(\"spotify_artist_id\", axis=1))"
   ]
  },
  {
   "cell_type": "code",
   "execution_count": 763,
   "metadata": {
    "ExecuteTime": {
     "end_time": "2021-02-19T09:42:30.282608Z",
     "start_time": "2021-02-19T09:42:30.272958Z"
    }
   },
   "outputs": [
    {
     "data": {
      "text/plain": [
       "array([0.5236581 , 0.54336961, 0.43199061, ..., 0.40984749, 0.50834728,\n",
       "       0.49256533])"
      ]
     },
     "execution_count": 763,
     "metadata": {},
     "output_type": "execute_result"
    }
   ],
   "source": [
    "# The predictions\n",
    "y_pred"
   ]
  },
  {
   "cell_type": "code",
   "execution_count": 764,
   "metadata": {
    "ExecuteTime": {
     "end_time": "2021-02-19T09:44:45.707910Z",
     "start_time": "2021-02-19T09:44:45.667088Z"
    }
   },
   "outputs": [],
   "source": [
    "# Adding the artist ids to the predictions\n",
    "artist_predictions = X_pred.copy()\n",
    "artist_predictions[\"predicted_popularity\"] = y_pred\n",
    "artist_predictions = artist_predictions[[\"spotify_artist_id\", \"predicted_popularity\"]]"
   ]
  },
  {
   "cell_type": "code",
   "execution_count": 765,
   "metadata": {
    "ExecuteTime": {
     "end_time": "2021-02-19T09:44:51.575392Z",
     "start_time": "2021-02-19T09:44:51.563831Z"
    }
   },
   "outputs": [
    {
     "data": {
      "text/html": [
       "<div>\n",
       "<style scoped>\n",
       "    .dataframe tbody tr th:only-of-type {\n",
       "        vertical-align: middle;\n",
       "    }\n",
       "\n",
       "    .dataframe tbody tr th {\n",
       "        vertical-align: top;\n",
       "    }\n",
       "\n",
       "    .dataframe thead th {\n",
       "        text-align: right;\n",
       "    }\n",
       "</style>\n",
       "<table border=\"1\" class=\"dataframe\">\n",
       "  <thead>\n",
       "    <tr style=\"text-align: right;\">\n",
       "      <th></th>\n",
       "      <th>spotify_artist_id</th>\n",
       "      <th>predicted_popularity</th>\n",
       "    </tr>\n",
       "  </thead>\n",
       "  <tbody>\n",
       "    <tr>\n",
       "      <td>0</td>\n",
       "      <td>001aJOc7CSQVo3XzoLG4DK</td>\n",
       "      <td>0.523658</td>\n",
       "    </tr>\n",
       "    <tr>\n",
       "      <td>1</td>\n",
       "      <td>001o475CIcdKHkvgKc9t8H</td>\n",
       "      <td>0.543370</td>\n",
       "    </tr>\n",
       "    <tr>\n",
       "      <td>2</td>\n",
       "      <td>003Lrmd4Hy04kSf0wZm3xm</td>\n",
       "      <td>0.431991</td>\n",
       "    </tr>\n",
       "    <tr>\n",
       "      <td>3</td>\n",
       "      <td>003aZdOERqXUCxNAS91ZZt</td>\n",
       "      <td>0.395796</td>\n",
       "    </tr>\n",
       "    <tr>\n",
       "      <td>4</td>\n",
       "      <td>0052sLPmKyG6ou86BEhYjt</td>\n",
       "      <td>0.508495</td>\n",
       "    </tr>\n",
       "  </tbody>\n",
       "</table>\n",
       "</div>"
      ],
      "text/plain": [
       "        spotify_artist_id  predicted_popularity\n",
       "0  001aJOc7CSQVo3XzoLG4DK              0.523658\n",
       "1  001o475CIcdKHkvgKc9t8H              0.543370\n",
       "2  003Lrmd4Hy04kSf0wZm3xm              0.431991\n",
       "3  003aZdOERqXUCxNAS91ZZt              0.395796\n",
       "4  0052sLPmKyG6ou86BEhYjt              0.508495"
      ]
     },
     "execution_count": 765,
     "metadata": {},
     "output_type": "execute_result"
    }
   ],
   "source": [
    "artist_predictions.head()"
   ]
  },
  {
   "cell_type": "code",
   "execution_count": 777,
   "metadata": {
    "ExecuteTime": {
     "end_time": "2021-02-19T09:51:16.979927Z",
     "start_time": "2021-02-19T09:51:16.854678Z"
    }
   },
   "outputs": [],
   "source": [
    "# Combining the artist popularities during the first three periods with the predicted popularity.\n",
    "all_popularities = y_normalized.copy().merge(artist_predictions, on=\"spotify_artist_id\")"
   ]
  },
  {
   "cell_type": "code",
   "execution_count": 778,
   "metadata": {
    "ExecuteTime": {
     "end_time": "2021-02-19T09:51:22.993678Z",
     "start_time": "2021-02-19T09:51:22.985350Z"
    }
   },
   "outputs": [
    {
     "data": {
      "text/plain": [
       "(10606, 5)"
      ]
     },
     "execution_count": 778,
     "metadata": {},
     "output_type": "execute_result"
    }
   ],
   "source": [
    "all_popularities.shape"
   ]
  },
  {
   "cell_type": "code",
   "execution_count": 779,
   "metadata": {
    "ExecuteTime": {
     "end_time": "2021-02-19T09:51:28.753188Z",
     "start_time": "2021-02-19T09:51:28.731758Z"
    }
   },
   "outputs": [
    {
     "data": {
      "text/html": [
       "<div>\n",
       "<style scoped>\n",
       "    .dataframe tbody tr th:only-of-type {\n",
       "        vertical-align: middle;\n",
       "    }\n",
       "\n",
       "    .dataframe tbody tr th {\n",
       "        vertical-align: top;\n",
       "    }\n",
       "\n",
       "    .dataframe thead th {\n",
       "        text-align: right;\n",
       "    }\n",
       "</style>\n",
       "<table border=\"1\" class=\"dataframe\">\n",
       "  <thead>\n",
       "    <tr style=\"text-align: right;\">\n",
       "      <th></th>\n",
       "      <th>spotify_artist_id</th>\n",
       "      <th>mean_value_0</th>\n",
       "      <th>mean_value_1</th>\n",
       "      <th>mean_value_2</th>\n",
       "      <th>predicted_popularity</th>\n",
       "    </tr>\n",
       "  </thead>\n",
       "  <tbody>\n",
       "    <tr>\n",
       "      <td>0</td>\n",
       "      <td>001aJOc7CSQVo3XzoLG4DK</td>\n",
       "      <td>0.514257</td>\n",
       "      <td>0.526190</td>\n",
       "      <td>0.527488</td>\n",
       "      <td>0.523658</td>\n",
       "    </tr>\n",
       "    <tr>\n",
       "      <td>1</td>\n",
       "      <td>001o475CIcdKHkvgKc9t8H</td>\n",
       "      <td>0.400116</td>\n",
       "      <td>0.499237</td>\n",
       "      <td>0.533806</td>\n",
       "      <td>0.543370</td>\n",
       "    </tr>\n",
       "    <tr>\n",
       "      <td>2</td>\n",
       "      <td>003Lrmd4Hy04kSf0wZm3xm</td>\n",
       "      <td>0.452220</td>\n",
       "      <td>0.408358</td>\n",
       "      <td>0.383475</td>\n",
       "      <td>0.431991</td>\n",
       "    </tr>\n",
       "    <tr>\n",
       "      <td>3</td>\n",
       "      <td>003aZdOERqXUCxNAS91ZZt</td>\n",
       "      <td>0.462270</td>\n",
       "      <td>0.366377</td>\n",
       "      <td>0.333776</td>\n",
       "      <td>0.395796</td>\n",
       "    </tr>\n",
       "    <tr>\n",
       "      <td>4</td>\n",
       "      <td>0052sLPmKyG6ou86BEhYjt</td>\n",
       "      <td>0.512026</td>\n",
       "      <td>0.523279</td>\n",
       "      <td>0.501090</td>\n",
       "      <td>0.508495</td>\n",
       "    </tr>\n",
       "  </tbody>\n",
       "</table>\n",
       "</div>"
      ],
      "text/plain": [
       "        spotify_artist_id  mean_value_0  mean_value_1  mean_value_2  \\\n",
       "0  001aJOc7CSQVo3XzoLG4DK      0.514257      0.526190      0.527488   \n",
       "1  001o475CIcdKHkvgKc9t8H      0.400116      0.499237      0.533806   \n",
       "2  003Lrmd4Hy04kSf0wZm3xm      0.452220      0.408358      0.383475   \n",
       "3  003aZdOERqXUCxNAS91ZZt      0.462270      0.366377      0.333776   \n",
       "4  0052sLPmKyG6ou86BEhYjt      0.512026      0.523279      0.501090   \n",
       "\n",
       "   predicted_popularity  \n",
       "0              0.523658  \n",
       "1              0.543370  \n",
       "2              0.431991  \n",
       "3              0.395796  \n",
       "4              0.508495  "
      ]
     },
     "execution_count": 779,
     "metadata": {},
     "output_type": "execute_result"
    }
   ],
   "source": [
    "# All mean popularties including the predicted one\n",
    "all_popularities.head()"
   ]
  },
  {
   "cell_type": "code",
   "execution_count": 782,
   "metadata": {
    "ExecuteTime": {
     "end_time": "2021-02-19T10:01:05.125410Z",
     "start_time": "2021-02-19T10:01:04.881635Z"
    }
   },
   "outputs": [],
   "source": [
    "# Calculating the increase in mean popularity from the current period to the predicted (next) period\n",
    "new = all_popularities[\"predicted_popularity\"]\n",
    "old = all_popularities[\"mean_value_2\"]\n",
    "all_popularities[\"predicted_increase_%\"] = ((new-old)/old)*100"
   ]
  },
  {
   "cell_type": "code",
   "execution_count": 863,
   "metadata": {
    "ExecuteTime": {
     "end_time": "2021-02-19T14:46:51.199466Z",
     "start_time": "2021-02-19T14:46:51.153694Z"
    }
   },
   "outputs": [
    {
     "data": {
      "text/html": [
       "<div>\n",
       "<style scoped>\n",
       "    .dataframe tbody tr th:only-of-type {\n",
       "        vertical-align: middle;\n",
       "    }\n",
       "\n",
       "    .dataframe tbody tr th {\n",
       "        vertical-align: top;\n",
       "    }\n",
       "\n",
       "    .dataframe thead th {\n",
       "        text-align: right;\n",
       "    }\n",
       "</style>\n",
       "<table border=\"1\" class=\"dataframe\">\n",
       "  <thead>\n",
       "    <tr style=\"text-align: right;\">\n",
       "      <th></th>\n",
       "      <th>spotify_artist_id</th>\n",
       "      <th>mean_value_0</th>\n",
       "      <th>mean_value_1</th>\n",
       "      <th>mean_value_2</th>\n",
       "      <th>predicted_popularity</th>\n",
       "      <th>predicted_increase_%</th>\n",
       "    </tr>\n",
       "  </thead>\n",
       "  <tbody>\n",
       "    <tr>\n",
       "      <td>938</td>\n",
       "      <td>0f1IECbrVV952unZkzrsg2</td>\n",
       "      <td>0.713117</td>\n",
       "      <td>0.694320</td>\n",
       "      <td>0.713490</td>\n",
       "      <td>0.752582</td>\n",
       "      <td>5.479044</td>\n",
       "    </tr>\n",
       "    <tr>\n",
       "      <td>10577</td>\n",
       "      <td>7ygNQCdpQWW7iSWAxDhvhI</td>\n",
       "      <td>0.618921</td>\n",
       "      <td>0.829181</td>\n",
       "      <td>0.730443</td>\n",
       "      <td>0.757014</td>\n",
       "      <td>3.637626</td>\n",
       "    </tr>\n",
       "    <tr>\n",
       "      <td>5310</td>\n",
       "      <td>3t2iKODSDyzoDJw7AsD99u</td>\n",
       "      <td>0.887181</td>\n",
       "      <td>0.882726</td>\n",
       "      <td>0.894163</td>\n",
       "      <td>0.909906</td>\n",
       "      <td>1.760597</td>\n",
       "    </tr>\n",
       "    <tr>\n",
       "      <td>9233</td>\n",
       "      <td>6oMRQ5H3A2XA5I3RG3leni</td>\n",
       "      <td>0.649286</td>\n",
       "      <td>0.660242</td>\n",
       "      <td>0.747850</td>\n",
       "      <td>0.760167</td>\n",
       "      <td>1.647012</td>\n",
       "    </tr>\n",
       "    <tr>\n",
       "      <td>2485</td>\n",
       "      <td>1mvpEXClANunyiHFtAXCxt</td>\n",
       "      <td>0.577119</td>\n",
       "      <td>0.749213</td>\n",
       "      <td>0.746912</td>\n",
       "      <td>0.756484</td>\n",
       "      <td>1.281584</td>\n",
       "    </tr>\n",
       "    <tr>\n",
       "      <td>...</td>\n",
       "      <td>...</td>\n",
       "      <td>...</td>\n",
       "      <td>...</td>\n",
       "      <td>...</td>\n",
       "      <td>...</td>\n",
       "      <td>...</td>\n",
       "    </tr>\n",
       "    <tr>\n",
       "      <td>7679</td>\n",
       "      <td>5gCRApTajqwbnHHPbr2Fpi</td>\n",
       "      <td>0.927597</td>\n",
       "      <td>0.896384</td>\n",
       "      <td>0.866554</td>\n",
       "      <td>0.816969</td>\n",
       "      <td>-5.722035</td>\n",
       "    </tr>\n",
       "    <tr>\n",
       "      <td>3068</td>\n",
       "      <td>2DspEsT7UXGKd2VaaedgG4</td>\n",
       "      <td>0.876023</td>\n",
       "      <td>0.880880</td>\n",
       "      <td>0.876483</td>\n",
       "      <td>0.825911</td>\n",
       "      <td>-5.769925</td>\n",
       "    </tr>\n",
       "    <tr>\n",
       "      <td>7531</td>\n",
       "      <td>5YwzDz4RJfTiMHS4tdR5Lf</td>\n",
       "      <td>0.833251</td>\n",
       "      <td>0.849527</td>\n",
       "      <td>0.855171</td>\n",
       "      <td>0.800537</td>\n",
       "      <td>-6.388598</td>\n",
       "    </tr>\n",
       "    <tr>\n",
       "      <td>6232</td>\n",
       "      <td>4YRxDV8wJFPHPTeXepOstw</td>\n",
       "      <td>0.730970</td>\n",
       "      <td>0.880641</td>\n",
       "      <td>0.922072</td>\n",
       "      <td>0.850210</td>\n",
       "      <td>-7.793474</td>\n",
       "    </tr>\n",
       "    <tr>\n",
       "      <td>4946</td>\n",
       "      <td>3cR4rhS2hBWqI7rJEBacvN</td>\n",
       "      <td>0.862633</td>\n",
       "      <td>0.838245</td>\n",
       "      <td>0.875613</td>\n",
       "      <td>0.806923</td>\n",
       "      <td>-7.844748</td>\n",
       "    </tr>\n",
       "  </tbody>\n",
       "</table>\n",
       "<p>489 rows × 6 columns</p>\n",
       "</div>"
      ],
      "text/plain": [
       "            spotify_artist_id  mean_value_0  mean_value_1  mean_value_2  \\\n",
       "938    0f1IECbrVV952unZkzrsg2      0.713117      0.694320      0.713490   \n",
       "10577  7ygNQCdpQWW7iSWAxDhvhI      0.618921      0.829181      0.730443   \n",
       "5310   3t2iKODSDyzoDJw7AsD99u      0.887181      0.882726      0.894163   \n",
       "9233   6oMRQ5H3A2XA5I3RG3leni      0.649286      0.660242      0.747850   \n",
       "2485   1mvpEXClANunyiHFtAXCxt      0.577119      0.749213      0.746912   \n",
       "...                       ...           ...           ...           ...   \n",
       "7679   5gCRApTajqwbnHHPbr2Fpi      0.927597      0.896384      0.866554   \n",
       "3068   2DspEsT7UXGKd2VaaedgG4      0.876023      0.880880      0.876483   \n",
       "7531   5YwzDz4RJfTiMHS4tdR5Lf      0.833251      0.849527      0.855171   \n",
       "6232   4YRxDV8wJFPHPTeXepOstw      0.730970      0.880641      0.922072   \n",
       "4946   3cR4rhS2hBWqI7rJEBacvN      0.862633      0.838245      0.875613   \n",
       "\n",
       "       predicted_popularity  predicted_increase_%  \n",
       "938                0.752582              5.479044  \n",
       "10577              0.757014              3.637626  \n",
       "5310               0.909906              1.760597  \n",
       "9233               0.760167              1.647012  \n",
       "2485               0.756484              1.281584  \n",
       "...                     ...                   ...  \n",
       "7679               0.816969             -5.722035  \n",
       "3068               0.825911             -5.769925  \n",
       "7531               0.800537             -6.388598  \n",
       "6232               0.850210             -7.793474  \n",
       "4946               0.806923             -7.844748  \n",
       "\n",
       "[489 rows x 6 columns]"
      ]
     },
     "execution_count": 863,
     "metadata": {},
     "output_type": "execute_result"
    }
   ],
   "source": [
    "'''\n",
    "Setting a popularity threshold at 0.75 (excluding artists with under 0.75 popularity score) and then sorting on the artists with highest predicted increases\n",
    "'''\n",
    "popularity_threshold = 0.75\n",
    "all_popularities[all_popularities[\"predicted_popularity\"]>popularity_threshold].sort_values(\"predicted_increase_%\", ascending=False)"
   ]
  },
  {
   "cell_type": "markdown",
   "metadata": {},
   "source": [
    "**The one artist to sign that is already popular, based on the model is:**"
   ]
  },
  {
   "cell_type": "code",
   "execution_count": 881,
   "metadata": {
    "ExecuteTime": {
     "end_time": "2021-02-19T15:31:13.287410Z",
     "start_time": "2021-02-19T15:31:13.264806Z"
    }
   },
   "outputs": [
    {
     "data": {
      "text/html": [
       "<div>\n",
       "<style scoped>\n",
       "    .dataframe tbody tr th:only-of-type {\n",
       "        vertical-align: middle;\n",
       "    }\n",
       "\n",
       "    .dataframe tbody tr th {\n",
       "        vertical-align: top;\n",
       "    }\n",
       "\n",
       "    .dataframe thead th {\n",
       "        text-align: right;\n",
       "    }\n",
       "</style>\n",
       "<table border=\"1\" class=\"dataframe\">\n",
       "  <thead>\n",
       "    <tr style=\"text-align: right;\">\n",
       "      <th></th>\n",
       "      <th>spotify_artist_id</th>\n",
       "      <th>artist_name</th>\n",
       "      <th>genres</th>\n",
       "      <th>country</th>\n",
       "    </tr>\n",
       "  </thead>\n",
       "  <tbody>\n",
       "    <tr>\n",
       "      <td>41025</td>\n",
       "      <td>0f1IECbrVV952unZkzrsg2</td>\n",
       "      <td>Mc Gw</td>\n",
       "      <td>[deep funk carioca]</td>\n",
       "      <td>br</td>\n",
       "    </tr>\n",
       "  </tbody>\n",
       "</table>\n",
       "</div>"
      ],
      "text/plain": [
       "            spotify_artist_id artist_name               genres country\n",
       "41025  0f1IECbrVV952unZkzrsg2       Mc Gw  [deep funk carioca]      br"
      ]
     },
     "metadata": {},
     "output_type": "display_data"
    }
   ],
   "source": [
    "# The artist top 2 artists that are predicted to grow most and have a popularity score over 0.75 for the upcoming period.\n",
    "display(check_artist(\"0f1IECbrVV952unZkzrsg2\"))"
   ]
  },
  {
   "cell_type": "code",
   "execution_count": 862,
   "metadata": {
    "ExecuteTime": {
     "end_time": "2021-02-19T14:45:58.593595Z",
     "start_time": "2021-02-19T14:45:58.426584Z"
    }
   },
   "outputs": [
    {
     "data": {
      "text/html": [
       "<div>\n",
       "<style scoped>\n",
       "    .dataframe tbody tr th:only-of-type {\n",
       "        vertical-align: middle;\n",
       "    }\n",
       "\n",
       "    .dataframe tbody tr th {\n",
       "        vertical-align: top;\n",
       "    }\n",
       "\n",
       "    .dataframe thead th {\n",
       "        text-align: right;\n",
       "    }\n",
       "</style>\n",
       "<table border=\"1\" class=\"dataframe\">\n",
       "  <thead>\n",
       "    <tr style=\"text-align: right;\">\n",
       "      <th></th>\n",
       "      <th>spotify_artist_id</th>\n",
       "      <th>mean_value_0</th>\n",
       "      <th>mean_value_1</th>\n",
       "      <th>mean_value_2</th>\n",
       "      <th>predicted_popularity</th>\n",
       "      <th>predicted_increase_%</th>\n",
       "    </tr>\n",
       "  </thead>\n",
       "  <tbody>\n",
       "    <tr>\n",
       "      <td>9006</td>\n",
       "      <td>6eaNKQQiIUDWn1BnzF4EI6</td>\n",
       "      <td>0.176132</td>\n",
       "      <td>0.088493</td>\n",
       "      <td>0.039246</td>\n",
       "      <td>0.182464</td>\n",
       "      <td>364.927680</td>\n",
       "    </tr>\n",
       "    <tr>\n",
       "      <td>2408</td>\n",
       "      <td>1jMfJHQ15Re788JJsThwOo</td>\n",
       "      <td>0.400116</td>\n",
       "      <td>0.058439</td>\n",
       "      <td>0.081376</td>\n",
       "      <td>0.203135</td>\n",
       "      <td>149.626799</td>\n",
       "    </tr>\n",
       "    <tr>\n",
       "      <td>10351</td>\n",
       "      <td>7pLUtCU60PW0ZqDUC2ZULh</td>\n",
       "      <td>0.147357</td>\n",
       "      <td>0.135483</td>\n",
       "      <td>0.114726</td>\n",
       "      <td>0.245062</td>\n",
       "      <td>113.606608</td>\n",
       "    </tr>\n",
       "    <tr>\n",
       "      <td>10106</td>\n",
       "      <td>7dn0zONpPGBUdPmzRYS7x9</td>\n",
       "      <td>0.029135</td>\n",
       "      <td>0.033377</td>\n",
       "      <td>0.117596</td>\n",
       "      <td>0.241735</td>\n",
       "      <td>105.563237</td>\n",
       "    </tr>\n",
       "    <tr>\n",
       "      <td>1023</td>\n",
       "      <td>0imTTiC5dn6qy1VNS9Ituf</td>\n",
       "      <td>0.231912</td>\n",
       "      <td>0.172918</td>\n",
       "      <td>0.150400</td>\n",
       "      <td>0.288896</td>\n",
       "      <td>92.085658</td>\n",
       "    </tr>\n",
       "    <tr>\n",
       "      <td>...</td>\n",
       "      <td>...</td>\n",
       "      <td>...</td>\n",
       "      <td>...</td>\n",
       "      <td>...</td>\n",
       "      <td>...</td>\n",
       "      <td>...</td>\n",
       "    </tr>\n",
       "    <tr>\n",
       "      <td>7679</td>\n",
       "      <td>5gCRApTajqwbnHHPbr2Fpi</td>\n",
       "      <td>0.927597</td>\n",
       "      <td>0.896384</td>\n",
       "      <td>0.866554</td>\n",
       "      <td>0.816969</td>\n",
       "      <td>-5.722035</td>\n",
       "    </tr>\n",
       "    <tr>\n",
       "      <td>3068</td>\n",
       "      <td>2DspEsT7UXGKd2VaaedgG4</td>\n",
       "      <td>0.876023</td>\n",
       "      <td>0.880880</td>\n",
       "      <td>0.876483</td>\n",
       "      <td>0.825911</td>\n",
       "      <td>-5.769925</td>\n",
       "    </tr>\n",
       "    <tr>\n",
       "      <td>7531</td>\n",
       "      <td>5YwzDz4RJfTiMHS4tdR5Lf</td>\n",
       "      <td>0.833251</td>\n",
       "      <td>0.849527</td>\n",
       "      <td>0.855171</td>\n",
       "      <td>0.800537</td>\n",
       "      <td>-6.388598</td>\n",
       "    </tr>\n",
       "    <tr>\n",
       "      <td>6232</td>\n",
       "      <td>4YRxDV8wJFPHPTeXepOstw</td>\n",
       "      <td>0.730970</td>\n",
       "      <td>0.880641</td>\n",
       "      <td>0.922072</td>\n",
       "      <td>0.850210</td>\n",
       "      <td>-7.793474</td>\n",
       "    </tr>\n",
       "    <tr>\n",
       "      <td>4946</td>\n",
       "      <td>3cR4rhS2hBWqI7rJEBacvN</td>\n",
       "      <td>0.862633</td>\n",
       "      <td>0.838245</td>\n",
       "      <td>0.875613</td>\n",
       "      <td>0.806923</td>\n",
       "      <td>-7.844748</td>\n",
       "    </tr>\n",
       "  </tbody>\n",
       "</table>\n",
       "<p>10606 rows × 6 columns</p>\n",
       "</div>"
      ],
      "text/plain": [
       "            spotify_artist_id  mean_value_0  mean_value_1  mean_value_2  \\\n",
       "9006   6eaNKQQiIUDWn1BnzF4EI6      0.176132      0.088493      0.039246   \n",
       "2408   1jMfJHQ15Re788JJsThwOo      0.400116      0.058439      0.081376   \n",
       "10351  7pLUtCU60PW0ZqDUC2ZULh      0.147357      0.135483      0.114726   \n",
       "10106  7dn0zONpPGBUdPmzRYS7x9      0.029135      0.033377      0.117596   \n",
       "1023   0imTTiC5dn6qy1VNS9Ituf      0.231912      0.172918      0.150400   \n",
       "...                       ...           ...           ...           ...   \n",
       "7679   5gCRApTajqwbnHHPbr2Fpi      0.927597      0.896384      0.866554   \n",
       "3068   2DspEsT7UXGKd2VaaedgG4      0.876023      0.880880      0.876483   \n",
       "7531   5YwzDz4RJfTiMHS4tdR5Lf      0.833251      0.849527      0.855171   \n",
       "6232   4YRxDV8wJFPHPTeXepOstw      0.730970      0.880641      0.922072   \n",
       "4946   3cR4rhS2hBWqI7rJEBacvN      0.862633      0.838245      0.875613   \n",
       "\n",
       "       predicted_popularity  predicted_increase_%  \n",
       "9006               0.182464            364.927680  \n",
       "2408               0.203135            149.626799  \n",
       "10351              0.245062            113.606608  \n",
       "10106              0.241735            105.563237  \n",
       "1023               0.288896             92.085658  \n",
       "...                     ...                   ...  \n",
       "7679               0.816969             -5.722035  \n",
       "3068               0.825911             -5.769925  \n",
       "7531               0.800537             -6.388598  \n",
       "6232               0.850210             -7.793474  \n",
       "4946               0.806923             -7.844748  \n",
       "\n",
       "[10606 rows x 6 columns]"
      ]
     },
     "execution_count": 862,
     "metadata": {},
     "output_type": "execute_result"
    }
   ],
   "source": [
    "all_popularities.sort_values(\"predicted_increase_%\", ascending=False)"
   ]
  },
  {
   "cell_type": "markdown",
   "metadata": {},
   "source": [
    "**Two artists worth looking into and that are not already popular are:**"
   ]
  },
  {
   "cell_type": "code",
   "execution_count": 879,
   "metadata": {
    "ExecuteTime": {
     "end_time": "2021-02-19T15:28:19.882530Z",
     "start_time": "2021-02-19T15:28:19.847193Z"
    }
   },
   "outputs": [
    {
     "data": {
      "text/html": [
       "<div>\n",
       "<style scoped>\n",
       "    .dataframe tbody tr th:only-of-type {\n",
       "        vertical-align: middle;\n",
       "    }\n",
       "\n",
       "    .dataframe tbody tr th {\n",
       "        vertical-align: top;\n",
       "    }\n",
       "\n",
       "    .dataframe thead th {\n",
       "        text-align: right;\n",
       "    }\n",
       "</style>\n",
       "<table border=\"1\" class=\"dataframe\">\n",
       "  <thead>\n",
       "    <tr style=\"text-align: right;\">\n",
       "      <th></th>\n",
       "      <th>spotify_artist_id</th>\n",
       "      <th>artist_name</th>\n",
       "      <th>genres</th>\n",
       "      <th>country</th>\n",
       "    </tr>\n",
       "  </thead>\n",
       "  <tbody>\n",
       "    <tr>\n",
       "      <td>45548</td>\n",
       "      <td>7pLUtCU60PW0ZqDUC2ZULh</td>\n",
       "      <td>Alex Harrington</td>\n",
       "      <td>[nu disco, new french touch, deep groove house]</td>\n",
       "      <td>us</td>\n",
       "    </tr>\n",
       "  </tbody>\n",
       "</table>\n",
       "</div>"
      ],
      "text/plain": [
       "            spotify_artist_id      artist_name  \\\n",
       "45548  7pLUtCU60PW0ZqDUC2ZULh  Alex Harrington   \n",
       "\n",
       "                                                genres country  \n",
       "45548  [nu disco, new french touch, deep groove house]      us  "
      ]
     },
     "metadata": {},
     "output_type": "display_data"
    },
    {
     "data": {
      "text/html": [
       "<div>\n",
       "<style scoped>\n",
       "    .dataframe tbody tr th:only-of-type {\n",
       "        vertical-align: middle;\n",
       "    }\n",
       "\n",
       "    .dataframe tbody tr th {\n",
       "        vertical-align: top;\n",
       "    }\n",
       "\n",
       "    .dataframe thead th {\n",
       "        text-align: right;\n",
       "    }\n",
       "</style>\n",
       "<table border=\"1\" class=\"dataframe\">\n",
       "  <thead>\n",
       "    <tr style=\"text-align: right;\">\n",
       "      <th></th>\n",
       "      <th>spotify_artist_id</th>\n",
       "      <th>artist_name</th>\n",
       "      <th>genres</th>\n",
       "      <th>country</th>\n",
       "    </tr>\n",
       "  </thead>\n",
       "  <tbody>\n",
       "    <tr>\n",
       "      <td>1321</td>\n",
       "      <td>0imTTiC5dn6qy1VNS9Ituf</td>\n",
       "      <td>Dubba-Aa</td>\n",
       "      <td>[grime, uk dancehall, uk funky, canadian post-...</td>\n",
       "      <td>None</td>\n",
       "    </tr>\n",
       "  </tbody>\n",
       "</table>\n",
       "</div>"
      ],
      "text/plain": [
       "           spotify_artist_id artist_name  \\\n",
       "1321  0imTTiC5dn6qy1VNS9Ituf    Dubba-Aa   \n",
       "\n",
       "                                                 genres country  \n",
       "1321  [grime, uk dancehall, uk funky, canadian post-...    None  "
      ]
     },
     "metadata": {},
     "output_type": "display_data"
    }
   ],
   "source": [
    "# The top 3rd and 5th artist with the highest predicted increase in mean popularity, regardless of popularity score.\n",
    "display(check_artist(\"7pLUtCU60PW0ZqDUC2ZULh\"))\n",
    "display(check_artist(\"0imTTiC5dn6qy1VNS9Ituf\"))\n"
   ]
  }
 ],
 "metadata": {
  "kernelspec": {
   "display_name": "Python 3",
   "language": "python",
   "name": "python3"
  },
  "language_info": {
   "codemirror_mode": {
    "name": "ipython",
    "version": 3
   },
   "file_extension": ".py",
   "mimetype": "text/x-python",
   "name": "python",
   "nbconvert_exporter": "python",
   "pygments_lexer": "ipython3",
   "version": "3.7.4"
  },
  "toc": {
   "base_numbering": 1,
   "nav_menu": {},
   "number_sections": false,
   "sideBar": true,
   "skip_h1_title": false,
   "title_cell": "Table of Contents",
   "title_sidebar": "Contents",
   "toc_cell": false,
   "toc_position": {},
   "toc_section_display": true,
   "toc_window_display": false
  },
  "varInspector": {
   "cols": {
    "lenName": 16,
    "lenType": 16,
    "lenVar": 40
   },
   "kernels_config": {
    "python": {
     "delete_cmd_postfix": "",
     "delete_cmd_prefix": "del ",
     "library": "var_list.py",
     "varRefreshCmd": "print(var_dic_list())"
    },
    "r": {
     "delete_cmd_postfix": ") ",
     "delete_cmd_prefix": "rm(",
     "library": "var_list.r",
     "varRefreshCmd": "cat(var_dic_list()) "
    }
   },
   "types_to_exclude": [
    "module",
    "function",
    "builtin_function_or_method",
    "instance",
    "_Feature"
   ],
   "window_display": false
  }
 },
 "nbformat": 4,
 "nbformat_minor": 2
}
